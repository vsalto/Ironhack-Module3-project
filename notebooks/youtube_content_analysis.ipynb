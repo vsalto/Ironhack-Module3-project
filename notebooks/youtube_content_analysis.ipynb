{
 "cells": [
  {
   "cell_type": "code",
   "execution_count": 1,
   "id": "b271e096-532e-4759-9417-6324b3ce506c",
   "metadata": {},
   "outputs": [],
   "source": [
    "import pandas as pd\n",
    "import numpy as np\n",
    "import matplotlib.pyplot as plt"
   ]
  },
  {
   "cell_type": "code",
   "execution_count": 2,
   "id": "5065f5b6-bc5b-49c6-89ae-6a613f0fee3a",
   "metadata": {},
   "outputs": [],
   "source": [
    "from IPython.display import JSON"
   ]
  },
  {
   "cell_type": "code",
   "execution_count": 3,
   "id": "492a4420-90d6-4d18-aa8c-d9014aad37a7",
   "metadata": {},
   "outputs": [],
   "source": [
    "from googleapiclient.discovery import build"
   ]
  },
  {
   "cell_type": "code",
   "execution_count": 8,
   "id": "358305ad-0b5d-46e9-9777-ebf429994c45",
   "metadata": {},
   "outputs": [],
   "source": [
    "file = open('API_key.txt')\n",
    "api_key = file.read()\n",
    "#api_key"
   ]
  },
  {
   "cell_type": "code",
   "execution_count": 33,
   "id": "99d1c66e-9d90-4eb8-8310-5e0ae7d24cff",
   "metadata": {},
   "outputs": [],
   "source": [
    "channel_ids = ['UC9HGzFGt7BLmWDqooUbWGBg',\n",
    "               #'UCYqdbnuvx-jJZByotoNW-5Q',\n",
    "              ]"
   ]
  },
  {
   "cell_type": "code",
   "execution_count": 34,
   "id": "b75f113e-a9ae-4c1c-916a-8758ae43d789",
   "metadata": {},
   "outputs": [],
   "source": [
    "api_service_name = \"youtube\"\n",
    "api_version = \"v3\"\n",
    "\n",
    "# Build API client\n",
    "youtube = build(api_service_name, api_version, developerKey=api_key)"
   ]
  },
  {
   "cell_type": "code",
   "execution_count": 35,
   "id": "3ddd0942-e281-437d-8f3d-80c59d003dee",
   "metadata": {},
   "outputs": [],
   "source": [
    "def get_channel_stats(youtube, channel_ids):\n",
    "    data = []\n",
    "    \n",
    "    # create request\n",
    "    request = youtube.channels().list(part=\"snippet,contentDetails,statistics\", id=channel_ids)\n",
    "    \n",
    "    response = request.execute()\n",
    "\n",
    "    # loop through the channel\n",
    "    for item in response['items']:\n",
    "        info = {'ChannelName': item['snippet']['title'],\n",
    "                'Subscribers': item['statistics']['subscriberCount'],\n",
    "                'TotalViews': item['statistics']['viewCount'],\n",
    "                'Videos': item['statistics']['videoCount'],\n",
    "                'PlaylistID': item['contentDetails']['relatedPlaylists']['uploads'],   \n",
    "               \n",
    "               }\n",
    "    data.append(info)\n",
    "    return(pd.DataFrame(data))\n",
    "\n"
   ]
  },
  {
   "cell_type": "code",
   "execution_count": 36,
   "id": "ec0e21bb-81a9-428d-a2d6-73815839a05b",
   "metadata": {},
   "outputs": [
    {
     "data": {
      "text/html": [
       "<div>\n",
       "<style scoped>\n",
       "    .dataframe tbody tr th:only-of-type {\n",
       "        vertical-align: middle;\n",
       "    }\n",
       "\n",
       "    .dataframe tbody tr th {\n",
       "        vertical-align: top;\n",
       "    }\n",
       "\n",
       "    .dataframe thead th {\n",
       "        text-align: right;\n",
       "    }\n",
       "</style>\n",
       "<table border=\"1\" class=\"dataframe\">\n",
       "  <thead>\n",
       "    <tr style=\"text-align: right;\">\n",
       "      <th></th>\n",
       "      <th>ChannelName</th>\n",
       "      <th>Subscribers</th>\n",
       "      <th>TotalViews</th>\n",
       "      <th>Videos</th>\n",
       "      <th>PlaylistID</th>\n",
       "    </tr>\n",
       "  </thead>\n",
       "  <tbody>\n",
       "    <tr>\n",
       "      <th>0</th>\n",
       "      <td>Matthew Hussey</td>\n",
       "      <td>3050000</td>\n",
       "      <td>541531749</td>\n",
       "      <td>942</td>\n",
       "      <td>UU9HGzFGt7BLmWDqooUbWGBg</td>\n",
       "    </tr>\n",
       "  </tbody>\n",
       "</table>\n",
       "</div>"
      ],
      "text/plain": [
       "      ChannelName Subscribers TotalViews Videos                PlaylistID\n",
       "0  Matthew Hussey     3050000  541531749    942  UU9HGzFGt7BLmWDqooUbWGBg"
      ]
     },
     "execution_count": 36,
     "metadata": {},
     "output_type": "execute_result"
    }
   ],
   "source": [
    "get_channel_stats(youtube, channel_ids)"
   ]
  },
  {
   "cell_type": "code",
   "execution_count": null,
   "id": "ad804d11-c2a7-4cc7-8df7-b4e4e096c0c3",
   "metadata": {},
   "outputs": [],
   "source": []
  }
 ],
 "metadata": {
  "kernelspec": {
   "display_name": "venv",
   "language": "python",
   "name": "venv"
  },
  "language_info": {
   "codemirror_mode": {
    "name": "ipython",
    "version": 3
   },
   "file_extension": ".py",
   "mimetype": "text/x-python",
   "name": "python",
   "nbconvert_exporter": "python",
   "pygments_lexer": "ipython3",
   "version": "3.11.7"
  }
 },
 "nbformat": 4,
 "nbformat_minor": 5
}
