{
 "cells": [
  {
   "cell_type": "code",
   "execution_count": 58,
   "id": "b271e096-532e-4759-9417-6324b3ce506c",
   "metadata": {},
   "outputs": [],
   "source": [
    "import pandas as pd\n",
    "import numpy as np\n",
    "import matplotlib.pyplot as plt"
   ]
  },
  {
   "cell_type": "code",
   "execution_count": 59,
   "id": "5065f5b6-bc5b-49c6-89ae-6a613f0fee3a",
   "metadata": {},
   "outputs": [],
   "source": [
    "from IPython.display import JSON"
   ]
  },
  {
   "cell_type": "code",
   "execution_count": 60,
   "id": "492a4420-90d6-4d18-aa8c-d9014aad37a7",
   "metadata": {},
   "outputs": [],
   "source": [
    "from googleapiclient.discovery import build"
   ]
  },
  {
   "cell_type": "code",
   "execution_count": 71,
   "id": "358305ad-0b5d-46e9-9777-ebf429994c45",
   "metadata": {},
   "outputs": [],
   "source": [
    "file = open('API_key.txt')\n",
    "api_key = file.read()\n",
    "#api_key"
   ]
  },
  {
   "cell_type": "code",
   "execution_count": 72,
   "id": "99d1c66e-9d90-4eb8-8310-5e0ae7d24cff",
   "metadata": {},
   "outputs": [],
   "source": [
    "channel_ids = ['UC9HGzFGt7BLmWDqooUbWGBg', #Matthew ID\n",
    "               'UCYqdbnuvx-jJZByotoNW-5Q', # Apollonia\n",
    "              ]"
   ]
  },
  {
   "cell_type": "code",
   "execution_count": 73,
   "id": "b75f113e-a9ae-4c1c-916a-8758ae43d789",
   "metadata": {},
   "outputs": [],
   "source": [
    "api_service_name = \"youtube\"\n",
    "api_version = \"v3\"\n",
    "\n",
    "# Build API client\n",
    "youtube = build(api_service_name, api_version, developerKey=api_key)"
   ]
  },
  {
   "cell_type": "code",
   "execution_count": 74,
   "id": "3ddd0942-e281-437d-8f3d-80c59d003dee",
   "metadata": {},
   "outputs": [],
   "source": [
    "def get_channel_stats(youtube, channel_ids):\n",
    "    data = []\n",
    "    \n",
    "    # create request\n",
    "    request = youtube.channels().list(part=\"snippet,contentDetails,statistics\", id=channel_ids)\n",
    "    \n",
    "    response = request.execute()\n",
    "\n",
    "    # loop through the channel\n",
    "    for item in response['items']:\n",
    "        info = {'ChannelName': item['snippet']['title'],\n",
    "                'Subscribers': item['statistics']['subscriberCount'],\n",
    "                'TotalViews': item['statistics']['viewCount'],\n",
    "                'Videos': item['statistics']['videoCount'],\n",
    "                'PlaylistID': item['contentDetails']['relatedPlaylists']['uploads'],   \n",
    "               \n",
    "               }\n",
    "        data.append(info)\n",
    "    return(pd.DataFrame(data))\n",
    "\n"
   ]
  },
  {
   "cell_type": "code",
   "execution_count": 75,
   "id": "ec0e21bb-81a9-428d-a2d6-73815839a05b",
   "metadata": {},
   "outputs": [
    {
     "data": {
      "text/html": [
       "<div>\n",
       "<style scoped>\n",
       "    .dataframe tbody tr th:only-of-type {\n",
       "        vertical-align: middle;\n",
       "    }\n",
       "\n",
       "    .dataframe tbody tr th {\n",
       "        vertical-align: top;\n",
       "    }\n",
       "\n",
       "    .dataframe thead th {\n",
       "        text-align: right;\n",
       "    }\n",
       "</style>\n",
       "<table border=\"1\" class=\"dataframe\">\n",
       "  <thead>\n",
       "    <tr style=\"text-align: right;\">\n",
       "      <th></th>\n",
       "      <th>ChannelName</th>\n",
       "      <th>Subscribers</th>\n",
       "      <th>TotalViews</th>\n",
       "      <th>Videos</th>\n",
       "      <th>PlaylistID</th>\n",
       "    </tr>\n",
       "  </thead>\n",
       "  <tbody>\n",
       "    <tr>\n",
       "      <th>0</th>\n",
       "      <td>Apollonia Ponti</td>\n",
       "      <td>682000</td>\n",
       "      <td>105397023</td>\n",
       "      <td>1044</td>\n",
       "      <td>UUYqdbnuvx-jJZByotoNW-5Q</td>\n",
       "    </tr>\n",
       "    <tr>\n",
       "      <th>1</th>\n",
       "      <td>Matthew Hussey</td>\n",
       "      <td>3050000</td>\n",
       "      <td>541531749</td>\n",
       "      <td>942</td>\n",
       "      <td>UU9HGzFGt7BLmWDqooUbWGBg</td>\n",
       "    </tr>\n",
       "  </tbody>\n",
       "</table>\n",
       "</div>"
      ],
      "text/plain": [
       "       ChannelName Subscribers TotalViews Videos                PlaylistID\n",
       "0  Apollonia Ponti      682000  105397023   1044  UUYqdbnuvx-jJZByotoNW-5Q\n",
       "1   Matthew Hussey     3050000  541531749    942  UU9HGzFGt7BLmWDqooUbWGBg"
      ]
     },
     "execution_count": 75,
     "metadata": {},
     "output_type": "execute_result"
    }
   ],
   "source": [
    "df = get_channel_stats(youtube, channel_ids)\n",
    "df"
   ]
  },
  {
   "cell_type": "code",
   "execution_count": 76,
   "id": "1017f446-1420-46ef-ba1a-047fc573f1d4",
   "metadata": {},
   "outputs": [
    {
     "data": {
      "application/json": {
       "etag": "eivfbkmBIQgdNyOuq5ClBCotTyg",
       "items": [
        {
         "contentDetails": {
          "videoId": "L5l_X4TXrZ8",
          "videoPublishedAt": "2024-05-19T11:45:01Z"
         },
         "etag": "u9TBmPHKP1a-QMwnjWJsWcfqLlA",
         "id": "VVU5SEd6Rkd0N0JMbVdEcW9vVWJXR0JnLkw1bF9YNFRYclo4",
         "kind": "youtube#playlistItem",
         "snippet": {
          "channelId": "UC9HGzFGt7BLmWDqooUbWGBg",
          "channelTitle": "Matthew Hussey",
          "description": "►► Get Vulnerable Stories, Real Insights, and Practical Tools Delivered Straight to Your Inbox Every Friday. \nSign up Now For My Free Weekly Newsletter, The 3 Relationships at . . .\n→ http://www.The3Relationships.com\n\n▼\nDon’t Miss Out! Subscribe to my YouTube channel now.\nI post new love life advice for you every weekend.\n\n▼\nMost people want to avoid players in dating . . . yet why do so many end up in relationships (or situationships) with them? \n\nSadly, it’s all too common to get seduced into a roller coaster romance where we feel amazing chemistry but never know where we stand with someone.\n\nToday I’m giving you the best advice I’ve given on this topic through 7 clips that will help you avoid players and find the right person. If you’re ready to rewire your brain and start attracting someone who says “yes” to a relationship, this is for you.\n\n►► Order My New Book, \"Love Life\" at → http://www.LoveLifeBook.com\n\n►► FREE Video Training: “Dating With Results” → http://www.DatingWithResults.com\n\n\n▼ Get My Latest Dating Tips and Connect With Me… ▼\n\nBlog → https://www.matthewhussey.com/blog/\n\nFacebook → https://facebook.com/CoachMatthewHussey\n\nInstagram → https://www.instagram.com/thematthewhussey\n\nTwitter → https://twitter.com/matthewhussey\n\n▼ Chapters ▼\n0:00 – 2:39 – Wrapped Up in Chemistry \n2:39 – 5:35 – “It Feels Like the Holy Grail”\n5:35 – 8:33 – Where We Get in Trouble (Feat. Ali Abdaal)\n8:33 – 10:40 – The Qualities That Need to Show Up\n10:40 – 14:07 – Is It Really an Amazing Connection?\n14:07 – 15:08 – It’s Not a Competition\n15:08 – 19:52 – Do We Have a Type? (Feat. Marie Forleo)\n\n▼ Connect with Ali Abdaal ▼\n\nWebsite → https://aliabdaal.com\n\nInstagram → https://www.instagram.com/aliabdaal/\n\nYoutube → @aliabdaal \n\n▼ Connect with Marie Forleo ▼\n\nWebsite → https://www.marieforleo.com\n\nInstagram → https://www.instagram.com/marieforleo/\n\nYoutube → @marieforleo",
          "playlistId": "UU9HGzFGt7BLmWDqooUbWGBg",
          "position": 0,
          "publishedAt": "2024-05-19T11:45:01Z",
          "resourceId": {
           "kind": "youtube#video",
           "videoId": "L5l_X4TXrZ8"
          },
          "thumbnails": {
           "default": {
            "height": 90,
            "url": "https://i.ytimg.com/vi/L5l_X4TXrZ8/default.jpg",
            "width": 120
           },
           "high": {
            "height": 360,
            "url": "https://i.ytimg.com/vi/L5l_X4TXrZ8/hqdefault.jpg",
            "width": 480
           },
           "maxres": {
            "height": 720,
            "url": "https://i.ytimg.com/vi/L5l_X4TXrZ8/maxresdefault.jpg",
            "width": 1280
           },
           "medium": {
            "height": 180,
            "url": "https://i.ytimg.com/vi/L5l_X4TXrZ8/mqdefault.jpg",
            "width": 320
           },
           "standard": {
            "height": 480,
            "url": "https://i.ytimg.com/vi/L5l_X4TXrZ8/sddefault.jpg",
            "width": 640
           }
          },
          "title": "How To AVOID Dating \"Players\"",
          "videoOwnerChannelId": "UC9HGzFGt7BLmWDqooUbWGBg",
          "videoOwnerChannelTitle": "Matthew Hussey"
         }
        },
        {
         "contentDetails": {
          "videoId": "JgKATVJUY7A",
          "videoPublishedAt": "2024-05-15T17:34:12Z"
         },
         "etag": "hOHhSS4xo8urRV1JnEEKQvqx7FI",
         "id": "VVU5SEd6Rkd0N0JMbVdEcW9vVWJXR0JnLkpnS0FUVkpVWTdB",
         "kind": "youtube#playlistItem",
         "snippet": {
          "channelId": "UC9HGzFGt7BLmWDqooUbWGBg",
          "channelTitle": "Matthew Hussey",
          "description": "►► Get Vulnerable Stories, Real Insights, and Practical Tools Delivered Straight to Your Inbox Every Friday. \nSign up Now For My Free Weekly Newsletter, The 3 Relationships at . . .\n→ http://www.The3Relationships.com\n\n▼\nDon’t Miss Out! Subscribe to my YouTube channel now.\nI post new love life advice for you every weekend.\n\n\n►► Order My New Book, \"Love Life\" at → http://www.LoveLifeBook.com\n\n►► FREE Video Training: “Dating With Results” → http://www.DatingWithResults.com\n\n\n▼ Get My Latest Dating Tips and Connect With Me… ▼\n\nBlog → https://www.matthewhussey.com/blog/\n\nFacebook → https://facebook.com/CoachMatthewHussey\n\nInstagram → https://www.instagram.com/thematthewhussey\n\nTwitter → https://twitter.com/matthewhussey\n\n▼ Connect with Sabrina ▼\n\nWebsite → https://www.sabrinazohar.com\n\nTikTok → https://www.tiktok.com/@sabrina.zohar\n\nInstagram → https://www.instagram.com/sabrina.zohar/\n\nYoutube → @Do.the.work.podcast",
          "playlistId": "UU9HGzFGt7BLmWDqooUbWGBg",
          "position": 1,
          "publishedAt": "2024-05-15T17:34:12Z",
          "resourceId": {
           "kind": "youtube#video",
           "videoId": "JgKATVJUY7A"
          },
          "thumbnails": {
           "default": {
            "height": 90,
            "url": "https://i.ytimg.com/vi/JgKATVJUY7A/default.jpg",
            "width": 120
           },
           "high": {
            "height": 360,
            "url": "https://i.ytimg.com/vi/JgKATVJUY7A/hqdefault.jpg",
            "width": 480
           },
           "maxres": {
            "height": 720,
            "url": "https://i.ytimg.com/vi/JgKATVJUY7A/maxresdefault.jpg",
            "width": 1280
           },
           "medium": {
            "height": 180,
            "url": "https://i.ytimg.com/vi/JgKATVJUY7A/mqdefault.jpg",
            "width": 320
           },
           "standard": {
            "height": 480,
            "url": "https://i.ytimg.com/vi/JgKATVJUY7A/sddefault.jpg",
            "width": 640
           }
          },
          "title": "Stop These Insecure Dating Behaviors! - w/ Sabrina Zohar",
          "videoOwnerChannelId": "UC9HGzFGt7BLmWDqooUbWGBg",
          "videoOwnerChannelTitle": "Matthew Hussey"
         }
        },
        {
         "contentDetails": {
          "videoId": "ZQ13ZgSJwic",
          "videoPublishedAt": "2024-05-15T15:00:36Z"
         },
         "etag": "5wyb0uWe5lvVhJlfUr3lR0vE4mQ",
         "id": "VVU5SEd6Rkd0N0JMbVdEcW9vVWJXR0JnLlpRMTNaZ1NKd2lj",
         "kind": "youtube#playlistItem",
         "snippet": {
          "channelId": "UC9HGzFGt7BLmWDqooUbWGBg",
          "channelTitle": "Matthew Hussey",
          "description": "The toll pretending “we’re fine” takes on us can be profound, because internally, it only prolongs the pain that nobody else sees. \n\nSure the world might see us as strong and resilient, but in an attempt to keep up appearances, we mask our authentic experience of life, which only disconnects us further from it. \n\nTrue growth can't begin until we have the courage to accept where we are, right now—acknowledging our truths, facing our fears, and embracing our vulnerabilities. \n\nGetting people to this place of radical acceptance is the starting point of my Retreat program. Over 6 immersive days, we create a safe environment to confront those truths, shed the weight of pretense, and heal.\n\nSo if 2024 is the year you want to confront life's complexities head-on, with courage and self-compassion, this is your invitation. Come join me. Apply now at MHRetreat.com",
          "playlistId": "UU9HGzFGt7BLmWDqooUbWGBg",
          "position": 2,
          "publishedAt": "2024-05-15T15:00:36Z",
          "resourceId": {
           "kind": "youtube#video",
           "videoId": "ZQ13ZgSJwic"
          },
          "thumbnails": {
           "default": {
            "height": 90,
            "url": "https://i.ytimg.com/vi/ZQ13ZgSJwic/default.jpg",
            "width": 120
           },
           "high": {
            "height": 360,
            "url": "https://i.ytimg.com/vi/ZQ13ZgSJwic/hqdefault.jpg",
            "width": 480
           },
           "maxres": {
            "height": 720,
            "url": "https://i.ytimg.com/vi/ZQ13ZgSJwic/maxresdefault.jpg",
            "width": 1280
           },
           "medium": {
            "height": 180,
            "url": "https://i.ytimg.com/vi/ZQ13ZgSJwic/mqdefault.jpg",
            "width": 320
           },
           "standard": {
            "height": 480,
            "url": "https://i.ytimg.com/vi/ZQ13ZgSJwic/sddefault.jpg",
            "width": 640
           }
          },
          "title": "The Problem With Pretending We're \"Fine\"",
          "videoOwnerChannelId": "UC9HGzFGt7BLmWDqooUbWGBg",
          "videoOwnerChannelTitle": "Matthew Hussey"
         }
        },
        {
         "contentDetails": {
          "videoId": "nHqyyt66dQk",
          "videoPublishedAt": "2024-05-12T12:05:06Z"
         },
         "etag": "-ePjuosyqMERaQHSXHjZgE5WMgw",
         "id": "VVU5SEd6Rkd0N0JMbVdEcW9vVWJXR0JnLm5IcXl5dDY2ZFFr",
         "kind": "youtube#playlistItem",
         "snippet": {
          "channelId": "UC9HGzFGt7BLmWDqooUbWGBg",
          "channelTitle": "Matthew Hussey",
          "description": "►► Get Vulnerable Stories, Real Insights and Practical Tools Delivered Straight to Your Inbox Every Friday.\nSign Up Now For My Weekly Newsletter, The 3 Relationships.com\n→ http://www.The3Relationships.com\n\n▼\nDon’t Miss Out! Subscribe to my YouTube channel now.\nI post new love life advice for you every weekend.\n\n\n►► Pre-Order My New Book, \"Love Life\" at → http://www.LoveLifeBook.com\n\n►► FREE Video Training: “Dating With Results” → http://www.DatingWithResults.com\n\n\n▼ Get My Latest Dating Tips and Connect With Me… ▼\n\nBlog → https://www.matthewhussey.com/blog/\n\nFacebook → https://facebook.com/CoachMatthewHussey\n\nInstagram → https://www.instagram.com/thematthewhussey\n\nTwitter → https://twitter.com/matthewhussey\n\n▼ Chapters ▼\n\n0:00 – 0:26 – Introduction\n0:26 – 2:02 – A Scarcity Mindset\n2:02 – 3:11 – THIS Is What Makes Us Stand Out in Dating\n3:11 – 4:23 – The Anxious Person’s “Fawn Response”\n4:23 – 5:43 – How an Avoidant Person Reacts  \n5:43 – 7:05 – How an Anxious Person Responds\n7:05 – 9:30 – The Secure Person’s Response\n9:30 – 10:04 – The Person Who Wants an Anxious Fawner\n10:04 – 11:12 – How About You?\n11:12 – 12:49 – The 3 Relationships",
          "playlistId": "UU9HGzFGt7BLmWDqooUbWGBg",
          "position": 3,
          "publishedAt": "2024-05-12T12:05:06Z",
          "resourceId": {
           "kind": "youtube#video",
           "videoId": "nHqyyt66dQk"
          },
          "thumbnails": {
           "default": {
            "height": 90,
            "url": "https://i.ytimg.com/vi/nHqyyt66dQk/default.jpg",
            "width": 120
           },
           "high": {
            "height": 360,
            "url": "https://i.ytimg.com/vi/nHqyyt66dQk/hqdefault.jpg",
            "width": 480
           },
           "maxres": {
            "height": 720,
            "url": "https://i.ytimg.com/vi/nHqyyt66dQk/maxresdefault.jpg",
            "width": 1280
           },
           "medium": {
            "height": 180,
            "url": "https://i.ytimg.com/vi/nHqyyt66dQk/mqdefault.jpg",
            "width": 320
           },
           "standard": {
            "height": 480,
            "url": "https://i.ytimg.com/vi/nHqyyt66dQk/sddefault.jpg",
            "width": 640
           }
          },
          "title": "THIS Is the Most Dangerous Moment in Dating... Here's Why",
          "videoOwnerChannelId": "UC9HGzFGt7BLmWDqooUbWGBg",
          "videoOwnerChannelTitle": "Matthew Hussey"
         }
        },
        {
         "contentDetails": {
          "videoId": "l_Cjd2ya5R0",
          "videoPublishedAt": "2024-05-11T15:00:42Z"
         },
         "etag": "BIC8yYJCyQ_33ifyAoouRvqEEXY",
         "id": "VVU5SEd6Rkd0N0JMbVdEcW9vVWJXR0JnLmxfQ2pkMnlhNVIw",
         "kind": "youtube#playlistItem",
         "snippet": {
          "channelId": "UC9HGzFGt7BLmWDqooUbWGBg",
          "channelTitle": "Matthew Hussey",
          "description": "Why is it that we're drawn to people who treat us poorly? It's a complex issue with countless reasons. Yet there's one reason in particular that goes to the core of why so many people struggle with this, and it's \"familiarity.\"\n\nThe truth is, there's something strangely familiar about these individuals and their behavior. It might be traced back to our childhood, how our caregivers treated us, or even the experiences that have silently shaped our perception of love.\n\nIf this resonates with you, please give yourself some compassion, because it's not your fault. Many of us developed these responses when survival instincts, not conscious choices, dictated our actions.\n\nThank you, @lewishowes for having me on your show! You can see the full podcast on his channel.\n\n#MatthewHussey #RelationshipAdvice #DatingAdvice",
          "playlistId": "UU9HGzFGt7BLmWDqooUbWGBg",
          "position": 4,
          "publishedAt": "2024-05-11T15:00:42Z",
          "resourceId": {
           "kind": "youtube#video",
           "videoId": "l_Cjd2ya5R0"
          },
          "thumbnails": {
           "default": {
            "height": 90,
            "url": "https://i.ytimg.com/vi/l_Cjd2ya5R0/default.jpg",
            "width": 120
           },
           "high": {
            "height": 360,
            "url": "https://i.ytimg.com/vi/l_Cjd2ya5R0/hqdefault.jpg",
            "width": 480
           },
           "maxres": {
            "height": 720,
            "url": "https://i.ytimg.com/vi/l_Cjd2ya5R0/maxresdefault.jpg",
            "width": 1280
           },
           "medium": {
            "height": 180,
            "url": "https://i.ytimg.com/vi/l_Cjd2ya5R0/mqdefault.jpg",
            "width": 320
           },
           "standard": {
            "height": 480,
            "url": "https://i.ytimg.com/vi/l_Cjd2ya5R0/sddefault.jpg",
            "width": 640
           }
          },
          "title": "Attracted to the Wrong People?",
          "videoOwnerChannelId": "UC9HGzFGt7BLmWDqooUbWGBg",
          "videoOwnerChannelTitle": "Matthew Hussey"
         }
        },
        {
         "contentDetails": {
          "videoId": "rMSIPaN25vI",
          "videoPublishedAt": "2024-05-10T15:00:52Z"
         },
         "etag": "FIzHwYT39Y71TzCfX6_3_rI-Tf4",
         "id": "VVU5SEd6Rkd0N0JMbVdEcW9vVWJXR0JnLnJNU0lQYU4yNXZJ",
         "kind": "youtube#playlistItem",
         "snippet": {
          "channelId": "UC9HGzFGt7BLmWDqooUbWGBg",
          "channelTitle": "Matthew Hussey",
          "description": "I believe many of you will relate to this . . . You break up with someone or tell them after a couple of dates that you don't feel you'd be a good fit. And then, guilt creeps in. And even though you know you did the right thing, the pain seems to become unbearable. Why is that? Well, maybe this is what your guilt actually means 👆 \n\nThank you, @ChrisWillx  for having me!",
          "playlistId": "UU9HGzFGt7BLmWDqooUbWGBg",
          "position": 5,
          "publishedAt": "2024-05-10T15:00:52Z",
          "resourceId": {
           "kind": "youtube#video",
           "videoId": "rMSIPaN25vI"
          },
          "thumbnails": {
           "default": {
            "height": 90,
            "url": "https://i.ytimg.com/vi/rMSIPaN25vI/default.jpg",
            "width": 120
           },
           "high": {
            "height": 360,
            "url": "https://i.ytimg.com/vi/rMSIPaN25vI/hqdefault.jpg",
            "width": 480
           },
           "maxres": {
            "height": 720,
            "url": "https://i.ytimg.com/vi/rMSIPaN25vI/maxresdefault.jpg",
            "width": 1280
           },
           "medium": {
            "height": 180,
            "url": "https://i.ytimg.com/vi/rMSIPaN25vI/mqdefault.jpg",
            "width": 320
           },
           "standard": {
            "height": 480,
            "url": "https://i.ytimg.com/vi/rMSIPaN25vI/sddefault.jpg",
            "width": 640
           }
          },
          "title": "Feeling Guilty After a Breakup? Watch This",
          "videoOwnerChannelId": "UC9HGzFGt7BLmWDqooUbWGBg",
          "videoOwnerChannelTitle": "Matthew Hussey"
         }
        },
        {
         "contentDetails": {
          "videoId": "v-7h8fxhTFQ",
          "videoPublishedAt": "2024-05-09T15:00:48Z"
         },
         "etag": "-LguuLw87QViGinDhtr85iLoSVA",
         "id": "VVU5SEd6Rkd0N0JMbVdEcW9vVWJXR0JnLnYtN2g4ZnhoVEZR",
         "kind": "youtube#playlistItem",
         "snippet": {
          "channelId": "UC9HGzFGt7BLmWDqooUbWGBg",
          "channelTitle": "Matthew Hussey",
          "description": "What does a healthy relationship actually look like? \n\nIt takes two people, each with a strong sense of self-worth and intrinsic value, who desire to build something together. This special alchemy results in a 1 + 1 = 3 equation, where they bring out the best in each other—benefiting themselves individually as well as the relationship as a whole.\n\nP.S. If you're in a place where you know you need to start building your own value, my next In-Person Retreat in Florida is taking place this September 9 - 15. Head over to MHRetreat.com to learn more about this immersive 6-day process where, together, we'll transform your self-worth and design your best life, regardless of your relationship status.\n\n#Shorts #MatthewHussey #RelationshipAdvice",
          "playlistId": "UU9HGzFGt7BLmWDqooUbWGBg",
          "position": 6,
          "publishedAt": "2024-05-09T15:00:48Z",
          "resourceId": {
           "kind": "youtube#video",
           "videoId": "v-7h8fxhTFQ"
          },
          "thumbnails": {
           "default": {
            "height": 90,
            "url": "https://i.ytimg.com/vi/v-7h8fxhTFQ/default.jpg",
            "width": 120
           },
           "high": {
            "height": 360,
            "url": "https://i.ytimg.com/vi/v-7h8fxhTFQ/hqdefault.jpg",
            "width": 480
           },
           "maxres": {
            "height": 720,
            "url": "https://i.ytimg.com/vi/v-7h8fxhTFQ/maxresdefault.jpg",
            "width": 1280
           },
           "medium": {
            "height": 180,
            "url": "https://i.ytimg.com/vi/v-7h8fxhTFQ/mqdefault.jpg",
            "width": 320
           },
           "standard": {
            "height": 480,
            "url": "https://i.ytimg.com/vi/v-7h8fxhTFQ/sddefault.jpg",
            "width": 640
           }
          },
          "title": "Building A HEALTHY RELATIONSHIP Starts With Us",
          "videoOwnerChannelId": "UC9HGzFGt7BLmWDqooUbWGBg",
          "videoOwnerChannelTitle": "Matthew Hussey"
         }
        },
        {
         "contentDetails": {
          "videoId": "Xvk_v7uYgPw",
          "videoPublishedAt": "2024-05-05T11:45:01Z"
         },
         "etag": "pN2gFm_u5vKIGoucLbtcMVDp8tQ",
         "id": "VVU5SEd6Rkd0N0JMbVdEcW9vVWJXR0JnLlh2a192N3VZZ1B3",
         "kind": "youtube#playlistItem",
         "snippet": {
          "channelId": "UC9HGzFGt7BLmWDqooUbWGBg",
          "channelTitle": "Matthew Hussey",
          "description": "►► Transform Your Relationship with Life in 6 Magical Days.\nLearn More About My Retreat at. . . \n→ http://www.MHRetreat.com\n\n▼\nDon’t Miss Out! Subscribe to my YouTube channel now.\nI post new love life advice for you every weekend.\n\n▼\nOver the past week, so many of you have expressed how much Angela’s story in my new book, Love Life, touched you deeply (in the chapter titled “Have Hard Conversations”). So this week I thought I’d share the actual interview with her from my Live Retreat.\n\nI’ve found that one of the biggest confidence-killers in dating happens when we dwell on the reasons why someone may not be attracted to us. Our looks, our age, our past, even the fact that we have kids—the fear of rejection for who we are can stop us before we get started.\n \nAngela’s story is one of the most impactful I’ve heard on confidence and insecurity, and I think you’ll love hearing it in her own words.\n\n\n►► Order My New Book, \"Love Life\" at → http://www.LoveLifeBook.com\n\n►► FREE Video Training: “Dating With Results” → http://www.DatingWithResults.com\n\n\n▼ Get My Latest Dating Tips and Connect With Me… ▼\n\nBlog → https://www.matthewhussey.com/blog/\n\nFacebook → https://facebook.com/CoachMatthewHussey\n\nInstagram → https://www.instagram.com/thematthewhussey\n\nTwitter → https://twitter.com/matthewhussey\n\n▼ Chapters ▼\n0:00 – 1:54 – A Massive Thank You\n1:54 – 6:56 – “My Self-Worth Was on the Ground”\n6:56 – 10:22 – “And What . . . ?”\n10:22 – 18:38 – The Phone Call\n18:38 – 21:18 – “What Was Holding Me Back”\n21:18 – 25:37 – “It Was Life-Changing”\n25:37 – 27:29 – Don’t Miss the Live Retreat",
          "playlistId": "UU9HGzFGt7BLmWDqooUbWGBg",
          "position": 7,
          "publishedAt": "2024-05-05T11:45:01Z",
          "resourceId": {
           "kind": "youtube#video",
           "videoId": "Xvk_v7uYgPw"
          },
          "thumbnails": {
           "default": {
            "height": 90,
            "url": "https://i.ytimg.com/vi/Xvk_v7uYgPw/default.jpg",
            "width": 120
           },
           "high": {
            "height": 360,
            "url": "https://i.ytimg.com/vi/Xvk_v7uYgPw/hqdefault.jpg",
            "width": 480
           },
           "maxres": {
            "height": 720,
            "url": "https://i.ytimg.com/vi/Xvk_v7uYgPw/maxresdefault.jpg",
            "width": 1280
           },
           "medium": {
            "height": 180,
            "url": "https://i.ytimg.com/vi/Xvk_v7uYgPw/mqdefault.jpg",
            "width": 320
           },
           "standard": {
            "height": 480,
            "url": "https://i.ytimg.com/vi/Xvk_v7uYgPw/sddefault.jpg",
            "width": 640
           }
          },
          "title": "Afraid You'll Never Find Love? You NEED to Hear THIS",
          "videoOwnerChannelId": "UC9HGzFGt7BLmWDqooUbWGBg",
          "videoOwnerChannelTitle": "Matthew Hussey"
         }
        },
        {
         "contentDetails": {
          "videoId": "10CsOVtc0EE",
          "videoPublishedAt": "2024-05-03T16:03:14Z"
         },
         "etag": "3Q1tGPZeJvz-iBBp9TtZFcTfycc",
         "id": "VVU5SEd6Rkd0N0JMbVdEcW9vVWJXR0JnLjEwQ3NPVnRjMEVF",
         "kind": "youtube#playlistItem",
         "snippet": {
          "channelId": "UC9HGzFGt7BLmWDqooUbWGBg",
          "channelTitle": "Matthew Hussey",
          "description": "Stopping by to say hi, answer a few questions and let you know about something exciting coming up.\r\n\r\nMy \"Find Your Person\" event is happening this Saturday, May 4th at 10am PT / 1pm ET / 6pm UK. This exclusive virtual event is only open to those who have picked up their copy of Love Life, so if you haven't gotten yours yet, don't wait! \r\n\r\nGet your copy now at https://LoveLifeBook.com and on the same page you can register your purchase using your order number and redeem your free ticket to the event, as well as be entered into the Love Life Giveaway! You could win a 1:1 with me, tickets to my retreat, your own Love Life sweater and much more. I can't wait to see you there.\r\n\r\nFor any assistance please connect with my team at support@matthewhussey.com",
          "playlistId": "UU9HGzFGt7BLmWDqooUbWGBg",
          "position": 8,
          "publishedAt": "2024-05-03T16:03:14Z",
          "resourceId": {
           "kind": "youtube#video",
           "videoId": "10CsOVtc0EE"
          },
          "thumbnails": {
           "default": {
            "height": 90,
            "url": "https://i.ytimg.com/vi/10CsOVtc0EE/default.jpg",
            "width": 120
           },
           "high": {
            "height": 360,
            "url": "https://i.ytimg.com/vi/10CsOVtc0EE/hqdefault.jpg",
            "width": 480
           },
           "maxres": {
            "height": 720,
            "url": "https://i.ytimg.com/vi/10CsOVtc0EE/maxresdefault.jpg",
            "width": 1280
           },
           "medium": {
            "height": 180,
            "url": "https://i.ytimg.com/vi/10CsOVtc0EE/mqdefault.jpg",
            "width": 320
           },
           "standard": {
            "height": 480,
            "url": "https://i.ytimg.com/vi/10CsOVtc0EE/sddefault.jpg",
            "width": 640
           }
          },
          "title": "Answering Your Questions LIVE",
          "videoOwnerChannelId": "UC9HGzFGt7BLmWDqooUbWGBg",
          "videoOwnerChannelTitle": "Matthew Hussey"
         }
        },
        {
         "contentDetails": {
          "videoId": "RpXzWZIZA-s",
          "videoPublishedAt": "2024-05-02T17:55:07Z"
         },
         "etag": "ZM2q4hKFwQ0gY1ccfNRex2R2CMM",
         "id": "VVU5SEd6Rkd0N0JMbVdEcW9vVWJXR0JnLlJwWHpXWklaQS1z",
         "kind": "youtube#playlistItem",
         "snippet": {
          "channelId": "UC9HGzFGt7BLmWDqooUbWGBg",
          "channelTitle": "Matthew Hussey",
          "description": "Stopping by to say hi, answer a few questions and let you know about something exciting coming up.\r\n\r\nMy \"Find Your Person\" event is happening this Saturday, May 4th at 10am PT / 1pm ET / 6pm UK. This exclusive virtual event is only open to those who have picked up their copy of Love Life, so if you haven't gotten yours yet, don't wait! \r\n\r\nGet your copy now at https://LoveLifeBook.com and on the same page you can register your purchase using your order number and redeem your free ticket to the event, as well as be entered into the Love Life Giveaway! You could win a 1:1 with me, tickets to my retreat, your own Love Life sweater and much more. I can't wait to see you there.\r\n\r\nFor any assistance please connect with my team at support@matthewhussey.com",
          "playlistId": "UU9HGzFGt7BLmWDqooUbWGBg",
          "position": 9,
          "publishedAt": "2024-05-02T17:55:07Z",
          "resourceId": {
           "kind": "youtube#video",
           "videoId": "RpXzWZIZA-s"
          },
          "thumbnails": {
           "default": {
            "height": 90,
            "url": "https://i.ytimg.com/vi/RpXzWZIZA-s/default.jpg",
            "width": 120
           },
           "high": {
            "height": 360,
            "url": "https://i.ytimg.com/vi/RpXzWZIZA-s/hqdefault.jpg",
            "width": 480
           },
           "maxres": {
            "height": 720,
            "url": "https://i.ytimg.com/vi/RpXzWZIZA-s/maxresdefault.jpg",
            "width": 1280
           },
           "medium": {
            "height": 180,
            "url": "https://i.ytimg.com/vi/RpXzWZIZA-s/mqdefault.jpg",
            "width": 320
           },
           "standard": {
            "height": 480,
            "url": "https://i.ytimg.com/vi/RpXzWZIZA-s/sddefault.jpg",
            "width": 640
           }
          },
          "title": "Answering Your Questions LIVE",
          "videoOwnerChannelId": "UC9HGzFGt7BLmWDqooUbWGBg",
          "videoOwnerChannelTitle": "Matthew Hussey"
         }
        },
        {
         "contentDetails": {
          "videoId": "nDUojvw9SNY",
          "videoPublishedAt": "2024-05-02T16:00:40Z"
         },
         "etag": "JWmsIdVSij9t1N0uH3n_zyKMxqM",
         "id": "VVU5SEd6Rkd0N0JMbVdEcW9vVWJXR0JnLm5EVW9qdnc5U05Z",
         "kind": "youtube#playlistItem",
         "snippet": {
          "channelId": "UC9HGzFGt7BLmWDqooUbWGBg",
          "channelTitle": "Matthew Hussey",
          "description": "My friend Lisa Bilyeu and I had a beautiful conversation about confidence, self-worth, and how to move on from unhealthy relationships! You can find the full episode on my YouTube channel and on the Love Life podcast. \n\nShe also speaks at length about this in her book \"Radical Confidence\" (which came out in paperback yesterday!) Check it out at https://RadicalConfidence.com ❤️",
          "playlistId": "UU9HGzFGt7BLmWDqooUbWGBg",
          "position": 10,
          "publishedAt": "2024-05-02T16:00:40Z",
          "resourceId": {
           "kind": "youtube#video",
           "videoId": "nDUojvw9SNY"
          },
          "thumbnails": {
           "default": {
            "height": 90,
            "url": "https://i.ytimg.com/vi/nDUojvw9SNY/default.jpg",
            "width": 120
           },
           "high": {
            "height": 360,
            "url": "https://i.ytimg.com/vi/nDUojvw9SNY/hqdefault.jpg",
            "width": 480
           },
           "maxres": {
            "height": 720,
            "url": "https://i.ytimg.com/vi/nDUojvw9SNY/maxresdefault.jpg",
            "width": 1280
           },
           "medium": {
            "height": 180,
            "url": "https://i.ytimg.com/vi/nDUojvw9SNY/mqdefault.jpg",
            "width": 320
           },
           "standard": {
            "height": 480,
            "url": "https://i.ytimg.com/vi/nDUojvw9SNY/sddefault.jpg",
            "width": 640
           }
          },
          "title": "The Importance of Choosing Yourself",
          "videoOwnerChannelId": "UC9HGzFGt7BLmWDqooUbWGBg",
          "videoOwnerChannelTitle": "Matthew Hussey"
         }
        },
        {
         "contentDetails": {
          "videoId": "FRZxv1yUghI",
          "videoPublishedAt": "2024-05-01T19:44:17Z"
         },
         "etag": "zDEEQRXC3yzULgiBRVOkJTQjxwI",
         "id": "VVU5SEd6Rkd0N0JMbVdEcW9vVWJXR0JnLkZSWnh2MXlVZ2hJ",
         "kind": "youtube#playlistItem",
         "snippet": {
          "channelId": "UC9HGzFGt7BLmWDqooUbWGBg",
          "channelTitle": "Matthew Hussey",
          "description": "Answering Your Questions LIVE\n\nMy “Find Your Person” event is happening this Saturday, May 4th at 10am PT / 1pm ET / 6pm UK. This exclusive virtual event is only open to those who have picked up their copy of Love Life, so if you haven’t gotten yours yet, don’t wait! \n\nGet your copy now at LoveLifeBook.com and on the same page you can register your purchase using your order number and redeem your free ticket to the event, as well as be entered into the Love Life Giveaway! You could win a 1:1 with me, tickets to my retreat, your own Love Life sweater and much more. I can’t wait to see you there.\n\nFor any assistance please connect with my team at support@matthewhussey.com",
          "playlistId": "UU9HGzFGt7BLmWDqooUbWGBg",
          "position": 11,
          "publishedAt": "2024-05-01T19:44:17Z",
          "resourceId": {
           "kind": "youtube#video",
           "videoId": "FRZxv1yUghI"
          },
          "thumbnails": {
           "default": {
            "height": 90,
            "url": "https://i.ytimg.com/vi/FRZxv1yUghI/default.jpg",
            "width": 120
           },
           "high": {
            "height": 360,
            "url": "https://i.ytimg.com/vi/FRZxv1yUghI/hqdefault.jpg",
            "width": 480
           },
           "maxres": {
            "height": 720,
            "url": "https://i.ytimg.com/vi/FRZxv1yUghI/maxresdefault.jpg",
            "width": 1280
           },
           "medium": {
            "height": 180,
            "url": "https://i.ytimg.com/vi/FRZxv1yUghI/mqdefault.jpg",
            "width": 320
           },
           "standard": {
            "height": 480,
            "url": "https://i.ytimg.com/vi/FRZxv1yUghI/sddefault.jpg",
            "width": 640
           }
          },
          "title": "Answering Your Questions LIVE",
          "videoOwnerChannelId": "UC9HGzFGt7BLmWDqooUbWGBg",
          "videoOwnerChannelTitle": "Matthew Hussey"
         }
        },
        {
         "contentDetails": {
          "videoId": "x3kP0-AXhio",
          "videoPublishedAt": "2024-05-01T18:06:04Z"
         },
         "etag": "z-sUTJOQ0YW5bfTvAvJ_ucCVdQI",
         "id": "VVU5SEd6Rkd0N0JMbVdEcW9vVWJXR0JnLngza1AwLUFYaGlv",
         "kind": "youtube#playlistItem",
         "snippet": {
          "channelId": "UC9HGzFGt7BLmWDqooUbWGBg",
          "channelTitle": "Matthew Hussey",
          "description": "►► Transform Your Relationship with Yourself, Others and Life Itself.\nJoin Me For 6 Days of Coaching Immersion. \nTo Learn How go to. . .\n→ http://www.MHRetreat.com\n\n▼\nDon’t Miss Out! Subscribe to my YouTube channel now.\nI post new love life advice for you every weekend.\n\n\n►► Pre-Order My New Book, \"Love Life\" at → http://www.LoveLifeBook.com\n\n►► FREE Video Training: “Dating With Results” → http://www.DatingWithResults.com\n\n\n▼ Get My Latest Dating Tips and Connect With Me… ▼\n\nBlog → https://www.matthewhussey.com/blog/\n\nFacebook → https://facebook.com/CoachMatthewHussey\n\nInstagram → https://www.instagram.com/thematthewhussey\n\nTwitter → https://twitter.com/matthewhussey\n\n▼ Connect With Lisa ▼\n\nRead Radical Confidence Now → https://radicalconfidence.com/\n\nFacebook → https://www.facebook.com/lisabilyeu/\n\nInstagram → https://www.instagram.com/lisabilyeu/\n\nYoutube → https://www.youtube.com/@LisaBilyeu/\n\nTikTok → https://www.tiktok.com/@lisa_bilyeu/",
          "playlistId": "UU9HGzFGt7BLmWDqooUbWGBg",
          "position": 12,
          "publishedAt": "2024-05-01T18:06:04Z",
          "resourceId": {
           "kind": "youtube#video",
           "videoId": "x3kP0-AXhio"
          },
          "thumbnails": {
           "default": {
            "height": 90,
            "url": "https://i.ytimg.com/vi/x3kP0-AXhio/default.jpg",
            "width": 120
           },
           "high": {
            "height": 360,
            "url": "https://i.ytimg.com/vi/x3kP0-AXhio/hqdefault.jpg",
            "width": 480
           },
           "maxres": {
            "height": 720,
            "url": "https://i.ytimg.com/vi/x3kP0-AXhio/maxresdefault.jpg",
            "width": 1280
           },
           "medium": {
            "height": 180,
            "url": "https://i.ytimg.com/vi/x3kP0-AXhio/mqdefault.jpg",
            "width": 320
           },
           "standard": {
            "height": 480,
            "url": "https://i.ytimg.com/vi/x3kP0-AXhio/sddefault.jpg",
            "width": 640
           }
          },
          "title": "How to Attract and Keep the Relationship You Really Want",
          "videoOwnerChannelId": "UC9HGzFGt7BLmWDqooUbWGBg",
          "videoOwnerChannelTitle": "Matthew Hussey"
         }
        },
        {
         "contentDetails": {
          "videoId": "heCYov5NnqI",
          "videoPublishedAt": "2024-05-01T13:00:39Z"
         },
         "etag": "CmNY08U-sNrGHs1qjpKsIO9doMg",
         "id": "VVU5SEd6Rkd0N0JMbVdEcW9vVWJXR0JnLmhlQ1lvdjVObnFJ",
         "kind": "youtube#playlistItem",
         "snippet": {
          "channelId": "UC9HGzFGt7BLmWDqooUbWGBg",
          "channelTitle": "Matthew Hussey",
          "description": "Ever found yourself repeating the same negative patterns that cause you chronic pain and stress? If you have, you’ll know they can sometimes be so deeply ingrained that breaking free from them feels impossible. \n\nBut don’t underestimate your ability to liberate yourself from these chronic patterns . . . you have more control than you realize.\n\nThe first step to reclaiming your peace is to consciously identify the root cause of that pain. Ask yourself: “What is the one big domino I could shift that would make the most difference to my well-being?”\n\n#Shorts #MatthewHussey #LifeAdvice #ChronicPain",
          "playlistId": "UU9HGzFGt7BLmWDqooUbWGBg",
          "position": 13,
          "publishedAt": "2024-05-01T13:00:39Z",
          "resourceId": {
           "kind": "youtube#video",
           "videoId": "heCYov5NnqI"
          },
          "thumbnails": {
           "default": {
            "height": 90,
            "url": "https://i.ytimg.com/vi/heCYov5NnqI/default.jpg",
            "width": 120
           },
           "high": {
            "height": 360,
            "url": "https://i.ytimg.com/vi/heCYov5NnqI/hqdefault.jpg",
            "width": 480
           },
           "maxres": {
            "height": 720,
            "url": "https://i.ytimg.com/vi/heCYov5NnqI/maxresdefault.jpg",
            "width": 1280
           },
           "medium": {
            "height": 180,
            "url": "https://i.ytimg.com/vi/heCYov5NnqI/mqdefault.jpg",
            "width": 320
           },
           "standard": {
            "height": 480,
            "url": "https://i.ytimg.com/vi/heCYov5NnqI/sddefault.jpg",
            "width": 640
           }
          },
          "title": "Break Free From Painful Negative Patterns",
          "videoOwnerChannelId": "UC9HGzFGt7BLmWDqooUbWGBg",
          "videoOwnerChannelTitle": "Matthew Hussey"
         }
        },
        {
         "contentDetails": {
          "videoId": "KANehpUjFak",
          "videoPublishedAt": "2024-04-29T20:30:17Z"
         },
         "etag": "zHHSGxgPCK8GX4ZSGgshArztQeA",
         "id": "VVU5SEd6Rkd0N0JMbVdEcW9vVWJXR0JnLktBTmVocFVqRmFr",
         "kind": "youtube#playlistItem",
         "snippet": {
          "channelId": "UC9HGzFGt7BLmWDqooUbWGBg",
          "channelTitle": "Matthew Hussey",
          "description": "My \"Find Your Person\" event is happening this Saturday, May 4th at 10am PT / 1pm ET / 6pm UK. This exclusive virtual event is only open to those who have picked up their copy of Love Life, so if you haven't gotten yours yet, don't wait! \n\nGet your copy now at https://LoveLifeBook.com and on the same page you can register your purchase using your order number and redeem your free ticket to the event, as well as be entered into the Love Life Giveaway! You could win a 1:1 with me, tickets to my retreat, your own Love Life sweater and much more. I can't wait to see you there.\n\nFor any assistance please connect with my team at support@matthewhussey.com",
          "playlistId": "UU9HGzFGt7BLmWDqooUbWGBg",
          "position": 14,
          "publishedAt": "2024-04-29T20:30:17Z",
          "resourceId": {
           "kind": "youtube#video",
           "videoId": "KANehpUjFak"
          },
          "thumbnails": {
           "default": {
            "height": 90,
            "url": "https://i.ytimg.com/vi/KANehpUjFak/default.jpg",
            "width": 120
           },
           "high": {
            "height": 360,
            "url": "https://i.ytimg.com/vi/KANehpUjFak/hqdefault.jpg",
            "width": 480
           },
           "maxres": {
            "height": 720,
            "url": "https://i.ytimg.com/vi/KANehpUjFak/maxresdefault.jpg",
            "width": 1280
           },
           "medium": {
            "height": 180,
            "url": "https://i.ytimg.com/vi/KANehpUjFak/mqdefault.jpg",
            "width": 320
           },
           "standard": {
            "height": 480,
            "url": "https://i.ytimg.com/vi/KANehpUjFak/sddefault.jpg",
            "width": 640
           }
          },
          "title": "Stopping By To Go LIVE",
          "videoOwnerChannelId": "UC9HGzFGt7BLmWDqooUbWGBg",
          "videoOwnerChannelTitle": "Matthew Hussey"
         }
        },
        {
         "contentDetails": {
          "videoId": "EdlO3y2e1q0",
          "videoPublishedAt": "2024-04-29T16:00:19Z"
         },
         "etag": "1Bgvl1hnpwODlISb06fEDhq61Z8",
         "id": "VVU5SEd6Rkd0N0JMbVdEcW9vVWJXR0JnLkVkbE8zeTJlMXEw",
         "kind": "youtube#playlistItem",
         "snippet": {
          "channelId": "UC9HGzFGt7BLmWDqooUbWGBg",
          "channelTitle": "Matthew Hussey",
          "description": "“What if I never find the right person?”\n\nI’ve been asked this question several times a week for the last 10+ years. You may feel SO ready to share your life with someone . . . only to have had dates that fizzled out or incompatible relationships . . . or perhaps you’ve remained single with no such person on the horizon. It can even begin to feel like that’s the way it will always be.\n \nIf you’re working through feelings of longing, loneliness, or sadness—or just want to feel more excited about dating—in the full video, I share 3 tools that will help you effectively manage those difficult emotions, and give you real hope for the future (check out the related video to see more)\n\n#Shorts #MatthewHussey #Relationshipadvice #DatingAdvice",
          "playlistId": "UU9HGzFGt7BLmWDqooUbWGBg",
          "position": 15,
          "publishedAt": "2024-04-29T16:00:19Z",
          "resourceId": {
           "kind": "youtube#video",
           "videoId": "EdlO3y2e1q0"
          },
          "thumbnails": {
           "default": {
            "height": 90,
            "url": "https://i.ytimg.com/vi/EdlO3y2e1q0/default.jpg",
            "width": 120
           },
           "high": {
            "height": 360,
            "url": "https://i.ytimg.com/vi/EdlO3y2e1q0/hqdefault.jpg",
            "width": 480
           },
           "maxres": {
            "height": 720,
            "url": "https://i.ytimg.com/vi/EdlO3y2e1q0/maxresdefault.jpg",
            "width": 1280
           },
           "medium": {
            "height": 180,
            "url": "https://i.ytimg.com/vi/EdlO3y2e1q0/mqdefault.jpg",
            "width": 320
           },
           "standard": {
            "height": 480,
            "url": "https://i.ytimg.com/vi/EdlO3y2e1q0/sddefault.jpg",
            "width": 640
           }
          },
          "title": "Worried You'll Never Find The Right Person?",
          "videoOwnerChannelId": "UC9HGzFGt7BLmWDqooUbWGBg",
          "videoOwnerChannelTitle": "Matthew Hussey"
         }
        },
        {
         "contentDetails": {
          "videoId": "aS--Q2UpdPw",
          "videoPublishedAt": "2024-04-28T00:12:57Z"
         },
         "etag": "EAvJge6sU6skw2t4SiG3QMIyNO4",
         "id": "VVU5SEd6Rkd0N0JMbVdEcW9vVWJXR0JnLmFTLS1RMlVwZFB3",
         "kind": "youtube#playlistItem",
         "snippet": {
          "channelId": "UC9HGzFGt7BLmWDqooUbWGBg",
          "channelTitle": "Matthew Hussey",
          "description": "Today is the LAST day to get the full bonus package when you order your copy of Love Life at https://LoveLifeBook.com . Only until midnight PT tonight you'll get a free copy of the Happiness after Heartbreak series and the Love Myths Film to accompany your Love Life book experience. You'll also be entered into the Love Life Giveaway where you could win a 1:1 with me, tickets to my retreat, your very own Love Life sweater and so much more! \r\n\r\nDon't miss your chance to get these incredible bonuses by picking up your copy of my new book at https://LoveLifeBook.com",
          "playlistId": "UU9HGzFGt7BLmWDqooUbWGBg",
          "position": 16,
          "publishedAt": "2024-04-28T00:12:57Z",
          "resourceId": {
           "kind": "youtube#video",
           "videoId": "aS--Q2UpdPw"
          },
          "thumbnails": {
           "default": {
            "height": 90,
            "url": "https://i.ytimg.com/vi/aS--Q2UpdPw/default.jpg",
            "width": 120
           },
           "high": {
            "height": 360,
            "url": "https://i.ytimg.com/vi/aS--Q2UpdPw/hqdefault.jpg",
            "width": 480
           },
           "maxres": {
            "height": 720,
            "url": "https://i.ytimg.com/vi/aS--Q2UpdPw/maxresdefault.jpg",
            "width": 1280
           },
           "medium": {
            "height": 180,
            "url": "https://i.ytimg.com/vi/aS--Q2UpdPw/mqdefault.jpg",
            "width": 320
           },
           "standard": {
            "height": 480,
            "url": "https://i.ytimg.com/vi/aS--Q2UpdPw/sddefault.jpg",
            "width": 640
           }
          },
          "title": "Answering Your Questions LIVE",
          "videoOwnerChannelId": "UC9HGzFGt7BLmWDqooUbWGBg",
          "videoOwnerChannelTitle": "Matthew Hussey"
         }
        },
        {
         "contentDetails": {
          "videoId": "uEoyMh9GrZo",
          "videoPublishedAt": "2024-04-27T17:11:58Z"
         },
         "etag": "yonIBNrAacKJItq_5vw4qGdeVrA",
         "id": "VVU5SEd6Rkd0N0JMbVdEcW9vVWJXR0JnLnVFb3lNaDlHclpv",
         "kind": "youtube#playlistItem",
         "snippet": {
          "channelId": "UC9HGzFGt7BLmWDqooUbWGBg",
          "channelTitle": "Matthew Hussey",
          "description": "This clip is a moment from The Man Enough Podcast that I did. If you have felt this way before, I hope that this video makes you feel seen. \n\nIf you need support in dealing with these challenging emotions, I encourage you to pick up a copy of my new book, Love Life, where I cover this very topic. You can grab yours today in stores at your favourite retailer or order online at https://LoveLifeBook.com \n\nWatch the full episode on The Man Enough Podcast at . . .  \nhttps://www.youtube.com/watch?v=IqHfDlPP2Ew\nhttps://manenough.com/podcast\n\n#Shorts #MatthewHussey #RelationshipAdvice",
          "playlistId": "UU9HGzFGt7BLmWDqooUbWGBg",
          "position": 17,
          "publishedAt": "2024-04-27T17:11:58Z",
          "resourceId": {
           "kind": "youtube#video",
           "videoId": "uEoyMh9GrZo"
          },
          "thumbnails": {
           "default": {
            "height": 90,
            "url": "https://i.ytimg.com/vi/uEoyMh9GrZo/default.jpg",
            "width": 120
           },
           "high": {
            "height": 360,
            "url": "https://i.ytimg.com/vi/uEoyMh9GrZo/hqdefault.jpg",
            "width": 480
           },
           "maxres": {
            "height": 720,
            "url": "https://i.ytimg.com/vi/uEoyMh9GrZo/maxresdefault.jpg",
            "width": 1280
           },
           "medium": {
            "height": 180,
            "url": "https://i.ytimg.com/vi/uEoyMh9GrZo/mqdefault.jpg",
            "width": 320
           },
           "standard": {
            "height": 480,
            "url": "https://i.ytimg.com/vi/uEoyMh9GrZo/sddefault.jpg",
            "width": 640
           }
          },
          "title": "We Have to Stop Shaming Women for Their Fear",
          "videoOwnerChannelId": "UC9HGzFGt7BLmWDqooUbWGBg",
          "videoOwnerChannelTitle": "Matthew Hussey"
         }
        },
        {
         "contentDetails": {
          "videoId": "oB9yB5-4bXg",
          "videoPublishedAt": "2024-04-26T12:45:03Z"
         },
         "etag": "DDOeTdyJQco55wAmRvl3_du6SJo",
         "id": "VVU5SEd6Rkd0N0JMbVdEcW9vVWJXR0JnLm9COXlCNS00Ylhn",
         "kind": "youtube#playlistItem",
         "snippet": {
          "channelId": "UC9HGzFGt7BLmWDqooUbWGBg",
          "channelTitle": "Matthew Hussey",
          "description": "►► Want to Make 2024 the Year to Make Finding Love Inevitable?\nOrder Love Life Now to Get a Free Ticket to My Virtual Event Called Find Your Person on May 4 at . . .\n→ http://www.LoveLifeBook.com\n\n▼\nDon’t Miss Out! Subscribe to my YouTube channel now.\nI post new love life advice for you every weekend.\n\n▼\nYou’ve been on a date or two with someone and things are going pretty well. Then suddenly they ask you, “Wanna come over to my place and watch a movie tonight?”\n\nIs it too soon? What if you like this person but you feel it’s moving a little too fast? In today’s video, I share 5 things you need to know before you “Netflix and chill” if you want more than just a casual hookup.\n\n\n►► Pre-Order My New Book, \"Love Life\" at → http://www.LoveLifeBook.com\n\n►► FREE Video Training: “Dating With Results” → http://www.DatingWithResults.com\n\n\n▼ Get My Latest Dating Tips and Connect With Me… ▼\n\nBlog → https://www.matthewhussey.com/blog/\n\nFacebook → https://facebook.com/CoachMatthewHussey\n\nInstagram → https://www.instagram.com/thematthewhussey\n\nTwitter → https://twitter.com/matthewhussey\n\n▼ Chapters ▼\n\n0:00 – 1:48 – It’s Out!\n1:48 – 2:43 – “Netflix & Chill” on a Second Date?\n2:43 – 3:14 – Aligning With the Results You Want\n3:14 – 3:52 – #1 You Set the Pace\n3:52 – 6:19 – #2 Decide Your Boundaries Ahead of Time\n6:19 – 7:05 – #3 When Familiarity Tricks You\n7:05 – 7:39 – #4 Don’t Change Your Behavior Just Because of This\n7:39 – 8:55 – #5 Setting a Precedent When It Comes to Effort\n8:55 – 9:47 – A Word on Safety\n9:47 – 10:38 – A Whirlwind of a Week + A Heartfelt Thank You\n10:38 – 11:18 – Find Your Person",
          "playlistId": "UU9HGzFGt7BLmWDqooUbWGBg",
          "position": 18,
          "publishedAt": "2024-04-26T12:45:03Z",
          "resourceId": {
           "kind": "youtube#video",
           "videoId": "oB9yB5-4bXg"
          },
          "thumbnails": {
           "default": {
            "height": 90,
            "url": "https://i.ytimg.com/vi/oB9yB5-4bXg/default.jpg",
            "width": 120
           },
           "high": {
            "height": 360,
            "url": "https://i.ytimg.com/vi/oB9yB5-4bXg/hqdefault.jpg",
            "width": 480
           },
           "maxres": {
            "height": 720,
            "url": "https://i.ytimg.com/vi/oB9yB5-4bXg/maxresdefault.jpg",
            "width": 1280
           },
           "medium": {
            "height": 180,
            "url": "https://i.ytimg.com/vi/oB9yB5-4bXg/mqdefault.jpg",
            "width": 320
           },
           "standard": {
            "height": 480,
            "url": "https://i.ytimg.com/vi/oB9yB5-4bXg/sddefault.jpg",
            "width": 640
           }
          },
          "title": "5 Things to Know Before You “Netflix and Chill” With Someone",
          "videoOwnerChannelId": "UC9HGzFGt7BLmWDqooUbWGBg",
          "videoOwnerChannelTitle": "Matthew Hussey"
         }
        },
        {
         "contentDetails": {
          "videoId": "MlIwAZHGoVM",
          "videoPublishedAt": "2024-04-24T19:22:31Z"
         },
         "etag": "QkxGy3XPbWUL695dmhlX0HV_JiM",
         "id": "VVU5SEd6Rkd0N0JMbVdEcW9vVWJXR0JnLk1sSXdBWkhHb1ZN",
         "kind": "youtube#playlistItem",
         "snippet": {
          "channelId": "UC9HGzFGt7BLmWDqooUbWGBg",
          "channelTitle": "Matthew Hussey",
          "description": "►► Want to Make 2024 the Year You Find Love?\nJoin my FREE Virtual Event Find Your Person LIVE on May 4th at. . . \n→ http://www.LoveLifeBook.com\n\n▼\nDon’t Miss Out! Subscribe to my YouTube channel now.\nI post new love life advice for you every weekend.\n\n►► Order My New Book, \"Love Life\" at → http://www.LoveLifeBook.com\n\n►► FREE Video Training: “Dating With Results” → http://www.DatingWithResults.com\n\n▼ Get My Latest Dating Tips and Connect With Me… ▼\n\nBlog → https://www.matthewhussey.com/blog/\n\nFacebook → https://facebook.com/CoachMatthewHussey\n\nInstagram → https://www.instagram.com/thematthewhussey\n\nTwitter → https://twitter.com/matthewhussey\n\n▼ Connect with Stephen ▼\n\nYoutube → https://bit.ly/StephenHusseyYoutube\n\nInstagram → http://bit.ly/StephenHusseyIG",
          "playlistId": "UU9HGzFGt7BLmWDqooUbWGBg",
          "position": 19,
          "publishedAt": "2024-04-24T19:22:31Z",
          "resourceId": {
           "kind": "youtube#video",
           "videoId": "MlIwAZHGoVM"
          },
          "thumbnails": {
           "default": {
            "height": 90,
            "url": "https://i.ytimg.com/vi/MlIwAZHGoVM/default.jpg",
            "width": 120
           },
           "high": {
            "height": 360,
            "url": "https://i.ytimg.com/vi/MlIwAZHGoVM/hqdefault.jpg",
            "width": 480
           },
           "maxres": {
            "height": 720,
            "url": "https://i.ytimg.com/vi/MlIwAZHGoVM/maxresdefault.jpg",
            "width": 1280
           },
           "medium": {
            "height": 180,
            "url": "https://i.ytimg.com/vi/MlIwAZHGoVM/mqdefault.jpg",
            "width": 320
           },
           "standard": {
            "height": 480,
            "url": "https://i.ytimg.com/vi/MlIwAZHGoVM/sddefault.jpg",
            "width": 640
           }
          },
          "title": "How to Choose the Right Person in Love",
          "videoOwnerChannelId": "UC9HGzFGt7BLmWDqooUbWGBg",
          "videoOwnerChannelTitle": "Matthew Hussey"
         }
        },
        {
         "contentDetails": {
          "videoId": "XAfcRDSk3ac",
          "videoPublishedAt": "2024-04-23T12:00:35Z"
         },
         "etag": "DSl_jBdKnxUZAaDMIwp--36Tuts",
         "id": "VVU5SEd6Rkd0N0JMbVdEcW9vVWJXR0JnLlhBZmNSRFNrM2Fj",
         "kind": "youtube#playlistItem",
         "snippet": {
          "channelId": "UC9HGzFGt7BLmWDqooUbWGBg",
          "channelTitle": "Matthew Hussey",
          "description": "►► Get Your FREE Ticket to Find Your Person LIVE on May 4\nPLUS a Chance to Win a 1:1 with Matthew & SO Much More!\nOrder Your Copy of Love Life to Enter the Love Life Giveaway at. . . \n→ http://www.LoveLifeBook.com\n\n▼\nDon’t Miss Out! Subscribe to my YouTube channel now.\nI post new love life advice for you every weekend.\n\n►► Pre-Order My New Book, \"Love Life\" at → http://www.LoveLifeBook.com\n\n►► FREE Video Training: “Dating With Results” → http://www.DatingWithResults.com\n\n\n▼ Get My Latest Dating Tips and Connect With Me… ▼\n\nBlog → https://www.matthewhussey.com/blog/\n\nFacebook → https://facebook.com/CoachMatthewHussey\n\nInstagram → https://www.instagram.com/thematthewhussey\n\nTwitter → https://twitter.com/matthewhussey",
          "playlistId": "UU9HGzFGt7BLmWDqooUbWGBg",
          "position": 20,
          "publishedAt": "2024-04-23T12:00:35Z",
          "resourceId": {
           "kind": "youtube#video",
           "videoId": "XAfcRDSk3ac"
          },
          "thumbnails": {
           "default": {
            "height": 90,
            "url": "https://i.ytimg.com/vi/XAfcRDSk3ac/default.jpg",
            "width": 120
           },
           "high": {
            "height": 360,
            "url": "https://i.ytimg.com/vi/XAfcRDSk3ac/hqdefault.jpg",
            "width": 480
           },
           "maxres": {
            "height": 720,
            "url": "https://i.ytimg.com/vi/XAfcRDSk3ac/maxresdefault.jpg",
            "width": 1280
           },
           "medium": {
            "height": 180,
            "url": "https://i.ytimg.com/vi/XAfcRDSk3ac/mqdefault.jpg",
            "width": 320
           },
           "standard": {
            "height": 480,
            "url": "https://i.ytimg.com/vi/XAfcRDSk3ac/sddefault.jpg",
            "width": 640
           }
          },
          "title": "My VERY Best Relationship Advice to Find Love in 2024",
          "videoOwnerChannelId": "UC9HGzFGt7BLmWDqooUbWGBg",
          "videoOwnerChannelTitle": "Matthew Hussey"
         }
        },
        {
         "contentDetails": {
          "videoId": "1wWUo3K2IQ4",
          "videoPublishedAt": "2024-04-21T21:01:38Z"
         },
         "etag": "2feQVJsPrPAdNGb8kRDKDcrw_D0",
         "id": "VVU5SEd6Rkd0N0JMbVdEcW9vVWJXR0JnLjF3V1VvM0sySVE0",
         "kind": "youtube#playlistItem",
         "snippet": {
          "channelId": "UC9HGzFGt7BLmWDqooUbWGBg",
          "channelTitle": "Matthew Hussey",
          "description": "Hey everyone! Today we're discussing YOUR biggest red flags from the comments of my recent Instagram post. \r\n\r\nIf you still haven't grabbed your copy of my new book, Love Life, head over to https://LoveLifeBook.com now to pre-order your copy (releasing April 23rd!) Once you do, you'll be entered into the Love Life Giveaway where you can win a 1:1 with me, tickets to my in-person retreat in Florida, your own Love Life sweater and much more.",
          "playlistId": "UU9HGzFGt7BLmWDqooUbWGBg",
          "position": 21,
          "publishedAt": "2024-04-21T21:01:38Z",
          "resourceId": {
           "kind": "youtube#video",
           "videoId": "1wWUo3K2IQ4"
          },
          "thumbnails": {
           "default": {
            "height": 90,
            "url": "https://i.ytimg.com/vi/1wWUo3K2IQ4/default.jpg",
            "width": 120
           },
           "high": {
            "height": 360,
            "url": "https://i.ytimg.com/vi/1wWUo3K2IQ4/hqdefault.jpg",
            "width": 480
           },
           "maxres": {
            "height": 720,
            "url": "https://i.ytimg.com/vi/1wWUo3K2IQ4/maxresdefault.jpg",
            "width": 1280
           },
           "medium": {
            "height": 180,
            "url": "https://i.ytimg.com/vi/1wWUo3K2IQ4/mqdefault.jpg",
            "width": 320
           },
           "standard": {
            "height": 480,
            "url": "https://i.ytimg.com/vi/1wWUo3K2IQ4/sddefault.jpg",
            "width": 640
           }
          },
          "title": "Talking About Your Red Flags LIVE",
          "videoOwnerChannelId": "UC9HGzFGt7BLmWDqooUbWGBg",
          "videoOwnerChannelTitle": "Matthew Hussey"
         }
        },
        {
         "contentDetails": {
          "videoId": "auZ3meqfIM8",
          "videoPublishedAt": "2024-04-21T12:37:43Z"
         },
         "etag": "3K_U7bnIqKPHtMVbQezgehmMDcc",
         "id": "VVU5SEd6Rkd0N0JMbVdEcW9vVWJXR0JnLmF1WjNtZXFmSU04",
         "kind": "youtube#playlistItem",
         "snippet": {
          "channelId": "UC9HGzFGt7BLmWDqooUbWGBg",
          "channelTitle": "Matthew Hussey",
          "description": "►► Want to Make 2024 The Year You Find Love?\nJoin My Free Virtual Event Find Your Person on May 4. . .\n→ http://www.LoveLifeBook.com\n\n▼\nDon’t Miss Out! Subscribe to my YouTube channel now.\nI post new love life advice for you every weekend.\n\n▼\nI’ve been asked this question several times a week for the last 10+ years. You may feel SO ready to share your life with someone . . . only to have had dates that fizzled out or incompatible relationships . . . or perhaps you’ve remained single with no such person on the horizon. It can even begin to feel like that’s the way it will always be.\n \nIf you’re working through feelings of longing, loneliness, or sadness—or just want to feel more excited about dating—in today’s new video, I share 3 tools that will help you effectively manage those difficult emotions, and give you real hope for the future.\n\n►► Pre-Order My New Book, \"Love Life\" at → http://www.LoveLifeBook.com\n\n►► FREE Video Training: “Dating With Results” → http://www.DatingWithResults.com\n\n\n▼ Get My Latest Dating Tips and Connect With Me… ▼\n\nBlog → https://www.matthewhussey.com/blog/\n\nFacebook → https://facebook.com/CoachMatthewHussey\n\nInstagram → https://www.instagram.com/thematthewhussey\n\nTwitter → https://twitter.com/matthewhussey\n\n▼ Chapters ▼\n0:00 – 2:32 – What If It Never Happens for Me?\n2:32 – 4:20 – Dealing With Chronic Pain \n4:20 – 5:16 – The Desire to Find Another Person\n5:16 – 8:57 – #1 Everything Changes \n8:57 – 11:28 – #2 Surrender\n11:28 – 13:57 – “Happy Enough”\n13:57 – 16:12 – #3 Pay Attention to the Modulations in Your Pain\n16:12 – 17:51 – Find Your Person\n17:51 – 19:02 – Love Life!",
          "playlistId": "UU9HGzFGt7BLmWDqooUbWGBg",
          "position": 22,
          "publishedAt": "2024-04-21T12:37:43Z",
          "resourceId": {
           "kind": "youtube#video",
           "videoId": "auZ3meqfIM8"
          },
          "thumbnails": {
           "default": {
            "height": 90,
            "url": "https://i.ytimg.com/vi/auZ3meqfIM8/default.jpg",
            "width": 120
           },
           "high": {
            "height": 360,
            "url": "https://i.ytimg.com/vi/auZ3meqfIM8/hqdefault.jpg",
            "width": 480
           },
           "maxres": {
            "height": 720,
            "url": "https://i.ytimg.com/vi/auZ3meqfIM8/maxresdefault.jpg",
            "width": 1280
           },
           "medium": {
            "height": 180,
            "url": "https://i.ytimg.com/vi/auZ3meqfIM8/mqdefault.jpg",
            "width": 320
           },
           "standard": {
            "height": 480,
            "url": "https://i.ytimg.com/vi/auZ3meqfIM8/sddefault.jpg",
            "width": 640
           }
          },
          "title": "How to Deal With the Fear of Never Finding Your Person",
          "videoOwnerChannelId": "UC9HGzFGt7BLmWDqooUbWGBg",
          "videoOwnerChannelTitle": "Matthew Hussey"
         }
        },
        {
         "contentDetails": {
          "videoId": "pROjRDs2TlU",
          "videoPublishedAt": "2024-04-19T22:00:27Z"
         },
         "etag": "gG6RqGdQ8itpU-QZuoJnYrdwcu8",
         "id": "VVU5SEd6Rkd0N0JMbVdEcW9vVWJXR0JnLnBST2pSRHMyVGxV",
         "kind": "youtube#playlistItem",
         "snippet": {
          "channelId": "UC9HGzFGt7BLmWDqooUbWGBg",
          "channelTitle": "Matthew Hussey",
          "description": "Never forget that YOU are the single greatest asset of your own life. \n\nBut if fully embracing this truth is challenging, and you want help connecting with your self-worth, then join me on my upcoming Retreat this year from September 9 - 15.\n\nOver 6 empowering days together, I'll personally guide you through your journey to redefine the relationship you have with yourself at its core. \n\nJust head to MHRetreat.com to learn more about securing your place\n\n#MatthewHussey #DatingAdvice #RelationshipAdvice #shorts",
          "playlistId": "UU9HGzFGt7BLmWDqooUbWGBg",
          "position": 23,
          "publishedAt": "2024-04-19T22:00:27Z",
          "resourceId": {
           "kind": "youtube#video",
           "videoId": "pROjRDs2TlU"
          },
          "thumbnails": {
           "default": {
            "height": 90,
            "url": "https://i.ytimg.com/vi/pROjRDs2TlU/default.jpg",
            "width": 120
           },
           "high": {
            "height": 360,
            "url": "https://i.ytimg.com/vi/pROjRDs2TlU/hqdefault.jpg",
            "width": 480
           },
           "maxres": {
            "height": 720,
            "url": "https://i.ytimg.com/vi/pROjRDs2TlU/maxresdefault.jpg",
            "width": 1280
           },
           "medium": {
            "height": 180,
            "url": "https://i.ytimg.com/vi/pROjRDs2TlU/mqdefault.jpg",
            "width": 320
           },
           "standard": {
            "height": 480,
            "url": "https://i.ytimg.com/vi/pROjRDs2TlU/sddefault.jpg",
            "width": 640
           }
          },
          "title": "Ever Doubted Your Self-Worth? This Is for You...",
          "videoOwnerChannelId": "UC9HGzFGt7BLmWDqooUbWGBg",
          "videoOwnerChannelTitle": "Matthew Hussey"
         }
        },
        {
         "contentDetails": {
          "videoId": "CqUVDeYSF5s",
          "videoPublishedAt": "2024-04-19T20:22:47Z"
         },
         "etag": "ivhAPFY2DBUL9I3y38s0Nt2KOm0",
         "id": "VVU5SEd6Rkd0N0JMbVdEcW9vVWJXR0JnLkNxVVZEZVlTRjVz",
         "kind": "youtube#playlistItem",
         "snippet": {
          "channelId": "UC9HGzFGt7BLmWDqooUbWGBg",
          "channelTitle": "Matthew Hussey",
          "description": "►► Ready to Map Your Path to Make Finding Love Inevitable in 2024?\nJoin My FREE Virtual Event \"Find Your Person\" LIVE on May 4 to Learn How. . . \nReserve Your Spot Now at. . . \n→ http://www.LoveLifeBook.com\n\n▼\nDon’t Miss Out! Subscribe to my YouTube channel now.\nI post new love life advice for you every weekend.\n\n►► Pre-Order My New Book, \"Love Life\" at → http://www.LoveLifeBook.com\n\n►► FREE Video Training: “Dating With Results” → http://www.DatingWithResults.com\n\n▼ Get My Latest Dating Tips and Connect With Me… ▼\n\nBlog → https://www.matthewhussey.com/blog/\n\nFacebook → https://facebook.com/CoachMatthewHussey\n\nInstagram → https://www.instagram.com/thematthewhussey\n\nTwitter → https://twitter.com/matthewhussey\n\n▼ Connect with Audrey ▼\n\nInstagram → https://bit.ly/AudreyHusseyIG",
          "playlistId": "UU9HGzFGt7BLmWDqooUbWGBg",
          "position": 24,
          "publishedAt": "2024-04-19T20:22:47Z",
          "resourceId": {
           "kind": "youtube#video",
           "videoId": "CqUVDeYSF5s"
          },
          "thumbnails": {
           "default": {
            "height": 90,
            "url": "https://i.ytimg.com/vi/CqUVDeYSF5s/default.jpg",
            "width": 120
           },
           "high": {
            "height": 360,
            "url": "https://i.ytimg.com/vi/CqUVDeYSF5s/hqdefault.jpg",
            "width": 480
           },
           "maxres": {
            "height": 720,
            "url": "https://i.ytimg.com/vi/CqUVDeYSF5s/maxresdefault.jpg",
            "width": 1280
           },
           "medium": {
            "height": 180,
            "url": "https://i.ytimg.com/vi/CqUVDeYSF5s/mqdefault.jpg",
            "width": 320
           },
           "standard": {
            "height": 480,
            "url": "https://i.ytimg.com/vi/CqUVDeYSF5s/sddefault.jpg",
            "width": 640
           }
          },
          "title": "Should You Trust Your Instincts in Love?",
          "videoOwnerChannelId": "UC9HGzFGt7BLmWDqooUbWGBg",
          "videoOwnerChannelTitle": "Matthew Hussey"
         }
        },
        {
         "contentDetails": {
          "videoId": "GyMmQsGgqr4",
          "videoPublishedAt": "2024-04-17T20:45:00Z"
         },
         "etag": "yv_rXlHiuqjzhDwJvrjc3OGovdM",
         "id": "VVU5SEd6Rkd0N0JMbVdEcW9vVWJXR0JnLkd5TW1Rc0dncXI0",
         "kind": "youtube#playlistItem",
         "snippet": {
          "channelId": "UC9HGzFGt7BLmWDqooUbWGBg",
          "channelTitle": "Matthew Hussey",
          "description": "►► Want to Make 2024 the Year You Find Love?\nJoin My FREE Virtual Event Called Find Your Person LIVE on May 4\nReserve Your Spot Now by Going to. . .\n→ http://www.LoveLifeBook.com\n\n▼\nDon’t Miss Out! Subscribe to my YouTube channel now.\nI post new love life advice for you every weekend.\n\n►► Pre-Order My New Book, \"Love Life\" at → http://www.LoveLifeBook.com\n\n►► FREE Video Training: “Dating With Results” → http://www.DatingWithResults.com\n\n\n▼ Get My Latest Dating Tips and Connect With Me… ▼\n\nBlog → https://www.matthewhussey.com/blog/\n\nFacebook → https://facebook.com/CoachMatthewHussey\n\nInstagram → https://www.instagram.com/thematthewhussey\n\nTwitter → https://twitter.com/matthewhussey\n\n▼ Connect with Mark ▼\n\nInstagram → https://www.instagram.com/createthelove/\n\nInstagram → https://www.instagram.com/createthelove/\n\nWebsite → https://markgroves.com\n\nYoutube → https://www.youtube.com/channel/UClgLCOnztdrdu6qAOH-PVdA\n\n▼ Connect with Audrey ▼\n\nInstagram → https://bit.ly/AudreyHusseyIG",
          "playlistId": "UU9HGzFGt7BLmWDqooUbWGBg",
          "position": 25,
          "publishedAt": "2024-04-17T20:45:00Z",
          "resourceId": {
           "kind": "youtube#video",
           "videoId": "GyMmQsGgqr4"
          },
          "thumbnails": {
           "default": {
            "height": 90,
            "url": "https://i.ytimg.com/vi/GyMmQsGgqr4/default.jpg",
            "width": 120
           },
           "high": {
            "height": 360,
            "url": "https://i.ytimg.com/vi/GyMmQsGgqr4/hqdefault.jpg",
            "width": 480
           },
           "maxres": {
            "height": 720,
            "url": "https://i.ytimg.com/vi/GyMmQsGgqr4/maxresdefault.jpg",
            "width": 1280
           },
           "medium": {
            "height": 180,
            "url": "https://i.ytimg.com/vi/GyMmQsGgqr4/mqdefault.jpg",
            "width": 320
           },
           "standard": {
            "height": 480,
            "url": "https://i.ytimg.com/vi/GyMmQsGgqr4/sddefault.jpg",
            "width": 640
           }
          },
          "title": "How to Find Love With Anxious Attachment",
          "videoOwnerChannelId": "UC9HGzFGt7BLmWDqooUbWGBg",
          "videoOwnerChannelTitle": "Matthew Hussey"
         }
        },
        {
         "contentDetails": {
          "videoId": "E3xUfFMCPpk",
          "videoPublishedAt": "2024-04-16T19:05:41Z"
         },
         "etag": "KpI9OZt2eT8cjHJVj70IWWt_nhI",
         "id": "VVU5SEd6Rkd0N0JMbVdEcW9vVWJXR0JnLkUzeFVmRk1DUHBr",
         "kind": "youtube#playlistItem",
         "snippet": {
          "channelId": "UC9HGzFGt7BLmWDqooUbWGBg",
          "channelTitle": "Matthew Hussey",
          "description": "Pre-Order your copy of my new book, Love Life at https://LoveLifeBook.com\n\nSecure your copy before April 23rd to redeem your bonus package (plus be entered into my exclusive giveaway where you could win a ticket to my in-person retreat and much, much more!).",
          "playlistId": "UU9HGzFGt7BLmWDqooUbWGBg",
          "position": 26,
          "publishedAt": "2024-04-16T19:05:41Z",
          "resourceId": {
           "kind": "youtube#video",
           "videoId": "E3xUfFMCPpk"
          },
          "thumbnails": {
           "default": {
            "height": 90,
            "url": "https://i.ytimg.com/vi/E3xUfFMCPpk/default.jpg",
            "width": 120
           },
           "high": {
            "height": 360,
            "url": "https://i.ytimg.com/vi/E3xUfFMCPpk/hqdefault.jpg",
            "width": 480
           },
           "maxres": {
            "height": 720,
            "url": "https://i.ytimg.com/vi/E3xUfFMCPpk/maxresdefault.jpg",
            "width": 1280
           },
           "medium": {
            "height": 180,
            "url": "https://i.ytimg.com/vi/E3xUfFMCPpk/mqdefault.jpg",
            "width": 320
           },
           "standard": {
            "height": 480,
            "url": "https://i.ytimg.com/vi/E3xUfFMCPpk/sddefault.jpg",
            "width": 640
           }
          },
          "title": "Let's Talk LIVE About Emotional Unavailability in Dating",
          "videoOwnerChannelId": "UC9HGzFGt7BLmWDqooUbWGBg",
          "videoOwnerChannelTitle": "Matthew Hussey"
         }
        },
        {
         "contentDetails": {
          "videoId": "ChzcXB-P_bA",
          "videoPublishedAt": "2024-04-15T18:10:28Z"
         },
         "etag": "NQ1unvdas1nZFXFsWtTVxg5q9oc",
         "id": "VVU5SEd6Rkd0N0JMbVdEcW9vVWJXR0JnLkNoemNYQi1QX2JB",
         "kind": "youtube#playlistItem",
         "snippet": {
          "channelId": "UC9HGzFGt7BLmWDqooUbWGBg",
          "channelTitle": "Matthew Hussey",
          "description": "You know those moments where you look back and think, “I wish I’d known then what I know now”? Hopefully you can learn from my mistakes in my 20s and 30s to save yourself extra time (and heartache)!\n \nIf you’ve ever found yourself giving more than the other person in your relationship, felt heartbroken that someone doesn’t like you back, or chased the wrong person, you can’t miss this (Full video on my channel)\n\n#Shorts #MatthewHussey #DatingAdvice #RelationshipAdvice",
          "playlistId": "UU9HGzFGt7BLmWDqooUbWGBg",
          "position": 27,
          "publishedAt": "2024-04-15T18:10:28Z",
          "resourceId": {
           "kind": "youtube#video",
           "videoId": "ChzcXB-P_bA"
          },
          "thumbnails": {
           "default": {
            "height": 90,
            "url": "https://i.ytimg.com/vi/ChzcXB-P_bA/default.jpg",
            "width": 120
           },
           "high": {
            "height": 360,
            "url": "https://i.ytimg.com/vi/ChzcXB-P_bA/hqdefault.jpg",
            "width": 480
           },
           "maxres": {
            "height": 720,
            "url": "https://i.ytimg.com/vi/ChzcXB-P_bA/maxresdefault.jpg",
            "width": 1280
           },
           "medium": {
            "height": 180,
            "url": "https://i.ytimg.com/vi/ChzcXB-P_bA/mqdefault.jpg",
            "width": 320
           },
           "standard": {
            "height": 480,
            "url": "https://i.ytimg.com/vi/ChzcXB-P_bA/sddefault.jpg",
            "width": 640
           }
          },
          "title": "I Wish I Knew THIS When I Was Dating...",
          "videoOwnerChannelId": "UC9HGzFGt7BLmWDqooUbWGBg",
          "videoOwnerChannelTitle": "Matthew Hussey"
         }
        },
        {
         "contentDetails": {
          "videoId": "LPvuuVgqLsc",
          "videoPublishedAt": "2024-04-14T11:00:22Z"
         },
         "etag": "BhDOIfm8YT4wBUaDV17qtV_bJd8",
         "id": "VVU5SEd6Rkd0N0JMbVdEcW9vVWJXR0JnLkxQdnV1VmdxTHNj",
         "kind": "youtube#playlistItem",
         "snippet": {
          "channelId": "UC9HGzFGt7BLmWDqooUbWGBg",
          "channelTitle": "Matthew Hussey",
          "description": "►► Pre-Order Love Life Now For a Chance to Win\nOnce in a Lifetime Prizes in the Love Life Giveaway at. . .\n→ http://www.LoveLifeBook.com\n\n▼\nDon’t Miss Out! Subscribe to my YouTube channel now.\nI post new love life advice for you every weekend.\n\n▼\nYou know those moments where you look back and think, “I wish I’d known then what I know now”? Well, in today’s new video, I share the 7 things I wish I knew back when I was dating. Hopefully you can learn from my mistakes in my 20s and 30s to save yourself extra time (and heartache)!\n \nIf you’ve ever found yourself giving more than the other person in your relationship, felt heartbroken that someone doesn’t like you back, or chased the wrong person, you can’t miss this! \n\n\n►► Pre-Order My New Book, \"Love Life\" at → http://www.LoveLifeBook.com\n\n►► FREE Video Training: “Dating With Results” → http://www.DatingWithResults.com\n\n\n▼ Get My Latest Dating Tips and Connect With Me… ▼\n\nBlog → https://www.matthewhussey.com/blog/\n\nFacebook → https://facebook.com/CoachMatthewHussey\n\nInstagram → https://www.instagram.com/thematthewhussey\n\nTwitter → https://twitter.com/matthewhussey\n\n▼ Chapters ▼\n\n0:00 – 1:47 – Exclusive Giveaway\n1:47 – 3:35 – #1 You Are Not for Everyone . . . and That’s OK\n3:35 – 5:39 – #2 What We Want vs. What We Need\n5:39 – 7:43 – #3 “Hard to Get” Doesn’t Mean “Great to Keep”\n7:43 – 9:53 – #4 Intention Is Everything\n9:53 – 12:31 – #5 Get Out of the Middle\n12:31 – 14:50 – #6 Never Abandon Yourself\n14:50 – 17:40 – #7 Right Doesn’t Mean Easy\n17:40 – 18:33 – “Love Life” Is Nearly Here!",
          "playlistId": "UU9HGzFGt7BLmWDqooUbWGBg",
          "position": 28,
          "publishedAt": "2024-04-14T11:00:22Z",
          "resourceId": {
           "kind": "youtube#video",
           "videoId": "LPvuuVgqLsc"
          },
          "thumbnails": {
           "default": {
            "height": 90,
            "url": "https://i.ytimg.com/vi/LPvuuVgqLsc/default.jpg",
            "width": 120
           },
           "high": {
            "height": 360,
            "url": "https://i.ytimg.com/vi/LPvuuVgqLsc/hqdefault.jpg",
            "width": 480
           },
           "maxres": {
            "height": 720,
            "url": "https://i.ytimg.com/vi/LPvuuVgqLsc/maxresdefault.jpg",
            "width": 1280
           },
           "medium": {
            "height": 180,
            "url": "https://i.ytimg.com/vi/LPvuuVgqLsc/mqdefault.jpg",
            "width": 320
           },
           "standard": {
            "height": 480,
            "url": "https://i.ytimg.com/vi/LPvuuVgqLsc/sddefault.jpg",
            "width": 640
           }
          },
          "title": "7 Things I Wish I Knew When I Was Dating",
          "videoOwnerChannelId": "UC9HGzFGt7BLmWDqooUbWGBg",
          "videoOwnerChannelTitle": "Matthew Hussey"
         }
        },
        {
         "contentDetails": {
          "videoId": "7XnT4l0msj4",
          "videoPublishedAt": "2024-04-12T15:00:05Z"
         },
         "etag": "hy7gC1etQOekh7smdXLC03F7noY",
         "id": "VVU5SEd6Rkd0N0JMbVdEcW9vVWJXR0JnLjdYblQ0bDBtc2o0",
         "kind": "youtube#playlistItem",
         "snippet": {
          "channelId": "UC9HGzFGt7BLmWDqooUbWGBg",
          "channelTitle": "Matthew Hussey",
          "description": "What makes someone value us is when they realise that being with us is not a given, but something they have to show up to deserve ❤️ Do you agree? Tell me in the comments! \n\n#MatthewHussey #DatingAdvice #RelationshipAdvice #Shorts",
          "playlistId": "UU9HGzFGt7BLmWDqooUbWGBg",
          "position": 29,
          "publishedAt": "2024-04-12T15:00:05Z",
          "resourceId": {
           "kind": "youtube#video",
           "videoId": "7XnT4l0msj4"
          },
          "thumbnails": {
           "default": {
            "height": 90,
            "url": "https://i.ytimg.com/vi/7XnT4l0msj4/default.jpg",
            "width": 120
           },
           "high": {
            "height": 360,
            "url": "https://i.ytimg.com/vi/7XnT4l0msj4/hqdefault.jpg",
            "width": 480
           },
           "maxres": {
            "height": 720,
            "url": "https://i.ytimg.com/vi/7XnT4l0msj4/maxresdefault.jpg",
            "width": 1280
           },
           "medium": {
            "height": 180,
            "url": "https://i.ytimg.com/vi/7XnT4l0msj4/mqdefault.jpg",
            "width": 320
           },
           "standard": {
            "height": 480,
            "url": "https://i.ytimg.com/vi/7XnT4l0msj4/sddefault.jpg",
            "width": 640
           }
          },
          "title": "THIS is What Makes Someone Value You",
          "videoOwnerChannelId": "UC9HGzFGt7BLmWDqooUbWGBg",
          "videoOwnerChannelTitle": "Matthew Hussey"
         }
        },
        {
         "contentDetails": {
          "videoId": "gqhqYvRZawo",
          "videoPublishedAt": "2024-04-11T17:00:31Z"
         },
         "etag": "ImgwpOSMuOTIoY8rKMDPsYLz3lw",
         "id": "VVU5SEd6Rkd0N0JMbVdEcW9vVWJXR0JnLmdxaHFZdlJaYXdv",
         "kind": "youtube#playlistItem",
         "snippet": {
          "channelId": "UC9HGzFGt7BLmWDqooUbWGBg",
          "channelTitle": "Matthew Hussey",
          "description": "►► Want the Chance to Win a 1:1 with Matthew, a Ticket to Our 2024 Live Retreat in Florida and SO Much More?\nPre-Order Your Copy of Love Life Before April 23rd by Heading to. . .\n→ http://www.LoveLifeBook.com\n\n▼\nDon’t Miss Out! Subscribe to my YouTube channel now.\nI post new love life advice for you every weekend.\n\n►► Pre-Order My New Book, \"Love Life\" at → http://www.LoveLifeBook.com\n\n►► FREE Video Training: “Dating With Results” → http://www.DatingWithResults.com\n\n▼ Get My Latest Dating Tips and Connect With Me… ▼\n\nBlog → https://www.matthewhussey.com/blog/\n\nFacebook → https://facebook.com/CoachMatthewHussey\n\nInstagram → https://www.instagram.com/thematthewhussey\n\nTwitter → https://twitter.com/matthewhussey\n\n▼ Connect with Audrey ▼\n\nInstagram → https://bit.ly/AudreyHusseyIG",
          "playlistId": "UU9HGzFGt7BLmWDqooUbWGBg",
          "position": 30,
          "publishedAt": "2024-04-11T17:00:31Z",
          "resourceId": {
           "kind": "youtube#video",
           "videoId": "gqhqYvRZawo"
          },
          "thumbnails": {
           "default": {
            "height": 90,
            "url": "https://i.ytimg.com/vi/gqhqYvRZawo/default.jpg",
            "width": 120
           },
           "high": {
            "height": 360,
            "url": "https://i.ytimg.com/vi/gqhqYvRZawo/hqdefault.jpg",
            "width": 480
           },
           "maxres": {
            "height": 720,
            "url": "https://i.ytimg.com/vi/gqhqYvRZawo/maxresdefault.jpg",
            "width": 1280
           },
           "medium": {
            "height": 180,
            "url": "https://i.ytimg.com/vi/gqhqYvRZawo/mqdefault.jpg",
            "width": 320
           },
           "standard": {
            "height": 480,
            "url": "https://i.ytimg.com/vi/gqhqYvRZawo/sddefault.jpg",
            "width": 640
           }
          },
          "title": "Feel Confident in 10 Minutes",
          "videoOwnerChannelId": "UC9HGzFGt7BLmWDqooUbWGBg",
          "videoOwnerChannelTitle": "Matthew Hussey"
         }
        },
        {
         "contentDetails": {
          "videoId": "hruCvah4G0U",
          "videoPublishedAt": "2024-04-10T18:06:53Z"
         },
         "etag": "io8PquAiGrjUq4ewTEJ6yKAqUHE",
         "id": "VVU5SEd6Rkd0N0JMbVdEcW9vVWJXR0JnLmhydUN2YWg0RzBV",
         "kind": "youtube#playlistItem",
         "snippet": {
          "channelId": "UC9HGzFGt7BLmWDqooUbWGBg",
          "channelTitle": "Matthew Hussey",
          "description": "►► Get Your Free Ticket to Find Your Person LIVE on May 4\nPLUS a Chance to Win a 1:1 with Matthew & SO Much More!\nPre-Order Your Copy of Love Life Before April 23 to Enter the Love Life Giveaway.\nLearn More At. . .\n→ http://www.LoveLifeBook.com\n\n▼\nDon’t Miss Out! Subscribe to my YouTube channel now.\nI post new love life advice for you every weekend.\n\n►► Pre-Order My New Book, \"Love Life\" at → http://www.LoveLifeBook.com\n\n►► FREE Video Training: “Dating With Results” → http://www.DatingWithResults.com\n\n▼ Get My Latest Dating Tips and Connect With Me… ▼\n\nBlog → https://www.matthewhussey.com/blog/\n\nFacebook → https://facebook.com/CoachMatthewHussey\n\nInstagram → https://www.instagram.com/thematthewhussey\n\nTwitter → https://twitter.com/matthewhussey\n\n▼ Connect with Audrey ▼\n\nInstagram → https://bit.ly/AudreyHusseyIG",
          "playlistId": "UU9HGzFGt7BLmWDqooUbWGBg",
          "position": 31,
          "publishedAt": "2024-04-10T18:06:53Z",
          "resourceId": {
           "kind": "youtube#video",
           "videoId": "hruCvah4G0U"
          },
          "thumbnails": {
           "default": {
            "height": 90,
            "url": "https://i.ytimg.com/vi/hruCvah4G0U/default.jpg",
            "width": 120
           },
           "high": {
            "height": 360,
            "url": "https://i.ytimg.com/vi/hruCvah4G0U/hqdefault.jpg",
            "width": 480
           },
           "maxres": {
            "height": 720,
            "url": "https://i.ytimg.com/vi/hruCvah4G0U/maxresdefault.jpg",
            "width": 1280
           },
           "medium": {
            "height": 180,
            "url": "https://i.ytimg.com/vi/hruCvah4G0U/mqdefault.jpg",
            "width": 320
           },
           "standard": {
            "height": 480,
            "url": "https://i.ytimg.com/vi/hruCvah4G0U/sddefault.jpg",
            "width": 640
           }
          },
          "title": "THIS Is a Common Tactic Used to Avoid Commitment",
          "videoOwnerChannelId": "UC9HGzFGt7BLmWDqooUbWGBg",
          "videoOwnerChannelTitle": "Matthew Hussey"
         }
        },
        {
         "contentDetails": {
          "videoId": "OqJ4CC6fx8w",
          "videoPublishedAt": "2024-04-10T16:00:16Z"
         },
         "etag": "HYJ-WRRXZBPBK_SpiJ0Qsrq2SQg",
         "id": "VVU5SEd6Rkd0N0JMbVdEcW9vVWJXR0JnLk9xSjRDQzZmeDh3",
         "kind": "youtube#playlistItem",
         "snippet": {
          "channelId": "UC9HGzFGt7BLmWDqooUbWGBg",
          "channelTitle": "Matthew Hussey",
          "description": "Have you ever felt that past hurt was holding you back from finding love? Remember, you don't have to come to the relationship ready made, you just have to be open and willing to do the work with someone who understands you.\n\n #RelationshipAdvice #DatingAdvice #Shorts #MatthewHussey",
          "playlistId": "UU9HGzFGt7BLmWDqooUbWGBg",
          "position": 32,
          "publishedAt": "2024-04-10T16:00:16Z",
          "resourceId": {
           "kind": "youtube#video",
           "videoId": "OqJ4CC6fx8w"
          },
          "thumbnails": {
           "default": {
            "height": 90,
            "url": "https://i.ytimg.com/vi/OqJ4CC6fx8w/default.jpg",
            "width": 120
           },
           "high": {
            "height": 360,
            "url": "https://i.ytimg.com/vi/OqJ4CC6fx8w/hqdefault.jpg",
            "width": 480
           },
           "maxres": {
            "height": 720,
            "url": "https://i.ytimg.com/vi/OqJ4CC6fx8w/maxresdefault.jpg",
            "width": 1280
           },
           "medium": {
            "height": 180,
            "url": "https://i.ytimg.com/vi/OqJ4CC6fx8w/mqdefault.jpg",
            "width": 320
           },
           "standard": {
            "height": 480,
            "url": "https://i.ytimg.com/vi/OqJ4CC6fx8w/sddefault.jpg",
            "width": 640
           }
          },
          "title": "Is Past Hurt Holding You Back From Love?",
          "videoOwnerChannelId": "UC9HGzFGt7BLmWDqooUbWGBg",
          "videoOwnerChannelTitle": "Matthew Hussey"
         }
        },
        {
         "contentDetails": {
          "videoId": "TPtK8Yu71ds",
          "videoPublishedAt": "2024-04-07T11:00:30Z"
         },
         "etag": "1MP4TFBXRG62_Z0VHU84h28cO60",
         "id": "VVU5SEd6Rkd0N0JMbVdEcW9vVWJXR0JnLlRQdEs4WXU3MWRz",
         "kind": "youtube#playlistItem",
         "snippet": {
          "channelId": "UC9HGzFGt7BLmWDqooUbWGBg",
          "channelTitle": "Matthew Hussey",
          "description": "►► Pre Order Love Life Now for a Chance to Win One of the Incredible Prizes in the Love Life Giveaway now at. . .\n→ http://www.LoveLifeBook.com\n\n▼\nDon’t Miss Out! Subscribe to my YouTube channel now.\nI post new love life advice for you every weekend.\n\n▼\nA bad date—where we know we won’t see the person again—can be frustrating since it wastes our time. But what’s even MORE frustrating? An amazing date with someone who just disappears after seeing us only once or twice.\n \nIt leaves us wondering: “What happened?? I thought we had real chemistry!” \n\nIn today’s video, I explain exactly why someone pulls away after a first date… \n\n(and how you can tell the difference between someone who’s a keeper vs. someone who’s just telling you what you want to hear.)\n\n\n►► Pre-Order My New Book, \"Love Life\" at → http://www.LoveLifeBook.com\n\n►► FREE Video Training: “Dating With Results” → http://www.DatingWithResults.com\n\n\n▼ Get My Latest Dating Tips and Connect With Me… ▼\n\nBlog → https://www.matthewhussey.com/blog/\n\nFacebook → https://facebook.com/CoachMatthewHussey\n\nInstagram → https://www.instagram.com/thematthewhussey\n\nTwitter → https://twitter.com/matthewhussey\n\n▼ Chapters ▼",
          "playlistId": "UU9HGzFGt7BLmWDqooUbWGBg",
          "position": 33,
          "publishedAt": "2024-04-07T11:00:30Z",
          "resourceId": {
           "kind": "youtube#video",
           "videoId": "TPtK8Yu71ds"
          },
          "thumbnails": {
           "default": {
            "height": 90,
            "url": "https://i.ytimg.com/vi/TPtK8Yu71ds/default.jpg",
            "width": 120
           },
           "high": {
            "height": 360,
            "url": "https://i.ytimg.com/vi/TPtK8Yu71ds/hqdefault.jpg",
            "width": 480
           },
           "maxres": {
            "height": 720,
            "url": "https://i.ytimg.com/vi/TPtK8Yu71ds/maxresdefault.jpg",
            "width": 1280
           },
           "medium": {
            "height": 180,
            "url": "https://i.ytimg.com/vi/TPtK8Yu71ds/mqdefault.jpg",
            "width": 320
           },
           "standard": {
            "height": 480,
            "url": "https://i.ytimg.com/vi/TPtK8Yu71ds/sddefault.jpg",
            "width": 640
           }
          },
          "title": "Is a Great First Date a Red Flag?",
          "videoOwnerChannelId": "UC9HGzFGt7BLmWDqooUbWGBg",
          "videoOwnerChannelTitle": "Matthew Hussey"
         }
        },
        {
         "contentDetails": {
          "videoId": "hwhRa7S5bxs",
          "videoPublishedAt": "2024-04-03T17:00:24Z"
         },
         "etag": "skQHgOkdMcb9HAVaCLJ4w4FogXc",
         "id": "VVU5SEd6Rkd0N0JMbVdEcW9vVWJXR0JnLmh3aFJhN1M1Ynhz",
         "kind": "youtube#playlistItem",
         "snippet": {
          "channelId": "UC9HGzFGt7BLmWDqooUbWGBg",
          "channelTitle": "Matthew Hussey",
          "description": "►► Pre-Order Your Copy of My New Book, Love Life at. . .\n→ http://www.LoveLifeBook.com\n\n▼\nDon’t Miss Out! Subscribe to my YouTube channel now.\nI post new love life advice for you every weekend.\n\n►► Pre-Order My New Book, \"Love Life\" at → http://www.LoveLifeBook.com\n\n►► FREE Video Training: “Dating With Results” → http://www.DatingWithResults.com\n\n▼ Get My Latest Dating Tips and Connect With Me… ▼\n\nBlog → https://www.matthewhussey.com/blog/\n\nFacebook → https://facebook.com/CoachMatthewHussey\n\nInstagram → https://www.instagram.com/thematthewhussey\n\nTwitter → https://twitter.com/matthewhussey\n\n▼ Connect with Audrey ▼\n\nInstagram → https://bit.ly/AudreyHusseyIG",
          "playlistId": "UU9HGzFGt7BLmWDqooUbWGBg",
          "position": 34,
          "publishedAt": "2024-04-03T17:00:24Z",
          "resourceId": {
           "kind": "youtube#video",
           "videoId": "hwhRa7S5bxs"
          },
          "thumbnails": {
           "default": {
            "height": 90,
            "url": "https://i.ytimg.com/vi/hwhRa7S5bxs/default.jpg",
            "width": 120
           },
           "high": {
            "height": 360,
            "url": "https://i.ytimg.com/vi/hwhRa7S5bxs/hqdefault.jpg",
            "width": 480
           },
           "maxres": {
            "height": 720,
            "url": "https://i.ytimg.com/vi/hwhRa7S5bxs/maxresdefault.jpg",
            "width": 1280
           },
           "medium": {
            "height": 180,
            "url": "https://i.ytimg.com/vi/hwhRa7S5bxs/mqdefault.jpg",
            "width": 320
           },
           "standard": {
            "height": 480,
            "url": "https://i.ytimg.com/vi/hwhRa7S5bxs/sddefault.jpg",
            "width": 640
           }
          },
          "title": "Why So Many Are Struggling in Love",
          "videoOwnerChannelId": "UC9HGzFGt7BLmWDqooUbWGBg",
          "videoOwnerChannelTitle": "Matthew Hussey"
         }
        },
        {
         "contentDetails": {
          "videoId": "nc-xSE8MCjU",
          "videoPublishedAt": "2024-04-03T15:00:43Z"
         },
         "etag": "DgrkBBbuyyMEusSHOyuNK5TbaCU",
         "id": "VVU5SEd6Rkd0N0JMbVdEcW9vVWJXR0JnLm5jLXhTRThNQ2pV",
         "kind": "youtube#playlistItem",
         "snippet": {
          "channelId": "UC9HGzFGt7BLmWDqooUbWGBg",
          "channelTitle": "Matthew Hussey",
          "description": "Avoiding difficult conversations and letting others step over our boundaries is an act of self-betrayal.\n\nAnd the more we do it, the more we reaffirm the belief that we are not someone who deserves to be treated with respect. \n\nIf you're in a place where you feel ready to end this cycle and start showing up for yourself, I want you to know you don't have to go through this process alone. There's still time to join me and an amazing new peer group from September 9 - 15 on my upcoming In-Person Retreat in Florida.  \n\nJust head over to MHRetreat.com for more details and to speak with a Retreat Specialist about securing your spot.\n\n#Shorts #MatthewHussey #Confidence",
          "playlistId": "UU9HGzFGt7BLmWDqooUbWGBg",
          "position": 35,
          "publishedAt": "2024-04-03T15:00:43Z",
          "resourceId": {
           "kind": "youtube#video",
           "videoId": "nc-xSE8MCjU"
          },
          "thumbnails": {
           "default": {
            "height": 90,
            "url": "https://i.ytimg.com/vi/nc-xSE8MCjU/default.jpg",
            "width": 120
           },
           "high": {
            "height": 360,
            "url": "https://i.ytimg.com/vi/nc-xSE8MCjU/hqdefault.jpg",
            "width": 480
           },
           "maxres": {
            "height": 720,
            "url": "https://i.ytimg.com/vi/nc-xSE8MCjU/maxresdefault.jpg",
            "width": 1280
           },
           "medium": {
            "height": 180,
            "url": "https://i.ytimg.com/vi/nc-xSE8MCjU/mqdefault.jpg",
            "width": 320
           },
           "standard": {
            "height": 480,
            "url": "https://i.ytimg.com/vi/nc-xSE8MCjU/sddefault.jpg",
            "width": 640
           }
          },
          "title": "The Danger of Ignoring Your Boundaries . . .",
          "videoOwnerChannelId": "UC9HGzFGt7BLmWDqooUbWGBg",
          "videoOwnerChannelTitle": "Matthew Hussey"
         }
        },
        {
         "contentDetails": {
          "videoId": "bBjnAYymUo0",
          "videoPublishedAt": "2024-04-01T15:00:24Z"
         },
         "etag": "0WAxoCTRhBhN7S8rz-PIGJhKCiI",
         "id": "VVU5SEd6Rkd0N0JMbVdEcW9vVWJXR0JnLmJCam5BWXltVW8w",
         "kind": "youtube#playlistItem",
         "snippet": {
          "channelId": "UC9HGzFGt7BLmWDqooUbWGBg",
          "channelTitle": "Matthew Hussey",
          "description": "There’s one thing someone can SAY to you that basically guarantees a long-distance relationship won’t last, and I share it in this week's brand new video (watch now on my channel)\n\n#shorts #MatthewHussey #LongDistanceRelationship #DatingAdvice",
          "playlistId": "UU9HGzFGt7BLmWDqooUbWGBg",
          "position": 36,
          "publishedAt": "2024-04-01T15:00:24Z",
          "resourceId": {
           "kind": "youtube#video",
           "videoId": "bBjnAYymUo0"
          },
          "thumbnails": {
           "default": {
            "height": 90,
            "url": "https://i.ytimg.com/vi/bBjnAYymUo0/default.jpg",
            "width": 120
           },
           "high": {
            "height": 360,
            "url": "https://i.ytimg.com/vi/bBjnAYymUo0/hqdefault.jpg",
            "width": 480
           },
           "maxres": {
            "height": 720,
            "url": "https://i.ytimg.com/vi/bBjnAYymUo0/maxresdefault.jpg",
            "width": 1280
           },
           "medium": {
            "height": 180,
            "url": "https://i.ytimg.com/vi/bBjnAYymUo0/mqdefault.jpg",
            "width": 320
           },
           "standard": {
            "height": 480,
            "url": "https://i.ytimg.com/vi/bBjnAYymUo0/sddefault.jpg",
            "width": 640
           }
          },
          "title": "Watch Out for THIS in Your Long Distance Relationship",
          "videoOwnerChannelId": "UC9HGzFGt7BLmWDqooUbWGBg",
          "videoOwnerChannelTitle": "Matthew Hussey"
         }
        },
        {
         "contentDetails": {
          "videoId": "DA48H6tsm4Q",
          "videoPublishedAt": "2024-03-31T10:30:04Z"
         },
         "etag": "9Dj-Gj6R6Yosh2adZQa4Uye1IBs",
         "id": "VVU5SEd6Rkd0N0JMbVdEcW9vVWJXR0JnLkRBNDhINnRzbTRR",
         "kind": "youtube#playlistItem",
         "snippet": {
          "channelId": "UC9HGzFGt7BLmWDqooUbWGBg",
          "channelTitle": "Matthew Hussey",
          "description": "►► Join a Community of People Learning to Transform Their Impact with People, Their Happiness in Life and Their Love for Themselves. \nSubscribe to my Weekly Newsletter, The 3 Relationships at. . .\n→ http://www.The3Relationships.com\n\n▼\nDon’t Miss Out! Subscribe to my YouTube channel now.\nI post new love life advice for you every weekend.\n\n▼\nLong-distance relationships are a tough gig. \n\nYou miss each other. You feel like a separate part of their life at times. And you don’t always know when you’ll be together again. So . . . is it worth it? Well, it depends.\n\nLong-distance relationships are tough, but there are warning signs that can help tell you if it’s likely to work long-term. In fact, there’s one thing someone can SAY to you that basically guarantees a long-distance relationship won’t last, and I share it in this video.\n\n►► Pre-Order My New Book, \"Love Life\" at → http://www.LoveLifeBook.com\n\n►► FREE Video Training: “Dating With Results” → http://www.DatingWithResults.com\n\n▼ Get My Latest Dating Tips and Connect With Me… ▼\n\nBlog → https://www.matthewhussey.com/blog/\n\nFacebook → https://facebook.com/CoachMatthewHussey\n\nInstagram → https://www.instagram.com/thematthewhussey\n\nTwitter → https://twitter.com/matthewhussey\n\n▼ Chapters ▼\n\n0:00 – 1:01 – The 3 Relationships\n1:01 – 2:00 – Wanting Exclusivity\n2:00 – 2:49 – Why LDRs Can Suck\n2:49 – 3:31 – Why People Choose LDRs\n3:31 – 3:42 – #1 Because That Person Is Worth It\n3:42 – 4:11 – #2 We Have a Scarcity Mindset\n4:11 – 4:52 – #3 It’s Convenient\n4:52 – 5:41 – If They Are Avoidant\n5:41 – 7:11 – How Someone Makes Us Feel\n7:11 – 7:40 – Confusion Keeps Us in the Game\n7:40 – 8:34 – If You Hear This, Watch Out\n8:34 – 9:47 – Owning Your Needs and What You Want\n9:47 – 11:19 – A Private Letter From Me to You",
          "playlistId": "UU9HGzFGt7BLmWDqooUbWGBg",
          "position": 37,
          "publishedAt": "2024-03-31T10:30:04Z",
          "resourceId": {
           "kind": "youtube#video",
           "videoId": "DA48H6tsm4Q"
          },
          "thumbnails": {
           "default": {
            "height": 90,
            "url": "https://i.ytimg.com/vi/DA48H6tsm4Q/default.jpg",
            "width": 120
           },
           "high": {
            "height": 360,
            "url": "https://i.ytimg.com/vi/DA48H6tsm4Q/hqdefault.jpg",
            "width": 480
           },
           "maxres": {
            "height": 720,
            "url": "https://i.ytimg.com/vi/DA48H6tsm4Q/maxresdefault.jpg",
            "width": 1280
           },
           "medium": {
            "height": 180,
            "url": "https://i.ytimg.com/vi/DA48H6tsm4Q/mqdefault.jpg",
            "width": 320
           },
           "standard": {
            "height": 480,
            "url": "https://i.ytimg.com/vi/DA48H6tsm4Q/sddefault.jpg",
            "width": 640
           }
          },
          "title": "If You Hear THIS From Your Long-Distance Partner... RUN!",
          "videoOwnerChannelId": "UC9HGzFGt7BLmWDqooUbWGBg",
          "videoOwnerChannelTitle": "Matthew Hussey"
         }
        },
        {
         "contentDetails": {
          "videoId": "XGnrnh4gjXs",
          "videoPublishedAt": "2024-03-30T17:00:31Z"
         },
         "etag": "Vvnon1Ctj2gztnzDghu3TlqyHC0",
         "id": "VVU5SEd6Rkd0N0JMbVdEcW9vVWJXR0JnLlhHbnJuaDRnalhz",
         "kind": "youtube#playlistItem",
         "snippet": {
          "channelId": "UC9HGzFGt7BLmWDqooUbWGBg",
          "channelTitle": "Matthew Hussey",
          "description": "When we are seeing someone in the early stages, a common question we ask ourselves is: \"Do they like me?\" We think: \"If they like me, things will develop and evolve into a relationship, right?\"\n\nI'd like to challenge this instinct today. I believe \"Do they like me?\" is not the right question to be asking ourselves . . . it can even be a dangerous source of comfort that blinds us to someone's lack of intention. That's because someone liking us does not immediately translate into a real investment or a desire to progress the relationship to the next stage. \n\nReal progress must be measured in a different way. \n\n#Shorts #matthewhussey #RelationshipAdvice #DatingAdvice",
          "playlistId": "UU9HGzFGt7BLmWDqooUbWGBg",
          "position": 38,
          "publishedAt": "2024-03-30T17:00:31Z",
          "resourceId": {
           "kind": "youtube#video",
           "videoId": "XGnrnh4gjXs"
          },
          "thumbnails": {
           "default": {
            "height": 90,
            "url": "https://i.ytimg.com/vi/XGnrnh4gjXs/default.jpg",
            "width": 120
           },
           "high": {
            "height": 360,
            "url": "https://i.ytimg.com/vi/XGnrnh4gjXs/hqdefault.jpg",
            "width": 480
           },
           "maxres": {
            "height": 720,
            "url": "https://i.ytimg.com/vi/XGnrnh4gjXs/maxresdefault.jpg",
            "width": 1280
           },
           "medium": {
            "height": 180,
            "url": "https://i.ytimg.com/vi/XGnrnh4gjXs/mqdefault.jpg",
            "width": 320
           },
           "standard": {
            "height": 480,
            "url": "https://i.ytimg.com/vi/XGnrnh4gjXs/sddefault.jpg",
            "width": 640
           }
          },
          "title": "What \"I Love You\" Actually Means",
          "videoOwnerChannelId": "UC9HGzFGt7BLmWDqooUbWGBg",
          "videoOwnerChannelTitle": "Matthew Hussey"
         }
        },
        {
         "contentDetails": {
          "videoId": "nNiHg4mWYUA",
          "videoPublishedAt": "2024-03-29T17:00:38Z"
         },
         "etag": "Yef6h06iwLa7ua7PzkLGYbpUvvk",
         "id": "VVU5SEd6Rkd0N0JMbVdEcW9vVWJXR0JnLm5OaUhnNG1XWVVB",
         "kind": "youtube#playlistItem",
         "snippet": {
          "channelId": "UC9HGzFGt7BLmWDqooUbWGBg",
          "channelTitle": "Matthew Hussey",
          "description": "Here’s the thing: “Playing it cool” and holding back from saying what we want can leave us falling harder and harder for someone who has no intention of investing in a committed relationship.\n\nWhile there’s nothing wrong with initially seeing how things go, by continuing to play it cool, we may inadvertently trap ourselves in a state of limbo. By failing to ask questions (which can help us take stock of where things are headed), our avoidance can actually attract and enable avoiders.\n\nI know this stuff can be really hard to get right, because there’s a delicate push and pull in every dynamic. You don’t want to always be the one putting a foot forward, because the right relationship will be an equal exchange of energy. \n\n#Shorts #MatthewHussey #DatingAdvice #RelationshipAdvice",
          "playlistId": "UU9HGzFGt7BLmWDqooUbWGBg",
          "position": 39,
          "publishedAt": "2024-03-29T17:00:38Z",
          "resourceId": {
           "kind": "youtube#video",
           "videoId": "nNiHg4mWYUA"
          },
          "thumbnails": {
           "default": {
            "height": 90,
            "url": "https://i.ytimg.com/vi/nNiHg4mWYUA/default.jpg",
            "width": 120
           },
           "high": {
            "height": 360,
            "url": "https://i.ytimg.com/vi/nNiHg4mWYUA/hqdefault.jpg",
            "width": 480
           },
           "maxres": {
            "height": 720,
            "url": "https://i.ytimg.com/vi/nNiHg4mWYUA/maxresdefault.jpg",
            "width": 1280
           },
           "medium": {
            "height": 180,
            "url": "https://i.ytimg.com/vi/nNiHg4mWYUA/mqdefault.jpg",
            "width": 320
           },
           "standard": {
            "height": 480,
            "url": "https://i.ytimg.com/vi/nNiHg4mWYUA/sddefault.jpg",
            "width": 640
           }
          },
          "title": "The Unexpected Truth About Commitment...",
          "videoOwnerChannelId": "UC9HGzFGt7BLmWDqooUbWGBg",
          "videoOwnerChannelTitle": "Matthew Hussey"
         }
        },
        {
         "contentDetails": {
          "videoId": "4XTL5GYKrYY",
          "videoPublishedAt": "2024-03-27T18:00:02Z"
         },
         "etag": "sTjFe-sovOT-FNLxdRWMCPLNFV8",
         "id": "VVU5SEd6Rkd0N0JMbVdEcW9vVWJXR0JnLjRYVEw1R1lLcllZ",
         "kind": "youtube#playlistItem",
         "snippet": {
          "channelId": "UC9HGzFGt7BLmWDqooUbWGBg",
          "channelTitle": "Matthew Hussey",
          "description": "►► Connect with Lynden Lane\n→ https://www.instagram.com/lyndenlane\n\n▼\nDon’t Miss Out! Subscribe to my YouTube channel now.\nI post new love life advice for you every weekend.\n\n►► Pre-Order My New Book, \"Love Life\" at → http://www.LoveLifeBook.com\n\n►► FREE Video Training: “Dating With Results” → http://www.DatingWithResults.com\n\n▼ Get My Latest Dating Tips and Connect With Me… ▼\n\nBlog → https://www.matthewhussey.com/blog/\n\nFacebook → https://facebook.com/CoachMatthewHussey\n\nInstagram → https://www.instagram.com/thematthewhussey\n\nTwitter → https://twitter.com/matthewhussey\n\n▼ Connect with Lynden Lane ▼\n\nWebsite → https://lyndenlane.com\n\nInstagram → https://instagram.com/lyndenlane/\n\n▼ Connect with Audrey ▼\n\nInstagram → https://bit.ly/AudreyHusseyIG\n\n▼ Thank You to Our Wedding Vendors ▼\n\nDesign & Production: @lyndenlane\nPhotography: @sarahfalugo.co\nVideo: @giuliocantarella_wedding\nFlorals: @keithjlaverty\nPaper Goods: @cecilespaperco\nVenue: @dimoradellebalze\nRentals: @theark_ & @theonicollection\nStylist: @nextlevelwardrobe\nHair Stylist: @tonipellegrinoartandscience\nDress: @pronovias\nDJ: @redshoela",
          "playlistId": "UU9HGzFGt7BLmWDqooUbWGBg",
          "position": 40,
          "publishedAt": "2024-03-27T18:00:02Z",
          "resourceId": {
           "kind": "youtube#video",
           "videoId": "4XTL5GYKrYY"
          },
          "thumbnails": {
           "default": {
            "height": 90,
            "url": "https://i.ytimg.com/vi/4XTL5GYKrYY/default.jpg",
            "width": 120
           },
           "high": {
            "height": 360,
            "url": "https://i.ytimg.com/vi/4XTL5GYKrYY/hqdefault.jpg",
            "width": 480
           },
           "maxres": {
            "height": 720,
            "url": "https://i.ytimg.com/vi/4XTL5GYKrYY/maxresdefault.jpg",
            "width": 1280
           },
           "medium": {
            "height": 180,
            "url": "https://i.ytimg.com/vi/4XTL5GYKrYY/mqdefault.jpg",
            "width": 320
           },
           "standard": {
            "height": 480,
            "url": "https://i.ytimg.com/vi/4XTL5GYKrYY/sddefault.jpg",
            "width": 640
           }
          },
          "title": "What We Wish We Knew BEFORE Planning Our Wedding",
          "videoOwnerChannelId": "UC9HGzFGt7BLmWDqooUbWGBg",
          "videoOwnerChannelTitle": "Matthew Hussey"
         }
        },
        {
         "contentDetails": {
          "videoId": "VFLtq0kP_Pk",
          "videoPublishedAt": "2024-03-25T18:59:53Z"
         },
         "etag": "IJUgt0u1_JGRGSaYWcGuRqkNO_8",
         "id": "VVU5SEd6Rkd0N0JMbVdEcW9vVWJXR0JnLlZGTHRxMGtQX1Br",
         "kind": "youtube#playlistItem",
         "snippet": {
          "channelId": "UC9HGzFGt7BLmWDqooUbWGBg",
          "channelTitle": "Matthew Hussey",
          "description": "Has your past got you feeling stuck in a cycle of avoidance and self-sabotage in relationships? \n\nRemember, you don't have to have it all figured out before finding love. Healing is possible, and the right partner can even be your strongest ally on this journey.\n\nP.S If want to make 2024 the year you break these patterns once and for all, my Retreat provides a safe space for vulnerability, where deep healing and lasting change can occur over 6 days of coaching immersion. Just visit MHRetreat.com to learn more about this transformational process and becoming part of our global tribe from September 9 - 15.\n\n#Shorts #MatthewHussey #RelationshipAdvice #DatingAdvice",
          "playlistId": "UU9HGzFGt7BLmWDqooUbWGBg",
          "position": 41,
          "publishedAt": "2024-03-25T18:59:53Z",
          "resourceId": {
           "kind": "youtube#video",
           "videoId": "VFLtq0kP_Pk"
          },
          "thumbnails": {
           "default": {
            "height": 90,
            "url": "https://i.ytimg.com/vi/VFLtq0kP_Pk/default.jpg",
            "width": 120
           },
           "high": {
            "height": 360,
            "url": "https://i.ytimg.com/vi/VFLtq0kP_Pk/hqdefault.jpg",
            "width": 480
           },
           "maxres": {
            "height": 720,
            "url": "https://i.ytimg.com/vi/VFLtq0kP_Pk/maxresdefault.jpg",
            "width": 1280
           },
           "medium": {
            "height": 180,
            "url": "https://i.ytimg.com/vi/VFLtq0kP_Pk/mqdefault.jpg",
            "width": 320
           },
           "standard": {
            "height": 480,
            "url": "https://i.ytimg.com/vi/VFLtq0kP_Pk/sddefault.jpg",
            "width": 640
           }
          },
          "title": "Is Past Hurt Holding You Back From Love?",
          "videoOwnerChannelId": "UC9HGzFGt7BLmWDqooUbWGBg",
          "videoOwnerChannelTitle": "Matthew Hussey"
         }
        },
        {
         "contentDetails": {
          "videoId": "SZP6Ske_bfM",
          "videoPublishedAt": "2024-03-24T11:30:12Z"
         },
         "etag": "25P1x4xJYo1h5pztEnLjqW0OML0",
         "id": "VVU5SEd6Rkd0N0JMbVdEcW9vVWJXR0JnLlNaUDZTa2VfYmZN",
         "kind": "youtube#playlistItem",
         "snippet": {
          "channelId": "UC9HGzFGt7BLmWDqooUbWGBg",
          "channelTitle": "Matthew Hussey",
          "description": "►► Ready to Get Off The Sidelines and Back Into Dating?\nCatch the Replay of The Love Life Reset at. . .\n→ http://www.LoveLifeReplay.com\n\n▼\nDon’t Miss Out! Subscribe to my YouTube channel now.\nI post new love life advice for you every weekend.\n\n▼\nPeople ask me a lot, “How did you meet your wife?”\n\nWell, it wasn’t just one decision. It was actually a few simple steps that even an introvert like me could use to be in exactly the right place to meet Audrey when I did. \n\nI believe anyone can apply this advice in their dating lives to find love. So if you want to maximize your chances of meeting (and attracting) someone amazing, the 3 practical steps I mention in this video could lead you to your person . . . possibly without you ever having to swipe right!\n\n►► Pre-Order My New Book, \"Love Life\" at → http://www.LoveLifeBook.com\n\n►► FREE Video Training: “Dating With Results” → http://www.DatingWithResults.com\n\n\n▼ Get My Latest Dating Tips and Connect With Me… ▼\n\nBlog → https://www.matthewhussey.com/blog/\n\nFacebook → https://facebook.com/CoachMatthewHussey\n\nInstagram → https://www.instagram.com/thematthewhussey\n\nTwitter → https://twitter.com/matthewhussey\n\n▼ Chapters ▼\n\n0:00 – 1:00 – Don’t Miss This\n1:00 – 1:51 – Why We Keep Going Back to the Wrong People\n1:51 – 3:48 – “Fusing With Other Atoms”\n3:48 – 5:11 – Step #1: Eye Contact\n5:11 – 6:14 – Step #2: Get Proximity \n6:14 – 7:33 – Step #3: Say Something\n7:33 – 8:46 – Becoming an Approachable Person\n8:46 – 9:45 – Offering Green Lights \n9:45 – 10:52 – Bravery Is a Team Sport\n10:52 – 11:54 – The “Love Life Reset” Limited-Time Replay",
          "playlistId": "UU9HGzFGt7BLmWDqooUbWGBg",
          "position": 42,
          "publishedAt": "2024-03-24T11:30:12Z",
          "resourceId": {
           "kind": "youtube#video",
           "videoId": "SZP6Ske_bfM"
          },
          "thumbnails": {
           "default": {
            "height": 90,
            "url": "https://i.ytimg.com/vi/SZP6Ske_bfM/default.jpg",
            "width": 120
           },
           "high": {
            "height": 360,
            "url": "https://i.ytimg.com/vi/SZP6Ske_bfM/hqdefault.jpg",
            "width": 480
           },
           "maxres": {
            "height": 720,
            "url": "https://i.ytimg.com/vi/SZP6Ske_bfM/maxresdefault.jpg",
            "width": 1280
           },
           "medium": {
            "height": 180,
            "url": "https://i.ytimg.com/vi/SZP6Ske_bfM/mqdefault.jpg",
            "width": 320
           },
           "standard": {
            "height": 480,
            "url": "https://i.ytimg.com/vi/SZP6Ske_bfM/sddefault.jpg",
            "width": 640
           }
          },
          "title": "How Me and My Wife Met... (It's Not What You Think)",
          "videoOwnerChannelId": "UC9HGzFGt7BLmWDqooUbWGBg",
          "videoOwnerChannelTitle": "Matthew Hussey"
         }
        },
        {
         "contentDetails": {
          "videoId": "vm2t1MKrcpQ",
          "videoPublishedAt": "2024-03-23T16:00:44Z"
         },
         "etag": "L85JnPK-EC9YaJrwcPIq1oeHjV0",
         "id": "VVU5SEd6Rkd0N0JMbVdEcW9vVWJXR0JnLnZtMnQxTUtyY3BR",
         "kind": "youtube#playlistItem",
         "snippet": {
          "channelId": "UC9HGzFGt7BLmWDqooUbWGBg",
          "channelTitle": "Matthew Hussey",
          "description": "Rejection can affect us profoundly, even when it’s from someone who isn’t right for us.\n\nSo how do we safeguard ourselves from this? By truly knowing what we want in love: reciprocity! And NOT getting caught up in chasing approval from someone who doesn’t want us back.\n\nWhen you’re truly connected to what matters to you, you can keep moving forward and not get stuck on the wrong people.\n\nIf you enjoyed this video, you can watch the full “Love Life Reset” replay at LoveLifeReplay.com now.\n\n#MatthewHussey #Shorts #DatingAdvice #Rejection",
          "playlistId": "UU9HGzFGt7BLmWDqooUbWGBg",
          "position": 43,
          "publishedAt": "2024-03-23T16:00:44Z",
          "resourceId": {
           "kind": "youtube#video",
           "videoId": "vm2t1MKrcpQ"
          },
          "thumbnails": {
           "default": {
            "height": 90,
            "url": "https://i.ytimg.com/vi/vm2t1MKrcpQ/default.jpg",
            "width": 120
           },
           "high": {
            "height": 360,
            "url": "https://i.ytimg.com/vi/vm2t1MKrcpQ/hqdefault.jpg",
            "width": 480
           },
           "maxres": {
            "height": 720,
            "url": "https://i.ytimg.com/vi/vm2t1MKrcpQ/maxresdefault.jpg",
            "width": 1280
           },
           "medium": {
            "height": 180,
            "url": "https://i.ytimg.com/vi/vm2t1MKrcpQ/mqdefault.jpg",
            "width": 320
           },
           "standard": {
            "height": 480,
            "url": "https://i.ytimg.com/vi/vm2t1MKrcpQ/sddefault.jpg",
            "width": 640
           }
          },
          "title": "The REAL Way to Overcome Rejection",
          "videoOwnerChannelId": "UC9HGzFGt7BLmWDqooUbWGBg",
          "videoOwnerChannelTitle": "Matthew Hussey"
         }
        },
        {
         "contentDetails": {
          "videoId": "qR1-QzGGqPE",
          "videoPublishedAt": "2024-03-20T20:05:35Z"
         },
         "etag": "N_zncdefQmD8AAkYgY54O_36DjU",
         "id": "VVU5SEd6Rkd0N0JMbVdEcW9vVWJXR0JnLnFSMS1RekdHcVBF",
         "kind": "youtube#playlistItem",
         "snippet": {
          "channelId": "UC9HGzFGt7BLmWDqooUbWGBg",
          "channelTitle": "Matthew Hussey",
          "description": "What do you think about this idea? \n\nThis moment is taken from my Love Life Reset event which happened LIVE yesterday. If you'd like to watch the replay of the event, you can see it now by commenting REPLAY or by  heading over to LoveLifeReplay.com ❤️\n\n#Shorts #matthewHussey #DatingAdvice #RelationshipAdvice",
          "playlistId": "UU9HGzFGt7BLmWDqooUbWGBg",
          "position": 44,
          "publishedAt": "2024-03-20T20:05:35Z",
          "resourceId": {
           "kind": "youtube#video",
           "videoId": "qR1-QzGGqPE"
          },
          "thumbnails": {
           "default": {
            "height": 90,
            "url": "https://i.ytimg.com/vi/qR1-QzGGqPE/default.jpg",
            "width": 120
           },
           "high": {
            "height": 360,
            "url": "https://i.ytimg.com/vi/qR1-QzGGqPE/hqdefault.jpg",
            "width": 480
           },
           "maxres": {
            "height": 720,
            "url": "https://i.ytimg.com/vi/qR1-QzGGqPE/maxresdefault.jpg",
            "width": 1280
           },
           "medium": {
            "height": 180,
            "url": "https://i.ytimg.com/vi/qR1-QzGGqPE/mqdefault.jpg",
            "width": 320
           },
           "standard": {
            "height": 480,
            "url": "https://i.ytimg.com/vi/qR1-QzGGqPE/sddefault.jpg",
            "width": 640
           }
          },
          "title": "Do You Feel “Too Old” to Date?",
          "videoOwnerChannelId": "UC9HGzFGt7BLmWDqooUbWGBg",
          "videoOwnerChannelTitle": "Matthew Hussey"
         }
        },
        {
         "contentDetails": {
          "videoId": "lug5X3KKsaY",
          "videoPublishedAt": "2024-03-19T20:10:05Z"
         },
         "etag": "RGbACEhP1VYJgRskQidNdq2NYrQ",
         "id": "VVU5SEd6Rkd0N0JMbVdEcW9vVWJXR0JnLmx1ZzVYM0tLc2FZ",
         "kind": "youtube#playlistItem",
         "snippet": {
          "channelId": "UC9HGzFGt7BLmWDqooUbWGBg",
          "channelTitle": "Matthew Hussey",
          "description": "Welcome to the Love Life Reset REPLAY 💫\n\n►►Pre-Order Your Physical Copy of Love Life and Claim Your Love Life Toolkit \n+ Special Bonus Before Time Runs Out at. . .  \n→https://LoveLifeRoadmap.com \n▼\nDon’t Miss Out! Subscribe to my YouTube channel now.\nI post new love life advice for you every weekend.\n\n►► Pre-Order My New Book, \"Love Life\" at → http://www.LoveLifeBook.com\n\n►► FREE Video Training: “Dating With Results” → http://www.DatingWithResults.com\n\n\n▼ Get My Latest Dating Tips and Connect With Me… ▼\n\nBlog → https://www.matthewhussey.com/blog/\n\nFacebook → https://facebook.com/CoachMatthewHussey\n\nInstagram → https://www.instagram.com/thematthewhussey\n\nTwitter → https://twitter.com/matthewhussey\n\nFor any assistance with pre-ordering your copy of Love Life or redeeming your bonuses, please email my team at support@matthewhussey.com",
          "playlistId": "UU9HGzFGt7BLmWDqooUbWGBg",
          "position": 45,
          "publishedAt": "2024-03-19T20:10:05Z",
          "resourceId": {
           "kind": "youtube#video",
           "videoId": "lug5X3KKsaY"
          },
          "thumbnails": {
           "default": {
            "height": 90,
            "url": "https://i.ytimg.com/vi/lug5X3KKsaY/default.jpg",
            "width": 120
           },
           "high": {
            "height": 360,
            "url": "https://i.ytimg.com/vi/lug5X3KKsaY/hqdefault.jpg",
            "width": 480
           },
           "maxres": {
            "height": 720,
            "url": "https://i.ytimg.com/vi/lug5X3KKsaY/maxresdefault.jpg",
            "width": 1280
           },
           "medium": {
            "height": 180,
            "url": "https://i.ytimg.com/vi/lug5X3KKsaY/mqdefault.jpg",
            "width": 320
           },
           "standard": {
            "height": 480,
            "url": "https://i.ytimg.com/vi/lug5X3KKsaY/sddefault.jpg",
            "width": 640
           }
          },
          "title": "If I Were Single and Starting Over, THIS Is What I Would Do",
          "videoOwnerChannelId": "UC9HGzFGt7BLmWDqooUbWGBg",
          "videoOwnerChannelTitle": "Matthew Hussey"
         }
        },
        {
         "contentDetails": {
          "videoId": "aHtKFDhSG3A",
          "videoPublishedAt": "2024-03-18T20:59:37Z"
         },
         "etag": "ZbqZs6ZpKEtrbiUlfDTAQGHbTj4",
         "id": "VVU5SEd6Rkd0N0JMbVdEcW9vVWJXR0JnLmFIdEtGRGhTRzNB",
         "kind": "youtube#playlistItem",
         "snippet": {
          "channelId": "UC9HGzFGt7BLmWDqooUbWGBg",
          "channelTitle": "Matthew Hussey",
          "description": "►► Join My FREE Virtual Event, The Love Life Reset Happening LIVE Tomorrow . . .\nRegister Now at. . . \n→ http://www.LoveLifeTraining.com\n\n▼\nAudrey and I are hanging out, answering your questions together live! There’s still time to join us for the “Love Life Reset” tomorrow, Tuesday March 19th at 11am PT. For anyone who wants to find love this year this event is a must. And it’s FREE! \n\nIf you’re ready to overcome your fear of rejection and reinvent your approach to dating in a sustainable way, you don’t want to miss this live training. \n\nHead over to https://www.LoveLifeTraining.com to register. Registering takes 20 seconds and the entire event is FREE! See you there!!\n\n▼\nDon’t Miss Out! Subscribe to my YouTube channel now.\nI post new love life advice for you every weekend.",
          "playlistId": "UU9HGzFGt7BLmWDqooUbWGBg",
          "position": 46,
          "publishedAt": "2024-03-18T20:59:37Z",
          "resourceId": {
           "kind": "youtube#video",
           "videoId": "aHtKFDhSG3A"
          },
          "thumbnails": {
           "default": {
            "height": 90,
            "url": "https://i.ytimg.com/vi/aHtKFDhSG3A/default.jpg",
            "width": 120
           },
           "high": {
            "height": 360,
            "url": "https://i.ytimg.com/vi/aHtKFDhSG3A/hqdefault.jpg",
            "width": 480
           },
           "medium": {
            "height": 180,
            "url": "https://i.ytimg.com/vi/aHtKFDhSG3A/mqdefault.jpg",
            "width": 320
           },
           "standard": {
            "height": 480,
            "url": "https://i.ytimg.com/vi/aHtKFDhSG3A/sddefault.jpg",
            "width": 640
           }
          },
          "title": "Answering Your Questions!",
          "videoOwnerChannelId": "UC9HGzFGt7BLmWDqooUbWGBg",
          "videoOwnerChannelTitle": "Matthew Hussey"
         }
        },
        {
         "contentDetails": {
          "videoId": "nMvJnk4uZ4k",
          "videoPublishedAt": "2024-03-18T13:00:44Z"
         },
         "etag": "aVP_YDSGkfnzwClbewXQf6O6mVk",
         "id": "VVU5SEd6Rkd0N0JMbVdEcW9vVWJXR0JnLm5NdkpuazR1WjRr",
         "kind": "youtube#playlistItem",
         "snippet": {
          "channelId": "UC9HGzFGt7BLmWDqooUbWGBg",
          "channelTitle": "Matthew Hussey",
          "description": "Are you ready to get back out there and hit “Reset” on your love life journey? I have a free live training happening THIS WEEK on Tuesday (March 19) that will help you tremendously. Head over to LoveLifeTraining.com now for all the details on how you can secure your spot on the live event for free.\n\n#MatthewHussey #Shorts #DatingAdvice #RelationshipAdvice",
          "playlistId": "UU9HGzFGt7BLmWDqooUbWGBg",
          "position": 47,
          "publishedAt": "2024-03-18T13:00:44Z",
          "resourceId": {
           "kind": "youtube#video",
           "videoId": "nMvJnk4uZ4k"
          },
          "thumbnails": {
           "default": {
            "height": 90,
            "url": "https://i.ytimg.com/vi/nMvJnk4uZ4k/default.jpg",
            "width": 120
           },
           "high": {
            "height": 360,
            "url": "https://i.ytimg.com/vi/nMvJnk4uZ4k/hqdefault.jpg",
            "width": 480
           },
           "maxres": {
            "height": 720,
            "url": "https://i.ytimg.com/vi/nMvJnk4uZ4k/maxresdefault.jpg",
            "width": 1280
           },
           "medium": {
            "height": 180,
            "url": "https://i.ytimg.com/vi/nMvJnk4uZ4k/mqdefault.jpg",
            "width": 320
           },
           "standard": {
            "height": 480,
            "url": "https://i.ytimg.com/vi/nMvJnk4uZ4k/sddefault.jpg",
            "width": 640
           }
          },
          "title": "The SECRET to Finding a Healthy Relationship Faster",
          "videoOwnerChannelId": "UC9HGzFGt7BLmWDqooUbWGBg",
          "videoOwnerChannelTitle": "Matthew Hussey"
         }
        },
        {
         "contentDetails": {
          "videoId": "Ej3_yYhxbY8",
          "videoPublishedAt": "2024-03-17T11:30:13Z"
         },
         "etag": "Ir5HFpo8Jo6jMmKdEj2P9iS0k7s",
         "id": "VVU5SEd6Rkd0N0JMbVdEcW9vVWJXR0JnLkVqM195WWh4Ylk4",
         "kind": "youtube#playlistItem",
         "snippet": {
          "channelId": "UC9HGzFGt7BLmWDqooUbWGBg",
          "channelTitle": "Matthew Hussey",
          "description": "►► Conquer Your Dating Fears and Reinvent Your Approach to Finding Love Again.\nJoin My FREE Virtual Event, The Love Life Reset.\nFind out How at . . .\n→ http://www.LoveLifeTraining.com\n\n▼\nDon’t Miss Out! Subscribe to my YouTube channel now.\nI post new love life advice for you every weekend.\n\n▼\nHave you fallen for someone who just can’t give you the same affection back?\n\nEmotionally unavailable people are the relationship version of junk food. You know it’s bad . . . but your addiction keeps you going back for more. \n\nThis is nothing more than a formula for heartbreak. In today’s new video, I dive into the psychology behind why we’re attracted to emotionally unavailable people, and why just because something’s scarce (such as someone’s attention) doesn’t mean it’s valuable.\n\n►► Pre-Order My New Book, \"Love Life\" at → http://www.LoveLifeBook.com\n\n►► FREE Video Training: “Dating With Results” → http://www.DatingWithResults.com\n\n\n▼ Get My Latest Dating Tips and Connect With Me… ▼\n\nBlog → https://www.matthewhussey.com/blog/\n\nFacebook → https://facebook.com/CoachMatthewHussey\n\nInstagram → https://www.instagram.com/thematthewhussey\n\nTwitter → https://twitter.com/matthewhussey\n\n▼ Chapters ▼\n\n0:00 – 1:02 – The Love Life Reset\n1:02 – 1:39 – Emotionally Unavailable People\n1:39 – 3:11 – Scarcity Doesn’t Equal Value (Diamonds vs. Air)\n3:11 – 5:02 – Familiar Patterns and Trauma Bonds\n5:02 – 6:10 – Confusing Anxiety With Love\n6:10 – 7:44 – The Lens of Addiction\n7:44 – 8:36 – The Dopamine Cycle\n8:36 – 10:05 – A New Approach",
          "playlistId": "UU9HGzFGt7BLmWDqooUbWGBg",
          "position": 48,
          "publishedAt": "2024-03-17T11:30:13Z",
          "resourceId": {
           "kind": "youtube#video",
           "videoId": "Ej3_yYhxbY8"
          },
          "thumbnails": {
           "default": {
            "height": 90,
            "url": "https://i.ytimg.com/vi/Ej3_yYhxbY8/default.jpg",
            "width": 120
           },
           "high": {
            "height": 360,
            "url": "https://i.ytimg.com/vi/Ej3_yYhxbY8/hqdefault.jpg",
            "width": 480
           },
           "maxres": {
            "height": 720,
            "url": "https://i.ytimg.com/vi/Ej3_yYhxbY8/maxresdefault.jpg",
            "width": 1280
           },
           "medium": {
            "height": 180,
            "url": "https://i.ytimg.com/vi/Ej3_yYhxbY8/mqdefault.jpg",
            "width": 320
           },
           "standard": {
            "height": 480,
            "url": "https://i.ytimg.com/vi/Ej3_yYhxbY8/sddefault.jpg",
            "width": 640
           }
          },
          "title": "Are They Emotionally Unavailable? DON'T CHASE, Do THIS!",
          "videoOwnerChannelId": "UC9HGzFGt7BLmWDqooUbWGBg",
          "videoOwnerChannelTitle": "Matthew Hussey"
         }
        },
        {
         "contentDetails": {
          "videoId": "dSe9gzt3xUk",
          "videoPublishedAt": "2024-03-15T16:00:34Z"
         },
         "etag": "SC3iRaJhYBlIK8P8Cc0Pn6qUhhc",
         "id": "VVU5SEd6Rkd0N0JMbVdEcW9vVWJXR0JnLmRTZTlnenQzeFVr",
         "kind": "youtube#playlistItem",
         "snippet": {
          "channelId": "UC9HGzFGt7BLmWDqooUbWGBg",
          "channelTitle": "Matthew Hussey",
          "description": "We're often paralyzed from taking action in case we experience a rejection . . .\n\nBut getting a year down the line and realizing we're still not fulfilling our potential should be far scarier than a minor setback in the here and now.\n\nKnow that you CAN change your relationship with your fears so you can stop holding yourself back once and for all, and I'm here to help you do it. \n\nVisit MHRetreat.com to find out more about spending 6 days of immersive coaching with me from September 9 - 15 this year in Florida. \n\n#Shorts #MatthewHussey #Rejection",
          "playlistId": "UU9HGzFGt7BLmWDqooUbWGBg",
          "position": 49,
          "publishedAt": "2024-03-15T16:00:34Z",
          "resourceId": {
           "kind": "youtube#video",
           "videoId": "dSe9gzt3xUk"
          },
          "thumbnails": {
           "default": {
            "height": 90,
            "url": "https://i.ytimg.com/vi/dSe9gzt3xUk/default.jpg",
            "width": 120
           },
           "high": {
            "height": 360,
            "url": "https://i.ytimg.com/vi/dSe9gzt3xUk/hqdefault.jpg",
            "width": 480
           },
           "maxres": {
            "height": 720,
            "url": "https://i.ytimg.com/vi/dSe9gzt3xUk/maxresdefault.jpg",
            "width": 1280
           },
           "medium": {
            "height": 180,
            "url": "https://i.ytimg.com/vi/dSe9gzt3xUk/mqdefault.jpg",
            "width": 320
           },
           "standard": {
            "height": 480,
            "url": "https://i.ytimg.com/vi/dSe9gzt3xUk/sddefault.jpg",
            "width": 640
           }
          },
          "title": "How to Overcome Fear of Rejection",
          "videoOwnerChannelId": "UC9HGzFGt7BLmWDqooUbWGBg",
          "videoOwnerChannelTitle": "Matthew Hussey"
         }
        }
       ],
       "kind": "youtube#playlistItemListResponse",
       "nextPageToken": "EAAaelBUOkNESWlFRFU0UWtReVF6VkROalJHUWtRek1FVW9BVWotaE5yczBabUdBMUFCV2pZaVEyaG9WbFpVYkVsU00zQkhVak5STTFGcmVIUldNRko0WWpJNVZsbHNaRWhSYldOVFEzZHFRWHBMWlhsQ2FFTjNMVkIzVGlJ",
       "pageInfo": {
        "resultsPerPage": 50,
        "totalResults": 943
       }
      },
      "text/plain": [
       "<IPython.core.display.JSON object>"
      ]
     },
     "execution_count": 76,
     "metadata": {
      "application/json": {
       "expanded": false,
       "root": "root"
      }
     },
     "output_type": "execute_result"
    }
   ],
   "source": [
    "\n",
    "playlistID = 'UU9HGzFGt7BLmWDqooUbWGBg'\n",
    "request = youtube.playlistItems().list(part=\"snippet, contentDetails\", playlistId=playlistID, maxResults=50) #maximum value by default\n",
    "response = request.execute()\n",
    "JSON(response)\n"
   ]
  },
  {
   "cell_type": "code",
   "execution_count": 77,
   "id": "ad804d11-c2a7-4cc7-8df7-b4e4e096c0c3",
   "metadata": {},
   "outputs": [],
   "source": [
    "def get_videoIDs(youtube, playlistID):\n",
    "    video_IDs = []   \n",
    "    \n",
    "    request = youtube.playlistItems().list(part=\"snippet, contentDetails\", playlistId=playlistID, maxResults=50) #maximum value by default\n",
    "    response = request.execute()\n",
    "\n",
    "     # loop through the items\n",
    "    for item in response['items']:\n",
    "        video_IDs.append(item['contentDetails']['videoId'])\n",
    "                        \n",
    "    next_page_token = response.get('nextPageToken')\n",
    "    \n",
    "    while next_page_token is not None:\n",
    "        request = youtube.playlistItems().list(part=\"snippet, contentDetails\", playlistId=playlistID, maxResults=50, pageToken=next_page_token) #maximum value by default\n",
    "        response = request.execute()\n",
    "    \n",
    "     # loop through the items\n",
    "        for item in response['items']:\n",
    "            video_IDs.append(item['contentDetails']['videoId'])\n",
    "        \n",
    "        next_page_token = response.get('nextPageToken')\n",
    "\n",
    "        \n",
    "    return video_IDs\n"
   ]
  },
  {
   "cell_type": "code",
   "execution_count": 79,
   "id": "12499497-d54d-4dd2-b502-6e8c1d655a6b",
   "metadata": {},
   "outputs": [
    {
     "data": {
      "text/plain": [
       "1045"
      ]
     },
     "execution_count": 79,
     "metadata": {},
     "output_type": "execute_result"
    }
   ],
   "source": [
    "# retrieve video list for Matthew\n",
    "playlistID = df.loc[df['ChannelName'] == 'Matthew Hussey', 'PlaylistID'].iloc[0]\n",
    "VideoList_mat = get_videoIDs(youtube, playlistID) \n",
    "\n",
    "# retrieve video list for Apollonia\n",
    "playlistID = df.loc[df['ChannelName'] == 'Apollonia Ponti', 'PlaylistID'].iloc[0]\n",
    "VideoList_apo = get_videoIDs(youtube, playlistID) \n",
    "len(VideoList_apo)"
   ]
  },
  {
   "cell_type": "code",
   "execution_count": null,
   "id": "1415d5c7-2aaa-4b65-8025-ca036e390c20",
   "metadata": {},
   "outputs": [],
   "source": []
  }
 ],
 "metadata": {
  "kernelspec": {
   "display_name": "venv",
   "language": "python",
   "name": "venv"
  },
  "language_info": {
   "codemirror_mode": {
    "name": "ipython",
    "version": 3
   },
   "file_extension": ".py",
   "mimetype": "text/x-python",
   "name": "python",
   "nbconvert_exporter": "python",
   "pygments_lexer": "ipython3",
   "version": "3.11.7"
  }
 },
 "nbformat": 4,
 "nbformat_minor": 5
}
