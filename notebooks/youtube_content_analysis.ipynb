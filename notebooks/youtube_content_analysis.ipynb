{
 "cells": [
  {
   "cell_type": "code",
   "execution_count": 58,
   "id": "b271e096-532e-4759-9417-6324b3ce506c",
   "metadata": {},
   "outputs": [],
   "source": [
    "import pandas as pd\n",
    "import numpy as np\n",
    "import matplotlib.pyplot as plt"
   ]
  },
  {
   "cell_type": "code",
   "execution_count": 59,
   "id": "5065f5b6-bc5b-49c6-89ae-6a613f0fee3a",
   "metadata": {},
   "outputs": [],
   "source": [
    "from IPython.display import JSON"
   ]
  },
  {
   "cell_type": "code",
   "execution_count": 60,
   "id": "492a4420-90d6-4d18-aa8c-d9014aad37a7",
   "metadata": {},
   "outputs": [],
   "source": [
    "from googleapiclient.discovery import build"
   ]
  },
  {
   "cell_type": "code",
   "execution_count": 71,
   "id": "358305ad-0b5d-46e9-9777-ebf429994c45",
   "metadata": {},
   "outputs": [],
   "source": [
    "file = open('API_key.txt')\n",
    "api_key = file.read()\n",
    "#api_key"
   ]
  },
  {
   "cell_type": "code",
   "execution_count": 72,
   "id": "99d1c66e-9d90-4eb8-8310-5e0ae7d24cff",
   "metadata": {},
   "outputs": [],
   "source": [
    "channel_ids = ['UC9HGzFGt7BLmWDqooUbWGBg', #Matthew ID\n",
    "               'UCYqdbnuvx-jJZByotoNW-5Q', # Apollonia\n",
    "              ]"
   ]
  },
  {
   "cell_type": "code",
   "execution_count": 73,
   "id": "b75f113e-a9ae-4c1c-916a-8758ae43d789",
   "metadata": {},
   "outputs": [],
   "source": [
    "api_service_name = \"youtube\"\n",
    "api_version = \"v3\"\n",
    "\n",
    "# Build API client\n",
    "youtube = build(api_service_name, api_version, developerKey=api_key)"
   ]
  },
  {
   "cell_type": "code",
   "execution_count": 74,
   "id": "3ddd0942-e281-437d-8f3d-80c59d003dee",
   "metadata": {},
   "outputs": [],
   "source": [
    "'''\n",
    "Function to read through the info of the channels and create a dataframe\n",
    "METHOD: .channels().list()\n",
    "'''\n",
    "\n",
    "def get_channel_stats(youtube, channel_ids):\n",
    "    data = []\n",
    "    \n",
    "    # create request\n",
    "    request = youtube.channels().list(part=\"snippet,contentDetails,statistics\", id=channel_ids)\n",
    "    \n",
    "    response = request.execute()\n",
    "\n",
    "    # loop through the channel\n",
    "    for item in response['items']:\n",
    "        info = {'ChannelName': item['snippet']['title'],\n",
    "                'Subscribers': item['statistics']['subscriberCount'],\n",
    "                'TotalViews': item['statistics']['viewCount'],\n",
    "                'Videos': item['statistics']['videoCount'],\n",
    "                'PlaylistID': item['contentDetails']['relatedPlaylists']['uploads'],   \n",
    "               \n",
    "               }\n",
    "        data.append(info)\n",
    "    return(pd.DataFrame(data))\n",
    "\n"
   ]
  },
  {
   "cell_type": "code",
   "execution_count": 75,
   "id": "ec0e21bb-81a9-428d-a2d6-73815839a05b",
   "metadata": {},
   "outputs": [
    {
     "data": {
      "text/html": [
       "<div>\n",
       "<style scoped>\n",
       "    .dataframe tbody tr th:only-of-type {\n",
       "        vertical-align: middle;\n",
       "    }\n",
       "\n",
       "    .dataframe tbody tr th {\n",
       "        vertical-align: top;\n",
       "    }\n",
       "\n",
       "    .dataframe thead th {\n",
       "        text-align: right;\n",
       "    }\n",
       "</style>\n",
       "<table border=\"1\" class=\"dataframe\">\n",
       "  <thead>\n",
       "    <tr style=\"text-align: right;\">\n",
       "      <th></th>\n",
       "      <th>ChannelName</th>\n",
       "      <th>Subscribers</th>\n",
       "      <th>TotalViews</th>\n",
       "      <th>Videos</th>\n",
       "      <th>PlaylistID</th>\n",
       "    </tr>\n",
       "  </thead>\n",
       "  <tbody>\n",
       "    <tr>\n",
       "      <th>0</th>\n",
       "      <td>Apollonia Ponti</td>\n",
       "      <td>682000</td>\n",
       "      <td>105397023</td>\n",
       "      <td>1044</td>\n",
       "      <td>UUYqdbnuvx-jJZByotoNW-5Q</td>\n",
       "    </tr>\n",
       "    <tr>\n",
       "      <th>1</th>\n",
       "      <td>Matthew Hussey</td>\n",
       "      <td>3050000</td>\n",
       "      <td>541531749</td>\n",
       "      <td>942</td>\n",
       "      <td>UU9HGzFGt7BLmWDqooUbWGBg</td>\n",
       "    </tr>\n",
       "  </tbody>\n",
       "</table>\n",
       "</div>"
      ],
      "text/plain": [
       "       ChannelName Subscribers TotalViews Videos                PlaylistID\n",
       "0  Apollonia Ponti      682000  105397023   1044  UUYqdbnuvx-jJZByotoNW-5Q\n",
       "1   Matthew Hussey     3050000  541531749    942  UU9HGzFGt7BLmWDqooUbWGBg"
      ]
     },
     "execution_count": 75,
     "metadata": {},
     "output_type": "execute_result"
    }
   ],
   "source": [
    "df = get_channel_stats(youtube, channel_ids)\n",
    "df"
   ]
  },
  {
   "cell_type": "code",
   "execution_count": 76,
   "id": "1017f446-1420-46ef-ba1a-047fc573f1d4",
   "metadata": {},
   "outputs": [
    {
     "data": {
      "application/json": {
       "etag": "eivfbkmBIQgdNyOuq5ClBCotTyg",
       "items": [
        {
         "contentDetails": {
          "videoId": "L5l_X4TXrZ8",
          "videoPublishedAt": "2024-05-19T11:45:01Z"
         },
         "etag": "u9TBmPHKP1a-QMwnjWJsWcfqLlA",
         "id": "VVU5SEd6Rkd0N0JMbVdEcW9vVWJXR0JnLkw1bF9YNFRYclo4",
         "kind": "youtube#playlistItem",
         "snippet": {
          "channelId": "UC9HGzFGt7BLmWDqooUbWGBg",
          "channelTitle": "Matthew Hussey",
          "description": "►► Get Vulnerable Stories, Real Insights, and Practical Tools Delivered Straight to Your Inbox Every Friday. \nSign up Now For My Free Weekly Newsletter, The 3 Relationships at . . .\n→ http://www.The3Relationships.com\n\n▼\nDon’t Miss Out! Subscribe to my YouTube channel now.\nI post new love life advice for you every weekend.\n\n▼\nMost people want to avoid players in dating . . . yet why do so many end up in relationships (or situationships) with them? \n\nSadly, it’s all too common to get seduced into a roller coaster romance where we feel amazing chemistry but never know where we stand with someone.\n\nToday I’m giving you the best advice I’ve given on this topic through 7 clips that will help you avoid players and find the right person. If you’re ready to rewire your brain and start attracting someone who says “yes” to a relationship, this is for you.\n\n►► Order My New Book, \"Love Life\" at → http://www.LoveLifeBook.com\n\n►► FREE Video Training: “Dating With Results” → http://www.DatingWithResults.com\n\n\n▼ Get My Latest Dating Tips and Connect With Me… ▼\n\nBlog → https://www.matthewhussey.com/blog/\n\nFacebook → https://facebook.com/CoachMatthewHussey\n\nInstagram → https://www.instagram.com/thematthewhussey\n\nTwitter → https://twitter.com/matthewhussey\n\n▼ Chapters ▼\n0:00 – 2:39 – Wrapped Up in Chemistry \n2:39 – 5:35 – “It Feels Like the Holy Grail”\n5:35 – 8:33 – Where We Get in Trouble (Feat. Ali Abdaal)\n8:33 – 10:40 – The Qualities That Need to Show Up\n10:40 – 14:07 – Is It Really an Amazing Connection?\n14:07 – 15:08 – It’s Not a Competition\n15:08 – 19:52 – Do We Have a Type? (Feat. Marie Forleo)\n\n▼ Connect with Ali Abdaal ▼\n\nWebsite → https://aliabdaal.com\n\nInstagram → https://www.instagram.com/aliabdaal/\n\nYoutube → @aliabdaal \n\n▼ Connect with Marie Forleo ▼\n\nWebsite → https://www.marieforleo.com\n\nInstagram → https://www.instagram.com/marieforleo/\n\nYoutube → @marieforleo",
          "playlistId": "UU9HGzFGt7BLmWDqooUbWGBg",
          "position": 0,
          "publishedAt": "2024-05-19T11:45:01Z",
          "resourceId": {
           "kind": "youtube#video",
           "videoId": "L5l_X4TXrZ8"
          },
          "thumbnails": {
           "default": {
            "height": 90,
            "url": "https://i.ytimg.com/vi/L5l_X4TXrZ8/default.jpg",
            "width": 120
           },
           "high": {
            "height": 360,
            "url": "https://i.ytimg.com/vi/L5l_X4TXrZ8/hqdefault.jpg",
            "width": 480
           },
           "maxres": {
            "height": 720,
            "url": "https://i.ytimg.com/vi/L5l_X4TXrZ8/maxresdefault.jpg",
            "width": 1280
           },
           "medium": {
            "height": 180,
            "url": "https://i.ytimg.com/vi/L5l_X4TXrZ8/mqdefault.jpg",
            "width": 320
           },
           "standard": {
            "height": 480,
            "url": "https://i.ytimg.com/vi/L5l_X4TXrZ8/sddefault.jpg",
            "width": 640
           }
          },
          "title": "How To AVOID Dating \"Players\"",
          "videoOwnerChannelId": "UC9HGzFGt7BLmWDqooUbWGBg",
          "videoOwnerChannelTitle": "Matthew Hussey"
         }
        },
        {
         "contentDetails": {
          "videoId": "JgKATVJUY7A",
          "videoPublishedAt": "2024-05-15T17:34:12Z"
         },
         "etag": "hOHhSS4xo8urRV1JnEEKQvqx7FI",
         "id": "VVU5SEd6Rkd0N0JMbVdEcW9vVWJXR0JnLkpnS0FUVkpVWTdB",
         "kind": "youtube#playlistItem",
         "snippet": {
          "channelId": "UC9HGzFGt7BLmWDqooUbWGBg",
          "channelTitle": "Matthew Hussey",
          "description": "►► Get Vulnerable Stories, Real Insights, and Practical Tools Delivered Straight to Your Inbox Every Friday. \nSign up Now For My Free Weekly Newsletter, The 3 Relationships at . . .\n→ http://www.The3Relationships.com\n\n▼\nDon’t Miss Out! Subscribe to my YouTube channel now.\nI post new love life advice for you every weekend.\n\n\n►► Order My New Book, \"Love Life\" at → http://www.LoveLifeBook.com\n\n►► FREE Video Training: “Dating With Results” → http://www.DatingWithResults.com\n\n\n▼ Get My Latest Dating Tips and Connect With Me… ▼\n\nBlog → https://www.matthewhussey.com/blog/\n\nFacebook → https://facebook.com/CoachMatthewHussey\n\nInstagram → https://www.instagram.com/thematthewhussey\n\nTwitter → https://twitter.com/matthewhussey\n\n▼ Connect with Sabrina ▼\n\nWebsite → https://www.sabrinazohar.com\n\nTikTok → https://www.tiktok.com/@sabrina.zohar\n\nInstagram → https://www.instagram.com/sabrina.zohar/\n\nYoutube → @Do.the.work.podcast",
          "playlistId": "UU9HGzFGt7BLmWDqooUbWGBg",
          "position": 1,
          "publishedAt": "2024-05-15T17:34:12Z",
          "resourceId": {
           "kind": "youtube#video",
           "videoId": "JgKATVJUY7A"
          },
          "thumbnails": {
           "default": {
            "height": 90,
            "url": "https://i.ytimg.com/vi/JgKATVJUY7A/default.jpg",
            "width": 120
           },
           "high": {
            "height": 360,
            "url": "https://i.ytimg.com/vi/JgKATVJUY7A/hqdefault.jpg",
            "width": 480
           },
           "maxres": {
            "height": 720,
            "url": "https://i.ytimg.com/vi/JgKATVJUY7A/maxresdefault.jpg",
            "width": 1280
           },
           "medium": {
            "height": 180,
            "url": "https://i.ytimg.com/vi/JgKATVJUY7A/mqdefault.jpg",
            "width": 320
           },
           "standard": {
            "height": 480,
            "url": "https://i.ytimg.com/vi/JgKATVJUY7A/sddefault.jpg",
            "width": 640
           }
          },
          "title": "Stop These Insecure Dating Behaviors! - w/ Sabrina Zohar",
          "videoOwnerChannelId": "UC9HGzFGt7BLmWDqooUbWGBg",
          "videoOwnerChannelTitle": "Matthew Hussey"
         }
        },
        {
         "contentDetails": {
          "videoId": "ZQ13ZgSJwic",
          "videoPublishedAt": "2024-05-15T15:00:36Z"
         },
         "etag": "5wyb0uWe5lvVhJlfUr3lR0vE4mQ",
         "id": "VVU5SEd6Rkd0N0JMbVdEcW9vVWJXR0JnLlpRMTNaZ1NKd2lj",
         "kind": "youtube#playlistItem",
         "snippet": {
          "channelId": "UC9HGzFGt7BLmWDqooUbWGBg",
          "channelTitle": "Matthew Hussey",
          "description": "The toll pretending “we’re fine” takes on us can be profound, because internally, it only prolongs the pain that nobody else sees. \n\nSure the world might see us as strong and resilient, but in an attempt to keep up appearances, we mask our authentic experience of life, which only disconnects us further from it. \n\nTrue growth can't begin until we have the courage to accept where we are, right now—acknowledging our truths, facing our fears, and embracing our vulnerabilities. \n\nGetting people to this place of radical acceptance is the starting point of my Retreat program. Over 6 immersive days, we create a safe environment to confront those truths, shed the weight of pretense, and heal.\n\nSo if 2024 is the year you want to confront life's complexities head-on, with courage and self-compassion, this is your invitation. Come join me. Apply now at MHRetreat.com",
          "playlistId": "UU9HGzFGt7BLmWDqooUbWGBg",
          "position": 2,
          "publishedAt": "2024-05-15T15:00:36Z",
          "resourceId": {
           "kind": "youtube#video",
           "videoId": "ZQ13ZgSJwic"
          },
          "thumbnails": {
           "default": {
            "height": 90,
            "url": "https://i.ytimg.com/vi/ZQ13ZgSJwic/default.jpg",
            "width": 120
           },
           "high": {
            "height": 360,
            "url": "https://i.ytimg.com/vi/ZQ13ZgSJwic/hqdefault.jpg",
            "width": 480
           },
           "maxres": {
            "height": 720,
            "url": "https://i.ytimg.com/vi/ZQ13ZgSJwic/maxresdefault.jpg",
            "width": 1280
           },
           "medium": {
            "height": 180,
            "url": "https://i.ytimg.com/vi/ZQ13ZgSJwic/mqdefault.jpg",
            "width": 320
           },
           "standard": {
            "height": 480,
            "url": "https://i.ytimg.com/vi/ZQ13ZgSJwic/sddefault.jpg",
            "width": 640
           }
          },
          "title": "The Problem With Pretending We're \"Fine\"",
          "videoOwnerChannelId": "UC9HGzFGt7BLmWDqooUbWGBg",
          "videoOwnerChannelTitle": "Matthew Hussey"
         }
        },
        {
         "contentDetails": {
          "videoId": "nHqyyt66dQk",
          "videoPublishedAt": "2024-05-12T12:05:06Z"
         },
         "etag": "-ePjuosyqMERaQHSXHjZgE5WMgw",
         "id": "VVU5SEd6Rkd0N0JMbVdEcW9vVWJXR0JnLm5IcXl5dDY2ZFFr",
         "kind": "youtube#playlistItem",
         "snippet": {
          "channelId": "UC9HGzFGt7BLmWDqooUbWGBg",
          "channelTitle": "Matthew Hussey",
          "description": "►► Get Vulnerable Stories, Real Insights and Practical Tools Delivered Straight to Your Inbox Every Friday.\nSign Up Now For My Weekly Newsletter, The 3 Relationships.com\n→ http://www.The3Relationships.com\n\n▼\nDon’t Miss Out! Subscribe to my YouTube channel now.\nI post new love life advice for you every weekend.\n\n\n►► Pre-Order My New Book, \"Love Life\" at → http://www.LoveLifeBook.com\n\n►► FREE Video Training: “Dating With Results” → http://www.DatingWithResults.com\n\n\n▼ Get My Latest Dating Tips and Connect With Me… ▼\n\nBlog → https://www.matthewhussey.com/blog/\n\nFacebook → https://facebook.com/CoachMatthewHussey\n\nInstagram → https://www.instagram.com/thematthewhussey\n\nTwitter → https://twitter.com/matthewhussey\n\n▼ Chapters ▼\n\n0:00 – 0:26 – Introduction\n0:26 – 2:02 – A Scarcity Mindset\n2:02 – 3:11 – THIS Is What Makes Us Stand Out in Dating\n3:11 – 4:23 – The Anxious Person’s “Fawn Response”\n4:23 – 5:43 – How an Avoidant Person Reacts  \n5:43 – 7:05 – How an Anxious Person Responds\n7:05 – 9:30 – The Secure Person’s Response\n9:30 – 10:04 – The Person Who Wants an Anxious Fawner\n10:04 – 11:12 – How About You?\n11:12 – 12:49 – The 3 Relationships",
          "playlistId": "UU9HGzFGt7BLmWDqooUbWGBg",
          "position": 3,
          "publishedAt": "2024-05-12T12:05:06Z",
          "resourceId": {
           "kind": "youtube#video",
           "videoId": "nHqyyt66dQk"
          },
          "thumbnails": {
           "default": {
            "height": 90,
            "url": "https://i.ytimg.com/vi/nHqyyt66dQk/default.jpg",
            "width": 120
           },
           "high": {
            "height": 360,
            "url": "https://i.ytimg.com/vi/nHqyyt66dQk/hqdefault.jpg",
            "width": 480
           },
           "maxres": {
            "height": 720,
            "url": "https://i.ytimg.com/vi/nHqyyt66dQk/maxresdefault.jpg",
            "width": 1280
           },
           "medium": {
            "height": 180,
            "url": "https://i.ytimg.com/vi/nHqyyt66dQk/mqdefault.jpg",
            "width": 320
           },
           "standard": {
            "height": 480,
            "url": "https://i.ytimg.com/vi/nHqyyt66dQk/sddefault.jpg",
            "width": 640
           }
          },
          "title": "THIS Is the Most Dangerous Moment in Dating... Here's Why",
          "videoOwnerChannelId": "UC9HGzFGt7BLmWDqooUbWGBg",
          "videoOwnerChannelTitle": "Matthew Hussey"
         }
        },
        {
         "contentDetails": {
          "videoId": "l_Cjd2ya5R0",
          "videoPublishedAt": "2024-05-11T15:00:42Z"
         },
         "etag": "BIC8yYJCyQ_33ifyAoouRvqEEXY",
         "id": "VVU5SEd6Rkd0N0JMbVdEcW9vVWJXR0JnLmxfQ2pkMnlhNVIw",
         "kind": "youtube#playlistItem",
         "snippet": {
          "channelId": "UC9HGzFGt7BLmWDqooUbWGBg",
          "channelTitle": "Matthew Hussey",
          "description": "Why is it that we're drawn to people who treat us poorly? It's a complex issue with countless reasons. Yet there's one reason in particular that goes to the core of why so many people struggle with this, and it's \"familiarity.\"\n\nThe truth is, there's something strangely familiar about these individuals and their behavior. It might be traced back to our childhood, how our caregivers treated us, or even the experiences that have silently shaped our perception of love.\n\nIf this resonates with you, please give yourself some compassion, because it's not your fault. Many of us developed these responses when survival instincts, not conscious choices, dictated our actions.\n\nThank you, @lewishowes for having me on your show! You can see the full podcast on his channel.\n\n#MatthewHussey #RelationshipAdvice #DatingAdvice",
          "playlistId": "UU9HGzFGt7BLmWDqooUbWGBg",
          "position": 4,
          "publishedAt": "2024-05-11T15:00:42Z",
          "resourceId": {
           "kind": "youtube#video",
           "videoId": "l_Cjd2ya5R0"
          },
          "thumbnails": {
           "default": {
            "height": 90,
            "url": "https://i.ytimg.com/vi/l_Cjd2ya5R0/default.jpg",
            "width": 120
           },
           "high": {
            "height": 360,
            "url": "https://i.ytimg.com/vi/l_Cjd2ya5R0/hqdefault.jpg",
            "width": 480
           },
           "maxres": {
            "height": 720,
            "url": "https://i.ytimg.com/vi/l_Cjd2ya5R0/maxresdefault.jpg",
            "width": 1280
           },
           "medium": {
            "height": 180,
            "url": "https://i.ytimg.com/vi/l_Cjd2ya5R0/mqdefault.jpg",
            "width": 320
           },
           "standard": {
            "height": 480,
            "url": "https://i.ytimg.com/vi/l_Cjd2ya5R0/sddefault.jpg",
            "width": 640
           }
          },
          "title": "Attracted to the Wrong People?",
          "videoOwnerChannelId": "UC9HGzFGt7BLmWDqooUbWGBg",
          "videoOwnerChannelTitle": "Matthew Hussey"
         }
        },
        {
         "contentDetails": {
          "videoId": "rMSIPaN25vI",
          "videoPublishedAt": "2024-05-10T15:00:52Z"
         },
         "etag": "FIzHwYT39Y71TzCfX6_3_rI-Tf4",
         "id": "VVU5SEd6Rkd0N0JMbVdEcW9vVWJXR0JnLnJNU0lQYU4yNXZJ",
         "kind": "youtube#playlistItem",
         "snippet": {
          "channelId": "UC9HGzFGt7BLmWDqooUbWGBg",
          "channelTitle": "Matthew Hussey",
          "description": "I believe many of you will relate to this . . . You break up with someone or tell them after a couple of dates that you don't feel you'd be a good fit. And then, guilt creeps in. And even though you know you did the right thing, the pain seems to become unbearable. Why is that? Well, maybe this is what your guilt actually means 👆 \n\nThank you, @ChrisWillx  for having me!",
          "playlistId": "UU9HGzFGt7BLmWDqooUbWGBg",
          "position": 5,
          "publishedAt": "2024-05-10T15:00:52Z",
          "resourceId": {
           "kind": "youtube#video",
           "videoId": "rMSIPaN25vI"
          },
          "thumbnails": {
           "default": {
            "height": 90,
            "url": "https://i.ytimg.com/vi/rMSIPaN25vI/default.jpg",
            "width": 120
           },
           "high": {
            "height": 360,
            "url": "https://i.ytimg.com/vi/rMSIPaN25vI/hqdefault.jpg",
            "width": 480
           },
           "maxres": {
            "height": 720,
            "url": "https://i.ytimg.com/vi/rMSIPaN25vI/maxresdefault.jpg",
            "width": 1280
           },
           "medium": {
            "height": 180,
            "url": "https://i.ytimg.com/vi/rMSIPaN25vI/mqdefault.jpg",
            "width": 320
           },
           "standard": {
            "height": 480,
            "url": "https://i.ytimg.com/vi/rMSIPaN25vI/sddefault.jpg",
            "width": 640
           }
          },
          "title": "Feeling Guilty After a Breakup? Watch This",
          "videoOwnerChannelId": "UC9HGzFGt7BLmWDqooUbWGBg",
          "videoOwnerChannelTitle": "Matthew Hussey"
         }
        },
        {
         "contentDetails": {
          "videoId": "v-7h8fxhTFQ",
          "videoPublishedAt": "2024-05-09T15:00:48Z"
         },
         "etag": "-LguuLw87QViGinDhtr85iLoSVA",
         "id": "VVU5SEd6Rkd0N0JMbVdEcW9vVWJXR0JnLnYtN2g4ZnhoVEZR",
         "kind": "youtube#playlistItem",
         "snippet": {
          "channelId": "UC9HGzFGt7BLmWDqooUbWGBg",
          "channelTitle": "Matthew Hussey",
          "description": "What does a healthy relationship actually look like? \n\nIt takes two people, each with a strong sense of self-worth and intrinsic value, who desire to build something together. This special alchemy results in a 1 + 1 = 3 equation, where they bring out the best in each other—benefiting themselves individually as well as the relationship as a whole.\n\nP.S. If you're in a place where you know you need to start building your own value, my next In-Person Retreat in Florida is taking place this September 9 - 15. Head over to MHRetreat.com to learn more about this immersive 6-day process where, together, we'll transform your self-worth and design your best life, regardless of your relationship status.\n\n#Shorts #MatthewHussey #RelationshipAdvice",
          "playlistId": "UU9HGzFGt7BLmWDqooUbWGBg",
          "position": 6,
          "publishedAt": "2024-05-09T15:00:48Z",
          "resourceId": {
           "kind": "youtube#video",
           "videoId": "v-7h8fxhTFQ"
          },
          "thumbnails": {
           "default": {
            "height": 90,
            "url": "https://i.ytimg.com/vi/v-7h8fxhTFQ/default.jpg",
            "width": 120
           },
           "high": {
            "height": 360,
            "url": "https://i.ytimg.com/vi/v-7h8fxhTFQ/hqdefault.jpg",
            "width": 480
           },
           "maxres": {
            "height": 720,
            "url": "https://i.ytimg.com/vi/v-7h8fxhTFQ/maxresdefault.jpg",
            "width": 1280
           },
           "medium": {
            "height": 180,
            "url": "https://i.ytimg.com/vi/v-7h8fxhTFQ/mqdefault.jpg",
            "width": 320
           },
           "standard": {
            "height": 480,
            "url": "https://i.ytimg.com/vi/v-7h8fxhTFQ/sddefault.jpg",
            "width": 640
           }
          },
          "title": "Building A HEALTHY RELATIONSHIP Starts With Us",
          "videoOwnerChannelId": "UC9HGzFGt7BLmWDqooUbWGBg",
          "videoOwnerChannelTitle": "Matthew Hussey"
         }
        },
        {
         "contentDetails": {
          "videoId": "Xvk_v7uYgPw",
          "videoPublishedAt": "2024-05-05T11:45:01Z"
         },
         "etag": "pN2gFm_u5vKIGoucLbtcMVDp8tQ",
         "id": "VVU5SEd6Rkd0N0JMbVdEcW9vVWJXR0JnLlh2a192N3VZZ1B3",
         "kind": "youtube#playlistItem",
         "snippet": {
          "channelId": "UC9HGzFGt7BLmWDqooUbWGBg",
          "channelTitle": "Matthew Hussey",
          "description": "►► Transform Your Relationship with Life in 6 Magical Days.\nLearn More About My Retreat at. . . \n→ http://www.MHRetreat.com\n\n▼\nDon’t Miss Out! Subscribe to my YouTube channel now.\nI post new love life advice for you every weekend.\n\n▼\nOver the past week, so many of you have expressed how much Angela’s story in my new book, Love Life, touched you deeply (in the chapter titled “Have Hard Conversations”). So this week I thought I’d share the actual interview with her from my Live Retreat.\n\nI’ve found that one of the biggest confidence-killers in dating happens when we dwell on the reasons why someone may not be attracted to us. Our looks, our age, our past, even the fact that we have kids—the fear of rejection for who we are can stop us before we get started.\n \nAngela’s story is one of the most impactful I’ve heard on confidence and insecurity, and I think you’ll love hearing it in her own words.\n\n\n►► Order My New Book, \"Love Life\" at → http://www.LoveLifeBook.com\n\n►► FREE Video Training: “Dating With Results” → http://www.DatingWithResults.com\n\n\n▼ Get My Latest Dating Tips and Connect With Me… ▼\n\nBlog → https://www.matthewhussey.com/blog/\n\nFacebook → https://facebook.com/CoachMatthewHussey\n\nInstagram → https://www.instagram.com/thematthewhussey\n\nTwitter → https://twitter.com/matthewhussey\n\n▼ Chapters ▼\n0:00 – 1:54 – A Massive Thank You\n1:54 – 6:56 – “My Self-Worth Was on the Ground”\n6:56 – 10:22 – “And What . . . ?”\n10:22 – 18:38 – The Phone Call\n18:38 – 21:18 – “What Was Holding Me Back”\n21:18 – 25:37 – “It Was Life-Changing”\n25:37 – 27:29 – Don’t Miss the Live Retreat",
          "playlistId": "UU9HGzFGt7BLmWDqooUbWGBg",
          "position": 7,
          "publishedAt": "2024-05-05T11:45:01Z",
          "resourceId": {
           "kind": "youtube#video",
           "videoId": "Xvk_v7uYgPw"
          },
          "thumbnails": {
           "default": {
            "height": 90,
            "url": "https://i.ytimg.com/vi/Xvk_v7uYgPw/default.jpg",
            "width": 120
           },
           "high": {
            "height": 360,
            "url": "https://i.ytimg.com/vi/Xvk_v7uYgPw/hqdefault.jpg",
            "width": 480
           },
           "maxres": {
            "height": 720,
            "url": "https://i.ytimg.com/vi/Xvk_v7uYgPw/maxresdefault.jpg",
            "width": 1280
           },
           "medium": {
            "height": 180,
            "url": "https://i.ytimg.com/vi/Xvk_v7uYgPw/mqdefault.jpg",
            "width": 320
           },
           "standard": {
            "height": 480,
            "url": "https://i.ytimg.com/vi/Xvk_v7uYgPw/sddefault.jpg",
            "width": 640
           }
          },
          "title": "Afraid You'll Never Find Love? You NEED to Hear THIS",
          "videoOwnerChannelId": "UC9HGzFGt7BLmWDqooUbWGBg",
          "videoOwnerChannelTitle": "Matthew Hussey"
         }
        },
        {
         "contentDetails": {
          "videoId": "10CsOVtc0EE",
          "videoPublishedAt": "2024-05-03T16:03:14Z"
         },
         "etag": "3Q1tGPZeJvz-iBBp9TtZFcTfycc",
         "id": "VVU5SEd6Rkd0N0JMbVdEcW9vVWJXR0JnLjEwQ3NPVnRjMEVF",
         "kind": "youtube#playlistItem",
         "snippet": {
          "channelId": "UC9HGzFGt7BLmWDqooUbWGBg",
          "channelTitle": "Matthew Hussey",
          "description": "Stopping by to say hi, answer a few questions and let you know about something exciting coming up.\r\n\r\nMy \"Find Your Person\" event is happening this Saturday, May 4th at 10am PT / 1pm ET / 6pm UK. This exclusive virtual event is only open to those who have picked up their copy of Love Life, so if you haven't gotten yours yet, don't wait! \r\n\r\nGet your copy now at https://LoveLifeBook.com and on the same page you can register your purchase using your order number and redeem your free ticket to the event, as well as be entered into the Love Life Giveaway! You could win a 1:1 with me, tickets to my retreat, your own Love Life sweater and much more. I can't wait to see you there.\r\n\r\nFor any assistance please connect with my team at support@matthewhussey.com",
          "playlistId": "UU9HGzFGt7BLmWDqooUbWGBg",
          "position": 8,
          "publishedAt": "2024-05-03T16:03:14Z",
          "resourceId": {
           "kind": "youtube#video",
           "videoId": "10CsOVtc0EE"
          },
          "thumbnails": {
           "default": {
            "height": 90,
            "url": "https://i.ytimg.com/vi/10CsOVtc0EE/default.jpg",
            "width": 120
           },
           "high": {
            "height": 360,
            "url": "https://i.ytimg.com/vi/10CsOVtc0EE/hqdefault.jpg",
            "width": 480
           },
           "maxres": {
            "height": 720,
            "url": "https://i.ytimg.com/vi/10CsOVtc0EE/maxresdefault.jpg",
            "width": 1280
           },
           "medium": {
            "height": 180,
            "url": "https://i.ytimg.com/vi/10CsOVtc0EE/mqdefault.jpg",
            "width": 320
           },
           "standard": {
            "height": 480,
            "url": "https://i.ytimg.com/vi/10CsOVtc0EE/sddefault.jpg",
            "width": 640
           }
          },
          "title": "Answering Your Questions LIVE",
          "videoOwnerChannelId": "UC9HGzFGt7BLmWDqooUbWGBg",
          "videoOwnerChannelTitle": "Matthew Hussey"
         }
        },
        {
         "contentDetails": {
          "videoId": "RpXzWZIZA-s",
          "videoPublishedAt": "2024-05-02T17:55:07Z"
         },
         "etag": "ZM2q4hKFwQ0gY1ccfNRex2R2CMM",
         "id": "VVU5SEd6Rkd0N0JMbVdEcW9vVWJXR0JnLlJwWHpXWklaQS1z",
         "kind": "youtube#playlistItem",
         "snippet": {
          "channelId": "UC9HGzFGt7BLmWDqooUbWGBg",
          "channelTitle": "Matthew Hussey",
          "description": "Stopping by to say hi, answer a few questions and let you know about something exciting coming up.\r\n\r\nMy \"Find Your Person\" event is happening this Saturday, May 4th at 10am PT / 1pm ET / 6pm UK. This exclusive virtual event is only open to those who have picked up their copy of Love Life, so if you haven't gotten yours yet, don't wait! \r\n\r\nGet your copy now at https://LoveLifeBook.com and on the same page you can register your purchase using your order number and redeem your free ticket to the event, as well as be entered into the Love Life Giveaway! You could win a 1:1 with me, tickets to my retreat, your own Love Life sweater and much more. I can't wait to see you there.\r\n\r\nFor any assistance please connect with my team at support@matthewhussey.com",
          "playlistId": "UU9HGzFGt7BLmWDqooUbWGBg",
          "position": 9,
          "publishedAt": "2024-05-02T17:55:07Z",
          "resourceId": {
           "kind": "youtube#video",
           "videoId": "RpXzWZIZA-s"
          },
          "thumbnails": {
           "default": {
            "height": 90,
            "url": "https://i.ytimg.com/vi/RpXzWZIZA-s/default.jpg",
            "width": 120
           },
           "high": {
            "height": 360,
            "url": "https://i.ytimg.com/vi/RpXzWZIZA-s/hqdefault.jpg",
            "width": 480
           },
           "maxres": {
            "height": 720,
            "url": "https://i.ytimg.com/vi/RpXzWZIZA-s/maxresdefault.jpg",
            "width": 1280
           },
           "medium": {
            "height": 180,
            "url": "https://i.ytimg.com/vi/RpXzWZIZA-s/mqdefault.jpg",
            "width": 320
           },
           "standard": {
            "height": 480,
            "url": "https://i.ytimg.com/vi/RpXzWZIZA-s/sddefault.jpg",
            "width": 640
           }
          },
          "title": "Answering Your Questions LIVE",
          "videoOwnerChannelId": "UC9HGzFGt7BLmWDqooUbWGBg",
          "videoOwnerChannelTitle": "Matthew Hussey"
         }
        },
        {
         "contentDetails": {
          "videoId": "nDUojvw9SNY",
          "videoPublishedAt": "2024-05-02T16:00:40Z"
         },
         "etag": "JWmsIdVSij9t1N0uH3n_zyKMxqM",
         "id": "VVU5SEd6Rkd0N0JMbVdEcW9vVWJXR0JnLm5EVW9qdnc5U05Z",
         "kind": "youtube#playlistItem",
         "snippet": {
          "channelId": "UC9HGzFGt7BLmWDqooUbWGBg",
          "channelTitle": "Matthew Hussey",
          "description": "My friend Lisa Bilyeu and I had a beautiful conversation about confidence, self-worth, and how to move on from unhealthy relationships! You can find the full episode on my YouTube channel and on the Love Life podcast. \n\nShe also speaks at length about this in her book \"Radical Confidence\" (which came out in paperback yesterday!) Check it out at https://RadicalConfidence.com ❤️",
          "playlistId": "UU9HGzFGt7BLmWDqooUbWGBg",
          "position": 10,
          "publishedAt": "2024-05-02T16:00:40Z",
          "resourceId": {
           "kind": "youtube#video",
           "videoId": "nDUojvw9SNY"
          },
          "thumbnails": {
           "default": {
            "height": 90,
            "url": "https://i.ytimg.com/vi/nDUojvw9SNY/default.jpg",
            "width": 120
           },
           "high": {
            "height": 360,
            "url": "https://i.ytimg.com/vi/nDUojvw9SNY/hqdefault.jpg",
            "width": 480
           },
           "maxres": {
            "height": 720,
            "url": "https://i.ytimg.com/vi/nDUojvw9SNY/maxresdefault.jpg",
            "width": 1280
           },
           "medium": {
            "height": 180,
            "url": "https://i.ytimg.com/vi/nDUojvw9SNY/mqdefault.jpg",
            "width": 320
           },
           "standard": {
            "height": 480,
            "url": "https://i.ytimg.com/vi/nDUojvw9SNY/sddefault.jpg",
            "width": 640
           }
          },
          "title": "The Importance of Choosing Yourself",
          "videoOwnerChannelId": "UC9HGzFGt7BLmWDqooUbWGBg",
          "videoOwnerChannelTitle": "Matthew Hussey"
         }
        },
        {
         "contentDetails": {
          "videoId": "FRZxv1yUghI",
          "videoPublishedAt": "2024-05-01T19:44:17Z"
         },
         "etag": "zDEEQRXC3yzULgiBRVOkJTQjxwI",
         "id": "VVU5SEd6Rkd0N0JMbVdEcW9vVWJXR0JnLkZSWnh2MXlVZ2hJ",
         "kind": "youtube#playlistItem",
         "snippet": {
          "channelId": "UC9HGzFGt7BLmWDqooUbWGBg",
          "channelTitle": "Matthew Hussey",
          "description": "Answering Your Questions LIVE\n\nMy “Find Your Person” event is happening this Saturday, May 4th at 10am PT / 1pm ET / 6pm UK. This exclusive virtual event is only open to those who have picked up their copy of Love Life, so if you haven’t gotten yours yet, don’t wait! \n\nGet your copy now at LoveLifeBook.com and on the same page you can register your purchase using your order number and redeem your free ticket to the event, as well as be entered into the Love Life Giveaway! You could win a 1:1 with me, tickets to my retreat, your own Love Life sweater and much more. I can’t wait to see you there.\n\nFor any assistance please connect with my team at support@matthewhussey.com",
          "playlistId": "UU9HGzFGt7BLmWDqooUbWGBg",
          "position": 11,
          "publishedAt": "2024-05-01T19:44:17Z",
          "resourceId": {
           "kind": "youtube#video",
           "videoId": "FRZxv1yUghI"
          },
          "thumbnails": {
           "default": {
            "height": 90,
            "url": "https://i.ytimg.com/vi/FRZxv1yUghI/default.jpg",
            "width": 120
           },
           "high": {
            "height": 360,
            "url": "https://i.ytimg.com/vi/FRZxv1yUghI/hqdefault.jpg",
            "width": 480
           },
           "maxres": {
            "height": 720,
            "url": "https://i.ytimg.com/vi/FRZxv1yUghI/maxresdefault.jpg",
            "width": 1280
           },
           "medium": {
            "height": 180,
            "url": "https://i.ytimg.com/vi/FRZxv1yUghI/mqdefault.jpg",
            "width": 320
           },
           "standard": {
            "height": 480,
            "url": "https://i.ytimg.com/vi/FRZxv1yUghI/sddefault.jpg",
            "width": 640
           }
          },
          "title": "Answering Your Questions LIVE",
          "videoOwnerChannelId": "UC9HGzFGt7BLmWDqooUbWGBg",
          "videoOwnerChannelTitle": "Matthew Hussey"
         }
        },
        {
         "contentDetails": {
          "videoId": "x3kP0-AXhio",
          "videoPublishedAt": "2024-05-01T18:06:04Z"
         },
         "etag": "z-sUTJOQ0YW5bfTvAvJ_ucCVdQI",
         "id": "VVU5SEd6Rkd0N0JMbVdEcW9vVWJXR0JnLngza1AwLUFYaGlv",
         "kind": "youtube#playlistItem",
         "snippet": {
          "channelId": "UC9HGzFGt7BLmWDqooUbWGBg",
          "channelTitle": "Matthew Hussey",
          "description": "►► Transform Your Relationship with Yourself, Others and Life Itself.\nJoin Me For 6 Days of Coaching Immersion. \nTo Learn How go to. . .\n→ http://www.MHRetreat.com\n\n▼\nDon’t Miss Out! Subscribe to my YouTube channel now.\nI post new love life advice for you every weekend.\n\n\n►► Pre-Order My New Book, \"Love Life\" at → http://www.LoveLifeBook.com\n\n►► FREE Video Training: “Dating With Results” → http://www.DatingWithResults.com\n\n\n▼ Get My Latest Dating Tips and Connect With Me… ▼\n\nBlog → https://www.matthewhussey.com/blog/\n\nFacebook → https://facebook.com/CoachMatthewHussey\n\nInstagram → https://www.instagram.com/thematthewhussey\n\nTwitter → https://twitter.com/matthewhussey\n\n▼ Connect With Lisa ▼\n\nRead Radical Confidence Now → https://radicalconfidence.com/\n\nFacebook → https://www.facebook.com/lisabilyeu/\n\nInstagram → https://www.instagram.com/lisabilyeu/\n\nYoutube → https://www.youtube.com/@LisaBilyeu/\n\nTikTok → https://www.tiktok.com/@lisa_bilyeu/",
          "playlistId": "UU9HGzFGt7BLmWDqooUbWGBg",
          "position": 12,
          "publishedAt": "2024-05-01T18:06:04Z",
          "resourceId": {
           "kind": "youtube#video",
           "videoId": "x3kP0-AXhio"
          },
          "thumbnails": {
           "default": {
            "height": 90,
            "url": "https://i.ytimg.com/vi/x3kP0-AXhio/default.jpg",
            "width": 120
           },
           "high": {
            "height": 360,
            "url": "https://i.ytimg.com/vi/x3kP0-AXhio/hqdefault.jpg",
            "width": 480
           },
           "maxres": {
            "height": 720,
            "url": "https://i.ytimg.com/vi/x3kP0-AXhio/maxresdefault.jpg",
            "width": 1280
           },
           "medium": {
            "height": 180,
            "url": "https://i.ytimg.com/vi/x3kP0-AXhio/mqdefault.jpg",
            "width": 320
           },
           "standard": {
            "height": 480,
            "url": "https://i.ytimg.com/vi/x3kP0-AXhio/sddefault.jpg",
            "width": 640
           }
          },
          "title": "How to Attract and Keep the Relationship You Really Want",
          "videoOwnerChannelId": "UC9HGzFGt7BLmWDqooUbWGBg",
          "videoOwnerChannelTitle": "Matthew Hussey"
         }
        },
        {
         "contentDetails": {
          "videoId": "heCYov5NnqI",
          "videoPublishedAt": "2024-05-01T13:00:39Z"
         },
         "etag": "CmNY08U-sNrGHs1qjpKsIO9doMg",
         "id": "VVU5SEd6Rkd0N0JMbVdEcW9vVWJXR0JnLmhlQ1lvdjVObnFJ",
         "kind": "youtube#playlistItem",
         "snippet": {
          "channelId": "UC9HGzFGt7BLmWDqooUbWGBg",
          "channelTitle": "Matthew Hussey",
          "description": "Ever found yourself repeating the same negative patterns that cause you chronic pain and stress? If you have, you’ll know they can sometimes be so deeply ingrained that breaking free from them feels impossible. \n\nBut don’t underestimate your ability to liberate yourself from these chronic patterns . . . you have more control than you realize.\n\nThe first step to reclaiming your peace is to consciously identify the root cause of that pain. Ask yourself: “What is the one big domino I could shift that would make the most difference to my well-being?”\n\n#Shorts #MatthewHussey #LifeAdvice #ChronicPain",
          "playlistId": "UU9HGzFGt7BLmWDqooUbWGBg",
          "position": 13,
          "publishedAt": "2024-05-01T13:00:39Z",
          "resourceId": {
           "kind": "youtube#video",
           "videoId": "heCYov5NnqI"
          },
          "thumbnails": {
           "default": {
            "height": 90,
            "url": "https://i.ytimg.com/vi/heCYov5NnqI/default.jpg",
            "width": 120
           },
           "high": {
            "height": 360,
            "url": "https://i.ytimg.com/vi/heCYov5NnqI/hqdefault.jpg",
            "width": 480
           },
           "maxres": {
            "height": 720,
            "url": "https://i.ytimg.com/vi/heCYov5NnqI/maxresdefault.jpg",
            "width": 1280
           },
           "medium": {
            "height": 180,
            "url": "https://i.ytimg.com/vi/heCYov5NnqI/mqdefault.jpg",
            "width": 320
           },
           "standard": {
            "height": 480,
            "url": "https://i.ytimg.com/vi/heCYov5NnqI/sddefault.jpg",
            "width": 640
           }
          },
          "title": "Break Free From Painful Negative Patterns",
          "videoOwnerChannelId": "UC9HGzFGt7BLmWDqooUbWGBg",
          "videoOwnerChannelTitle": "Matthew Hussey"
         }
        },
        {
         "contentDetails": {
          "videoId": "KANehpUjFak",
          "videoPublishedAt": "2024-04-29T20:30:17Z"
         },
         "etag": "zHHSGxgPCK8GX4ZSGgshArztQeA",
         "id": "VVU5SEd6Rkd0N0JMbVdEcW9vVWJXR0JnLktBTmVocFVqRmFr",
         "kind": "youtube#playlistItem",
         "snippet": {
          "channelId": "UC9HGzFGt7BLmWDqooUbWGBg",
          "channelTitle": "Matthew Hussey",
          "description": "My \"Find Your Person\" event is happening this Saturday, May 4th at 10am PT / 1pm ET / 6pm UK. This exclusive virtual event is only open to those who have picked up their copy of Love Life, so if you haven't gotten yours yet, don't wait! \n\nGet your copy now at https://LoveLifeBook.com and on the same page you can register your purchase using your order number and redeem your free ticket to the event, as well as be entered into the Love Life Giveaway! You could win a 1:1 with me, tickets to my retreat, your own Love Life sweater and much more. I can't wait to see you there.\n\nFor any assistance please connect with my team at support@matthewhussey.com",
          "playlistId": "UU9HGzFGt7BLmWDqooUbWGBg",
          "position": 14,
          "publishedAt": "2024-04-29T20:30:17Z",
          "resourceId": {
           "kind": "youtube#video",
           "videoId": "KANehpUjFak"
          },
          "thumbnails": {
           "default": {
            "height": 90,
            "url": "https://i.ytimg.com/vi/KANehpUjFak/default.jpg",
            "width": 120
           },
           "high": {
            "height": 360,
            "url": "https://i.ytimg.com/vi/KANehpUjFak/hqdefault.jpg",
            "width": 480
           },
           "maxres": {
            "height": 720,
            "url": "https://i.ytimg.com/vi/KANehpUjFak/maxresdefault.jpg",
            "width": 1280
           },
           "medium": {
            "height": 180,
            "url": "https://i.ytimg.com/vi/KANehpUjFak/mqdefault.jpg",
            "width": 320
           },
           "standard": {
            "height": 480,
            "url": "https://i.ytimg.com/vi/KANehpUjFak/sddefault.jpg",
            "width": 640
           }
          },
          "title": "Stopping By To Go LIVE",
          "videoOwnerChannelId": "UC9HGzFGt7BLmWDqooUbWGBg",
          "videoOwnerChannelTitle": "Matthew Hussey"
         }
        },
        {
         "contentDetails": {
          "videoId": "EdlO3y2e1q0",
          "videoPublishedAt": "2024-04-29T16:00:19Z"
         },
         "etag": "1Bgvl1hnpwODlISb06fEDhq61Z8",
         "id": "VVU5SEd6Rkd0N0JMbVdEcW9vVWJXR0JnLkVkbE8zeTJlMXEw",
         "kind": "youtube#playlistItem",
         "snippet": {
          "channelId": "UC9HGzFGt7BLmWDqooUbWGBg",
          "channelTitle": "Matthew Hussey",
          "description": "“What if I never find the right person?”\n\nI’ve been asked this question several times a week for the last 10+ years. You may feel SO ready to share your life with someone . . . only to have had dates that fizzled out or incompatible relationships . . . or perhaps you’ve remained single with no such person on the horizon. It can even begin to feel like that’s the way it will always be.\n \nIf you’re working through feelings of longing, loneliness, or sadness—or just want to feel more excited about dating—in the full video, I share 3 tools that will help you effectively manage those difficult emotions, and give you real hope for the future (check out the related video to see more)\n\n#Shorts #MatthewHussey #Relationshipadvice #DatingAdvice",
          "playlistId": "UU9HGzFGt7BLmWDqooUbWGBg",
          "position": 15,
          "publishedAt": "2024-04-29T16:00:19Z",
          "resourceId": {
           "kind": "youtube#video",
           "videoId": "EdlO3y2e1q0"
          },
          "thumbnails": {
           "default": {
            "height": 90,
            "url": "https://i.ytimg.com/vi/EdlO3y2e1q0/default.jpg",
            "width": 120
           },
           "high": {
            "height": 360,
            "url": "https://i.ytimg.com/vi/EdlO3y2e1q0/hqdefault.jpg",
            "width": 480
           },
           "maxres": {
            "height": 720,
            "url": "https://i.ytimg.com/vi/EdlO3y2e1q0/maxresdefault.jpg",
            "width": 1280
           },
           "medium": {
            "height": 180,
            "url": "https://i.ytimg.com/vi/EdlO3y2e1q0/mqdefault.jpg",
            "width": 320
           },
           "standard": {
            "height": 480,
            "url": "https://i.ytimg.com/vi/EdlO3y2e1q0/sddefault.jpg",
            "width": 640
           }
          },
          "title": "Worried You'll Never Find The Right Person?",
          "videoOwnerChannelId": "UC9HGzFGt7BLmWDqooUbWGBg",
          "videoOwnerChannelTitle": "Matthew Hussey"
         }
        },
        {
         "contentDetails": {
          "videoId": "aS--Q2UpdPw",
          "videoPublishedAt": "2024-04-28T00:12:57Z"
         },
         "etag": "EAvJge6sU6skw2t4SiG3QMIyNO4",
         "id": "VVU5SEd6Rkd0N0JMbVdEcW9vVWJXR0JnLmFTLS1RMlVwZFB3",
         "kind": "youtube#playlistItem",
         "snippet": {
          "channelId": "UC9HGzFGt7BLmWDqooUbWGBg",
          "channelTitle": "Matthew Hussey",
          "description": "Today is the LAST day to get the full bonus package when you order your copy of Love Life at https://LoveLifeBook.com . Only until midnight PT tonight you'll get a free copy of the Happiness after Heartbreak series and the Love Myths Film to accompany your Love Life book experience. You'll also be entered into the Love Life Giveaway where you could win a 1:1 with me, tickets to my retreat, your very own Love Life sweater and so much more! \r\n\r\nDon't miss your chance to get these incredible bonuses by picking up your copy of my new book at https://LoveLifeBook.com",
          "playlistId": "UU9HGzFGt7BLmWDqooUbWGBg",
          "position": 16,
          "publishedAt": "2024-04-28T00:12:57Z",
          "resourceId": {
           "kind": "youtube#video",
           "videoId": "aS--Q2UpdPw"
          },
          "thumbnails": {
           "default": {
            "height": 90,
            "url": "https://i.ytimg.com/vi/aS--Q2UpdPw/default.jpg",
            "width": 120
           },
           "high": {
            "height": 360,
            "url": "https://i.ytimg.com/vi/aS--Q2UpdPw/hqdefault.jpg",
            "width": 480
           },
           "maxres": {
            "height": 720,
            "url": "https://i.ytimg.com/vi/aS--Q2UpdPw/maxresdefault.jpg",
            "width": 1280
           },
           "medium": {
            "height": 180,
            "url": "https://i.ytimg.com/vi/aS--Q2UpdPw/mqdefault.jpg",
            "width": 320
           },
           "standard": {
            "height": 480,
            "url": "https://i.ytimg.com/vi/aS--Q2UpdPw/sddefault.jpg",
            "width": 640
           }
          },
          "title": "Answering Your Questions LIVE",
          "videoOwnerChannelId": "UC9HGzFGt7BLmWDqooUbWGBg",
          "videoOwnerChannelTitle": "Matthew Hussey"
         }
        },
        {
         "contentDetails": {
          "videoId": "uEoyMh9GrZo",
          "videoPublishedAt": "2024-04-27T17:11:58Z"
         },
         "etag": "yonIBNrAacKJItq_5vw4qGdeVrA",
         "id": "VVU5SEd6Rkd0N0JMbVdEcW9vVWJXR0JnLnVFb3lNaDlHclpv",
         "kind": "youtube#playlistItem",
         "snippet": {
          "channelId": "UC9HGzFGt7BLmWDqooUbWGBg",
          "channelTitle": "Matthew Hussey",
          "description": "This clip is a moment from The Man Enough Podcast that I did. If you have felt this way before, I hope that this video makes you feel seen. \n\nIf you need support in dealing with these challenging emotions, I encourage you to pick up a copy of my new book, Love Life, where I cover this very topic. You can grab yours today in stores at your favourite retailer or order online at https://LoveLifeBook.com \n\nWatch the full episode on The Man Enough Podcast at . . .  \nhttps://www.youtube.com/watch?v=IqHfDlPP2Ew\nhttps://manenough.com/podcast\n\n#Shorts #MatthewHussey #RelationshipAdvice",
          "playlistId": "UU9HGzFGt7BLmWDqooUbWGBg",
          "position": 17,
          "publishedAt": "2024-04-27T17:11:58Z",
          "resourceId": {
           "kind": "youtube#video",
           "videoId": "uEoyMh9GrZo"
          },
          "thumbnails": {
           "default": {
            "height": 90,
            "url": "https://i.ytimg.com/vi/uEoyMh9GrZo/default.jpg",
            "width": 120
           },
           "high": {
            "height": 360,
            "url": "https://i.ytimg.com/vi/uEoyMh9GrZo/hqdefault.jpg",
            "width": 480
           },
           "maxres": {
            "height": 720,
            "url": "https://i.ytimg.com/vi/uEoyMh9GrZo/maxresdefault.jpg",
            "width": 1280
           },
           "medium": {
            "height": 180,
            "url": "https://i.ytimg.com/vi/uEoyMh9GrZo/mqdefault.jpg",
            "width": 320
           },
           "standard": {
            "height": 480,
            "url": "https://i.ytimg.com/vi/uEoyMh9GrZo/sddefault.jpg",
            "width": 640
           }
          },
          "title": "We Have to Stop Shaming Women for Their Fear",
          "videoOwnerChannelId": "UC9HGzFGt7BLmWDqooUbWGBg",
          "videoOwnerChannelTitle": "Matthew Hussey"
         }
        },
        {
         "contentDetails": {
          "videoId": "oB9yB5-4bXg",
          "videoPublishedAt": "2024-04-26T12:45:03Z"
         },
         "etag": "DDOeTdyJQco55wAmRvl3_du6SJo",
         "id": "VVU5SEd6Rkd0N0JMbVdEcW9vVWJXR0JnLm9COXlCNS00Ylhn",
         "kind": "youtube#playlistItem",
         "snippet": {
          "channelId": "UC9HGzFGt7BLmWDqooUbWGBg",
          "channelTitle": "Matthew Hussey",
          "description": "►► Want to Make 2024 the Year to Make Finding Love Inevitable?\nOrder Love Life Now to Get a Free Ticket to My Virtual Event Called Find Your Person on May 4 at . . .\n→ http://www.LoveLifeBook.com\n\n▼\nDon’t Miss Out! Subscribe to my YouTube channel now.\nI post new love life advice for you every weekend.\n\n▼\nYou’ve been on a date or two with someone and things are going pretty well. Then suddenly they ask you, “Wanna come over to my place and watch a movie tonight?”\n\nIs it too soon? What if you like this person but you feel it’s moving a little too fast? In today’s video, I share 5 things you need to know before you “Netflix and chill” if you want more than just a casual hookup.\n\n\n►► Pre-Order My New Book, \"Love Life\" at → http://www.LoveLifeBook.com\n\n►► FREE Video Training: “Dating With Results” → http://www.DatingWithResults.com\n\n\n▼ Get My Latest Dating Tips and Connect With Me… ▼\n\nBlog → https://www.matthewhussey.com/blog/\n\nFacebook → https://facebook.com/CoachMatthewHussey\n\nInstagram → https://www.instagram.com/thematthewhussey\n\nTwitter → https://twitter.com/matthewhussey\n\n▼ Chapters ▼\n\n0:00 – 1:48 – It’s Out!\n1:48 – 2:43 – “Netflix & Chill” on a Second Date?\n2:43 – 3:14 – Aligning With the Results You Want\n3:14 – 3:52 – #1 You Set the Pace\n3:52 – 6:19 – #2 Decide Your Boundaries Ahead of Time\n6:19 – 7:05 – #3 When Familiarity Tricks You\n7:05 – 7:39 – #4 Don’t Change Your Behavior Just Because of This\n7:39 – 8:55 – #5 Setting a Precedent When It Comes to Effort\n8:55 – 9:47 – A Word on Safety\n9:47 – 10:38 – A Whirlwind of a Week + A Heartfelt Thank You\n10:38 – 11:18 – Find Your Person",
          "playlistId": "UU9HGzFGt7BLmWDqooUbWGBg",
          "position": 18,
          "publishedAt": "2024-04-26T12:45:03Z",
          "resourceId": {
           "kind": "youtube#video",
           "videoId": "oB9yB5-4bXg"
          },
          "thumbnails": {
           "default": {
            "height": 90,
            "url": "https://i.ytimg.com/vi/oB9yB5-4bXg/default.jpg",
            "width": 120
           },
           "high": {
            "height": 360,
            "url": "https://i.ytimg.com/vi/oB9yB5-4bXg/hqdefault.jpg",
            "width": 480
           },
           "maxres": {
            "height": 720,
            "url": "https://i.ytimg.com/vi/oB9yB5-4bXg/maxresdefault.jpg",
            "width": 1280
           },
           "medium": {
            "height": 180,
            "url": "https://i.ytimg.com/vi/oB9yB5-4bXg/mqdefault.jpg",
            "width": 320
           },
           "standard": {
            "height": 480,
            "url": "https://i.ytimg.com/vi/oB9yB5-4bXg/sddefault.jpg",
            "width": 640
           }
          },
          "title": "5 Things to Know Before You “Netflix and Chill” With Someone",
          "videoOwnerChannelId": "UC9HGzFGt7BLmWDqooUbWGBg",
          "videoOwnerChannelTitle": "Matthew Hussey"
         }
        },
        {
         "contentDetails": {
          "videoId": "MlIwAZHGoVM",
          "videoPublishedAt": "2024-04-24T19:22:31Z"
         },
         "etag": "QkxGy3XPbWUL695dmhlX0HV_JiM",
         "id": "VVU5SEd6Rkd0N0JMbVdEcW9vVWJXR0JnLk1sSXdBWkhHb1ZN",
         "kind": "youtube#playlistItem",
         "snippet": {
          "channelId": "UC9HGzFGt7BLmWDqooUbWGBg",
          "channelTitle": "Matthew Hussey",
          "description": "►► Want to Make 2024 the Year You Find Love?\nJoin my FREE Virtual Event Find Your Person LIVE on May 4th at. . . \n→ http://www.LoveLifeBook.com\n\n▼\nDon’t Miss Out! Subscribe to my YouTube channel now.\nI post new love life advice for you every weekend.\n\n►► Order My New Book, \"Love Life\" at → http://www.LoveLifeBook.com\n\n►► FREE Video Training: “Dating With Results” → http://www.DatingWithResults.com\n\n▼ Get My Latest Dating Tips and Connect With Me… ▼\n\nBlog → https://www.matthewhussey.com/blog/\n\nFacebook → https://facebook.com/CoachMatthewHussey\n\nInstagram → https://www.instagram.com/thematthewhussey\n\nTwitter → https://twitter.com/matthewhussey\n\n▼ Connect with Stephen ▼\n\nYoutube → https://bit.ly/StephenHusseyYoutube\n\nInstagram → http://bit.ly/StephenHusseyIG",
          "playlistId": "UU9HGzFGt7BLmWDqooUbWGBg",
          "position": 19,
          "publishedAt": "2024-04-24T19:22:31Z",
          "resourceId": {
           "kind": "youtube#video",
           "videoId": "MlIwAZHGoVM"
          },
          "thumbnails": {
           "default": {
            "height": 90,
            "url": "https://i.ytimg.com/vi/MlIwAZHGoVM/default.jpg",
            "width": 120
           },
           "high": {
            "height": 360,
            "url": "https://i.ytimg.com/vi/MlIwAZHGoVM/hqdefault.jpg",
            "width": 480
           },
           "maxres": {
            "height": 720,
            "url": "https://i.ytimg.com/vi/MlIwAZHGoVM/maxresdefault.jpg",
            "width": 1280
           },
           "medium": {
            "height": 180,
            "url": "https://i.ytimg.com/vi/MlIwAZHGoVM/mqdefault.jpg",
            "width": 320
           },
           "standard": {
            "height": 480,
            "url": "https://i.ytimg.com/vi/MlIwAZHGoVM/sddefault.jpg",
            "width": 640
           }
          },
          "title": "How to Choose the Right Person in Love",
          "videoOwnerChannelId": "UC9HGzFGt7BLmWDqooUbWGBg",
          "videoOwnerChannelTitle": "Matthew Hussey"
         }
        },
        {
         "contentDetails": {
          "videoId": "XAfcRDSk3ac",
          "videoPublishedAt": "2024-04-23T12:00:35Z"
         },
         "etag": "DSl_jBdKnxUZAaDMIwp--36Tuts",
         "id": "VVU5SEd6Rkd0N0JMbVdEcW9vVWJXR0JnLlhBZmNSRFNrM2Fj",
         "kind": "youtube#playlistItem",
         "snippet": {
          "channelId": "UC9HGzFGt7BLmWDqooUbWGBg",
          "channelTitle": "Matthew Hussey",
          "description": "►► Get Your FREE Ticket to Find Your Person LIVE on May 4\nPLUS a Chance to Win a 1:1 with Matthew & SO Much More!\nOrder Your Copy of Love Life to Enter the Love Life Giveaway at. . . \n→ http://www.LoveLifeBook.com\n\n▼\nDon’t Miss Out! Subscribe to my YouTube channel now.\nI post new love life advice for you every weekend.\n\n►► Pre-Order My New Book, \"Love Life\" at → http://www.LoveLifeBook.com\n\n►► FREE Video Training: “Dating With Results” → http://www.DatingWithResults.com\n\n\n▼ Get My Latest Dating Tips and Connect With Me… ▼\n\nBlog → https://www.matthewhussey.com/blog/\n\nFacebook → https://facebook.com/CoachMatthewHussey\n\nInstagram → https://www.instagram.com/thematthewhussey\n\nTwitter → https://twitter.com/matthewhussey",
          "playlistId": "UU9HGzFGt7BLmWDqooUbWGBg",
          "position": 20,
          "publishedAt": "2024-04-23T12:00:35Z",
          "resourceId": {
           "kind": "youtube#video",
           "videoId": "XAfcRDSk3ac"
          },
          "thumbnails": {
           "default": {
            "height": 90,
            "url": "https://i.ytimg.com/vi/XAfcRDSk3ac/default.jpg",
            "width": 120
           },
           "high": {
            "height": 360,
            "url": "https://i.ytimg.com/vi/XAfcRDSk3ac/hqdefault.jpg",
            "width": 480
           },
           "maxres": {
            "height": 720,
            "url": "https://i.ytimg.com/vi/XAfcRDSk3ac/maxresdefault.jpg",
            "width": 1280
           },
           "medium": {
            "height": 180,
            "url": "https://i.ytimg.com/vi/XAfcRDSk3ac/mqdefault.jpg",
            "width": 320
           },
           "standard": {
            "height": 480,
            "url": "https://i.ytimg.com/vi/XAfcRDSk3ac/sddefault.jpg",
            "width": 640
           }
          },
          "title": "My VERY Best Relationship Advice to Find Love in 2024",
          "videoOwnerChannelId": "UC9HGzFGt7BLmWDqooUbWGBg",
          "videoOwnerChannelTitle": "Matthew Hussey"
         }
        },
        {
         "contentDetails": {
          "videoId": "1wWUo3K2IQ4",
          "videoPublishedAt": "2024-04-21T21:01:38Z"
         },
         "etag": "2feQVJsPrPAdNGb8kRDKDcrw_D0",
         "id": "VVU5SEd6Rkd0N0JMbVdEcW9vVWJXR0JnLjF3V1VvM0sySVE0",
         "kind": "youtube#playlistItem",
         "snippet": {
          "channelId": "UC9HGzFGt7BLmWDqooUbWGBg",
          "channelTitle": "Matthew Hussey",
          "description": "Hey everyone! Today we're discussing YOUR biggest red flags from the comments of my recent Instagram post. \r\n\r\nIf you still haven't grabbed your copy of my new book, Love Life, head over to https://LoveLifeBook.com now to pre-order your copy (releasing April 23rd!) Once you do, you'll be entered into the Love Life Giveaway where you can win a 1:1 with me, tickets to my in-person retreat in Florida, your own Love Life sweater and much more.",
          "playlistId": "UU9HGzFGt7BLmWDqooUbWGBg",
          "position": 21,
          "publishedAt": "2024-04-21T21:01:38Z",
          "resourceId": {
           "kind": "youtube#video",
           "videoId": "1wWUo3K2IQ4"
          },
          "thumbnails": {
           "default": {
            "height": 90,
            "url": "https://i.ytimg.com/vi/1wWUo3K2IQ4/default.jpg",
            "width": 120
           },
           "high": {
            "height": 360,
            "url": "https://i.ytimg.com/vi/1wWUo3K2IQ4/hqdefault.jpg",
            "width": 480
           },
           "maxres": {
            "height": 720,
            "url": "https://i.ytimg.com/vi/1wWUo3K2IQ4/maxresdefault.jpg",
            "width": 1280
           },
           "medium": {
            "height": 180,
            "url": "https://i.ytimg.com/vi/1wWUo3K2IQ4/mqdefault.jpg",
            "width": 320
           },
           "standard": {
            "height": 480,
            "url": "https://i.ytimg.com/vi/1wWUo3K2IQ4/sddefault.jpg",
            "width": 640
           }
          },
          "title": "Talking About Your Red Flags LIVE",
          "videoOwnerChannelId": "UC9HGzFGt7BLmWDqooUbWGBg",
          "videoOwnerChannelTitle": "Matthew Hussey"
         }
        },
        {
         "contentDetails": {
          "videoId": "auZ3meqfIM8",
          "videoPublishedAt": "2024-04-21T12:37:43Z"
         },
         "etag": "3K_U7bnIqKPHtMVbQezgehmMDcc",
         "id": "VVU5SEd6Rkd0N0JMbVdEcW9vVWJXR0JnLmF1WjNtZXFmSU04",
         "kind": "youtube#playlistItem",
         "snippet": {
          "channelId": "UC9HGzFGt7BLmWDqooUbWGBg",
          "channelTitle": "Matthew Hussey",
          "description": "►► Want to Make 2024 The Year You Find Love?\nJoin My Free Virtual Event Find Your Person on May 4. . .\n→ http://www.LoveLifeBook.com\n\n▼\nDon’t Miss Out! Subscribe to my YouTube channel now.\nI post new love life advice for you every weekend.\n\n▼\nI’ve been asked this question several times a week for the last 10+ years. You may feel SO ready to share your life with someone . . . only to have had dates that fizzled out or incompatible relationships . . . or perhaps you’ve remained single with no such person on the horizon. It can even begin to feel like that’s the way it will always be.\n \nIf you’re working through feelings of longing, loneliness, or sadness—or just want to feel more excited about dating—in today’s new video, I share 3 tools that will help you effectively manage those difficult emotions, and give you real hope for the future.\n\n►► Pre-Order My New Book, \"Love Life\" at → http://www.LoveLifeBook.com\n\n►► FREE Video Training: “Dating With Results” → http://www.DatingWithResults.com\n\n\n▼ Get My Latest Dating Tips and Connect With Me… ▼\n\nBlog → https://www.matthewhussey.com/blog/\n\nFacebook → https://facebook.com/CoachMatthewHussey\n\nInstagram → https://www.instagram.com/thematthewhussey\n\nTwitter → https://twitter.com/matthewhussey\n\n▼ Chapters ▼\n0:00 – 2:32 – What If It Never Happens for Me?\n2:32 – 4:20 – Dealing With Chronic Pain \n4:20 – 5:16 – The Desire to Find Another Person\n5:16 – 8:57 – #1 Everything Changes \n8:57 – 11:28 – #2 Surrender\n11:28 – 13:57 – “Happy Enough”\n13:57 – 16:12 – #3 Pay Attention to the Modulations in Your Pain\n16:12 – 17:51 – Find Your Person\n17:51 – 19:02 – Love Life!",
          "playlistId": "UU9HGzFGt7BLmWDqooUbWGBg",
          "position": 22,
          "publishedAt": "2024-04-21T12:37:43Z",
          "resourceId": {
           "kind": "youtube#video",
           "videoId": "auZ3meqfIM8"
          },
          "thumbnails": {
           "default": {
            "height": 90,
            "url": "https://i.ytimg.com/vi/auZ3meqfIM8/default.jpg",
            "width": 120
           },
           "high": {
            "height": 360,
            "url": "https://i.ytimg.com/vi/auZ3meqfIM8/hqdefault.jpg",
            "width": 480
           },
           "maxres": {
            "height": 720,
            "url": "https://i.ytimg.com/vi/auZ3meqfIM8/maxresdefault.jpg",
            "width": 1280
           },
           "medium": {
            "height": 180,
            "url": "https://i.ytimg.com/vi/auZ3meqfIM8/mqdefault.jpg",
            "width": 320
           },
           "standard": {
            "height": 480,
            "url": "https://i.ytimg.com/vi/auZ3meqfIM8/sddefault.jpg",
            "width": 640
           }
          },
          "title": "How to Deal With the Fear of Never Finding Your Person",
          "videoOwnerChannelId": "UC9HGzFGt7BLmWDqooUbWGBg",
          "videoOwnerChannelTitle": "Matthew Hussey"
         }
        },
        {
         "contentDetails": {
          "videoId": "pROjRDs2TlU",
          "videoPublishedAt": "2024-04-19T22:00:27Z"
         },
         "etag": "gG6RqGdQ8itpU-QZuoJnYrdwcu8",
         "id": "VVU5SEd6Rkd0N0JMbVdEcW9vVWJXR0JnLnBST2pSRHMyVGxV",
         "kind": "youtube#playlistItem",
         "snippet": {
          "channelId": "UC9HGzFGt7BLmWDqooUbWGBg",
          "channelTitle": "Matthew Hussey",
          "description": "Never forget that YOU are the single greatest asset of your own life. \n\nBut if fully embracing this truth is challenging, and you want help connecting with your self-worth, then join me on my upcoming Retreat this year from September 9 - 15.\n\nOver 6 empowering days together, I'll personally guide you through your journey to redefine the relationship you have with yourself at its core. \n\nJust head to MHRetreat.com to learn more about securing your place\n\n#MatthewHussey #DatingAdvice #RelationshipAdvice #shorts",
          "playlistId": "UU9HGzFGt7BLmWDqooUbWGBg",
          "position": 23,
          "publishedAt": "2024-04-19T22:00:27Z",
          "resourceId": {
           "kind": "youtube#video",
           "videoId": "pROjRDs2TlU"
          },
          "thumbnails": {
           "default": {
            "height": 90,
            "url": "https://i.ytimg.com/vi/pROjRDs2TlU/default.jpg",
            "width": 120
           },
           "high": {
            "height": 360,
            "url": "https://i.ytimg.com/vi/pROjRDs2TlU/hqdefault.jpg",
            "width": 480
           },
           "maxres": {
            "height": 720,
            "url": "https://i.ytimg.com/vi/pROjRDs2TlU/maxresdefault.jpg",
            "width": 1280
           },
           "medium": {
            "height": 180,
            "url": "https://i.ytimg.com/vi/pROjRDs2TlU/mqdefault.jpg",
            "width": 320
           },
           "standard": {
            "height": 480,
            "url": "https://i.ytimg.com/vi/pROjRDs2TlU/sddefault.jpg",
            "width": 640
           }
          },
          "title": "Ever Doubted Your Self-Worth? This Is for You...",
          "videoOwnerChannelId": "UC9HGzFGt7BLmWDqooUbWGBg",
          "videoOwnerChannelTitle": "Matthew Hussey"
         }
        },
        {
         "contentDetails": {
          "videoId": "CqUVDeYSF5s",
          "videoPublishedAt": "2024-04-19T20:22:47Z"
         },
         "etag": "ivhAPFY2DBUL9I3y38s0Nt2KOm0",
         "id": "VVU5SEd6Rkd0N0JMbVdEcW9vVWJXR0JnLkNxVVZEZVlTRjVz",
         "kind": "youtube#playlistItem",
         "snippet": {
          "channelId": "UC9HGzFGt7BLmWDqooUbWGBg",
          "channelTitle": "Matthew Hussey",
          "description": "►► Ready to Map Your Path to Make Finding Love Inevitable in 2024?\nJoin My FREE Virtual Event \"Find Your Person\" LIVE on May 4 to Learn How. . . \nReserve Your Spot Now at. . . \n→ http://www.LoveLifeBook.com\n\n▼\nDon’t Miss Out! Subscribe to my YouTube channel now.\nI post new love life advice for you every weekend.\n\n►► Pre-Order My New Book, \"Love Life\" at → http://www.LoveLifeBook.com\n\n►► FREE Video Training: “Dating With Results” → http://www.DatingWithResults.com\n\n▼ Get My Latest Dating Tips and Connect With Me… ▼\n\nBlog → https://www.matthewhussey.com/blog/\n\nFacebook → https://facebook.com/CoachMatthewHussey\n\nInstagram → https://www.instagram.com/thematthewhussey\n\nTwitter → https://twitter.com/matthewhussey\n\n▼ Connect with Audrey ▼\n\nInstagram → https://bit.ly/AudreyHusseyIG",
          "playlistId": "UU9HGzFGt7BLmWDqooUbWGBg",
          "position": 24,
          "publishedAt": "2024-04-19T20:22:47Z",
          "resourceId": {
           "kind": "youtube#video",
           "videoId": "CqUVDeYSF5s"
          },
          "thumbnails": {
           "default": {
            "height": 90,
            "url": "https://i.ytimg.com/vi/CqUVDeYSF5s/default.jpg",
            "width": 120
           },
           "high": {
            "height": 360,
            "url": "https://i.ytimg.com/vi/CqUVDeYSF5s/hqdefault.jpg",
            "width": 480
           },
           "maxres": {
            "height": 720,
            "url": "https://i.ytimg.com/vi/CqUVDeYSF5s/maxresdefault.jpg",
            "width": 1280
           },
           "medium": {
            "height": 180,
            "url": "https://i.ytimg.com/vi/CqUVDeYSF5s/mqdefault.jpg",
            "width": 320
           },
           "standard": {
            "height": 480,
            "url": "https://i.ytimg.com/vi/CqUVDeYSF5s/sddefault.jpg",
            "width": 640
           }
          },
          "title": "Should You Trust Your Instincts in Love?",
          "videoOwnerChannelId": "UC9HGzFGt7BLmWDqooUbWGBg",
          "videoOwnerChannelTitle": "Matthew Hussey"
         }
        },
        {
         "contentDetails": {
          "videoId": "GyMmQsGgqr4",
          "videoPublishedAt": "2024-04-17T20:45:00Z"
         },
         "etag": "yv_rXlHiuqjzhDwJvrjc3OGovdM",
         "id": "VVU5SEd6Rkd0N0JMbVdEcW9vVWJXR0JnLkd5TW1Rc0dncXI0",
         "kind": "youtube#playlistItem",
         "snippet": {
          "channelId": "UC9HGzFGt7BLmWDqooUbWGBg",
          "channelTitle": "Matthew Hussey",
          "description": "►► Want to Make 2024 the Year You Find Love?\nJoin My FREE Virtual Event Called Find Your Person LIVE on May 4\nReserve Your Spot Now by Going to. . .\n→ http://www.LoveLifeBook.com\n\n▼\nDon’t Miss Out! Subscribe to my YouTube channel now.\nI post new love life advice for you every weekend.\n\n►► Pre-Order My New Book, \"Love Life\" at → http://www.LoveLifeBook.com\n\n►► FREE Video Training: “Dating With Results” → http://www.DatingWithResults.com\n\n\n▼ Get My Latest Dating Tips and Connect With Me… ▼\n\nBlog → https://www.matthewhussey.com/blog/\n\nFacebook → https://facebook.com/CoachMatthewHussey\n\nInstagram → https://www.instagram.com/thematthewhussey\n\nTwitter → https://twitter.com/matthewhussey\n\n▼ Connect with Mark ▼\n\nInstagram → https://www.instagram.com/createthelove/\n\nInstagram → https://www.instagram.com/createthelove/\n\nWebsite → https://markgroves.com\n\nYoutube → https://www.youtube.com/channel/UClgLCOnztdrdu6qAOH-PVdA\n\n▼ Connect with Audrey ▼\n\nInstagram → https://bit.ly/AudreyHusseyIG",
          "playlistId": "UU9HGzFGt7BLmWDqooUbWGBg",
          "position": 25,
          "publishedAt": "2024-04-17T20:45:00Z",
          "resourceId": {
           "kind": "youtube#video",
           "videoId": "GyMmQsGgqr4"
          },
          "thumbnails": {
           "default": {
            "height": 90,
            "url": "https://i.ytimg.com/vi/GyMmQsGgqr4/default.jpg",
            "width": 120
           },
           "high": {
            "height": 360,
            "url": "https://i.ytimg.com/vi/GyMmQsGgqr4/hqdefault.jpg",
            "width": 480
           },
           "maxres": {
            "height": 720,
            "url": "https://i.ytimg.com/vi/GyMmQsGgqr4/maxresdefault.jpg",
            "width": 1280
           },
           "medium": {
            "height": 180,
            "url": "https://i.ytimg.com/vi/GyMmQsGgqr4/mqdefault.jpg",
            "width": 320
           },
           "standard": {
            "height": 480,
            "url": "https://i.ytimg.com/vi/GyMmQsGgqr4/sddefault.jpg",
            "width": 640
           }
          },
          "title": "How to Find Love With Anxious Attachment",
          "videoOwnerChannelId": "UC9HGzFGt7BLmWDqooUbWGBg",
          "videoOwnerChannelTitle": "Matthew Hussey"
         }
        },
        {
         "contentDetails": {
          "videoId": "E3xUfFMCPpk",
          "videoPublishedAt": "2024-04-16T19:05:41Z"
         },
         "etag": "KpI9OZt2eT8cjHJVj70IWWt_nhI",
         "id": "VVU5SEd6Rkd0N0JMbVdEcW9vVWJXR0JnLkUzeFVmRk1DUHBr",
         "kind": "youtube#playlistItem",
         "snippet": {
          "channelId": "UC9HGzFGt7BLmWDqooUbWGBg",
          "channelTitle": "Matthew Hussey",
          "description": "Pre-Order your copy of my new book, Love Life at https://LoveLifeBook.com\n\nSecure your copy before April 23rd to redeem your bonus package (plus be entered into my exclusive giveaway where you could win a ticket to my in-person retreat and much, much more!).",
          "playlistId": "UU9HGzFGt7BLmWDqooUbWGBg",
          "position": 26,
          "publishedAt": "2024-04-16T19:05:41Z",
          "resourceId": {
           "kind": "youtube#video",
           "videoId": "E3xUfFMCPpk"
          },
          "thumbnails": {
           "default": {
            "height": 90,
            "url": "https://i.ytimg.com/vi/E3xUfFMCPpk/default.jpg",
            "width": 120
           },
           "high": {
            "height": 360,
            "url": "https://i.ytimg.com/vi/E3xUfFMCPpk/hqdefault.jpg",
            "width": 480
           },
           "maxres": {
            "height": 720,
            "url": "https://i.ytimg.com/vi/E3xUfFMCPpk/maxresdefault.jpg",
            "width": 1280
           },
           "medium": {
            "height": 180,
            "url": "https://i.ytimg.com/vi/E3xUfFMCPpk/mqdefault.jpg",
            "width": 320
           },
           "standard": {
            "height": 480,
            "url": "https://i.ytimg.com/vi/E3xUfFMCPpk/sddefault.jpg",
            "width": 640
           }
          },
          "title": "Let's Talk LIVE About Emotional Unavailability in Dating",
          "videoOwnerChannelId": "UC9HGzFGt7BLmWDqooUbWGBg",
          "videoOwnerChannelTitle": "Matthew Hussey"
         }
        },
        {
         "contentDetails": {
          "videoId": "ChzcXB-P_bA",
          "videoPublishedAt": "2024-04-15T18:10:28Z"
         },
         "etag": "NQ1unvdas1nZFXFsWtTVxg5q9oc",
         "id": "VVU5SEd6Rkd0N0JMbVdEcW9vVWJXR0JnLkNoemNYQi1QX2JB",
         "kind": "youtube#playlistItem",
         "snippet": {
          "channelId": "UC9HGzFGt7BLmWDqooUbWGBg",
          "channelTitle": "Matthew Hussey",
          "description": "You know those moments where you look back and think, “I wish I’d known then what I know now”? Hopefully you can learn from my mistakes in my 20s and 30s to save yourself extra time (and heartache)!\n \nIf you’ve ever found yourself giving more than the other person in your relationship, felt heartbroken that someone doesn’t like you back, or chased the wrong person, you can’t miss this (Full video on my channel)\n\n#Shorts #MatthewHussey #DatingAdvice #RelationshipAdvice",
          "playlistId": "UU9HGzFGt7BLmWDqooUbWGBg",
          "position": 27,
          "publishedAt": "2024-04-15T18:10:28Z",
          "resourceId": {
           "kind": "youtube#video",
           "videoId": "ChzcXB-P_bA"
          },
          "thumbnails": {
           "default": {
            "height": 90,
            "url": "https://i.ytimg.com/vi/ChzcXB-P_bA/default.jpg",
            "width": 120
           },
           "high": {
            "height": 360,
            "url": "https://i.ytimg.com/vi/ChzcXB-P_bA/hqdefault.jpg",
            "width": 480
           },
           "maxres": {
            "height": 720,
            "url": "https://i.ytimg.com/vi/ChzcXB-P_bA/maxresdefault.jpg",
            "width": 1280
           },
           "medium": {
            "height": 180,
            "url": "https://i.ytimg.com/vi/ChzcXB-P_bA/mqdefault.jpg",
            "width": 320
           },
           "standard": {
            "height": 480,
            "url": "https://i.ytimg.com/vi/ChzcXB-P_bA/sddefault.jpg",
            "width": 640
           }
          },
          "title": "I Wish I Knew THIS When I Was Dating...",
          "videoOwnerChannelId": "UC9HGzFGt7BLmWDqooUbWGBg",
          "videoOwnerChannelTitle": "Matthew Hussey"
         }
        },
        {
         "contentDetails": {
          "videoId": "LPvuuVgqLsc",
          "videoPublishedAt": "2024-04-14T11:00:22Z"
         },
         "etag": "BhDOIfm8YT4wBUaDV17qtV_bJd8",
         "id": "VVU5SEd6Rkd0N0JMbVdEcW9vVWJXR0JnLkxQdnV1VmdxTHNj",
         "kind": "youtube#playlistItem",
         "snippet": {
          "channelId": "UC9HGzFGt7BLmWDqooUbWGBg",
          "channelTitle": "Matthew Hussey",
          "description": "►► Pre-Order Love Life Now For a Chance to Win\nOnce in a Lifetime Prizes in the Love Life Giveaway at. . .\n→ http://www.LoveLifeBook.com\n\n▼\nDon’t Miss Out! Subscribe to my YouTube channel now.\nI post new love life advice for you every weekend.\n\n▼\nYou know those moments where you look back and think, “I wish I’d known then what I know now”? Well, in today’s new video, I share the 7 things I wish I knew back when I was dating. Hopefully you can learn from my mistakes in my 20s and 30s to save yourself extra time (and heartache)!\n \nIf you’ve ever found yourself giving more than the other person in your relationship, felt heartbroken that someone doesn’t like you back, or chased the wrong person, you can’t miss this! \n\n\n►► Pre-Order My New Book, \"Love Life\" at → http://www.LoveLifeBook.com\n\n►► FREE Video Training: “Dating With Results” → http://www.DatingWithResults.com\n\n\n▼ Get My Latest Dating Tips and Connect With Me… ▼\n\nBlog → https://www.matthewhussey.com/blog/\n\nFacebook → https://facebook.com/CoachMatthewHussey\n\nInstagram → https://www.instagram.com/thematthewhussey\n\nTwitter → https://twitter.com/matthewhussey\n\n▼ Chapters ▼\n\n0:00 – 1:47 – Exclusive Giveaway\n1:47 – 3:35 – #1 You Are Not for Everyone . . . and That’s OK\n3:35 – 5:39 – #2 What We Want vs. What We Need\n5:39 – 7:43 – #3 “Hard to Get” Doesn’t Mean “Great to Keep”\n7:43 – 9:53 – #4 Intention Is Everything\n9:53 – 12:31 – #5 Get Out of the Middle\n12:31 – 14:50 – #6 Never Abandon Yourself\n14:50 – 17:40 – #7 Right Doesn’t Mean Easy\n17:40 – 18:33 – “Love Life” Is Nearly Here!",
          "playlistId": "UU9HGzFGt7BLmWDqooUbWGBg",
          "position": 28,
          "publishedAt": "2024-04-14T11:00:22Z",
          "resourceId": {
           "kind": "youtube#video",
           "videoId": "LPvuuVgqLsc"
          },
          "thumbnails": {
           "default": {
            "height": 90,
            "url": "https://i.ytimg.com/vi/LPvuuVgqLsc/default.jpg",
            "width": 120
           },
           "high": {
            "height": 360,
            "url": "https://i.ytimg.com/vi/LPvuuVgqLsc/hqdefault.jpg",
            "width": 480
           },
           "maxres": {
            "height": 720,
            "url": "https://i.ytimg.com/vi/LPvuuVgqLsc/maxresdefault.jpg",
            "width": 1280
           },
           "medium": {
            "height": 180,
            "url": "https://i.ytimg.com/vi/LPvuuVgqLsc/mqdefault.jpg",
            "width": 320
           },
           "standard": {
            "height": 480,
            "url": "https://i.ytimg.com/vi/LPvuuVgqLsc/sddefault.jpg",
            "width": 640
           }
          },
          "title": "7 Things I Wish I Knew When I Was Dating",
          "videoOwnerChannelId": "UC9HGzFGt7BLmWDqooUbWGBg",
          "videoOwnerChannelTitle": "Matthew Hussey"
         }
        },
        {
         "contentDetails": {
          "videoId": "7XnT4l0msj4",
          "videoPublishedAt": "2024-04-12T15:00:05Z"
         },
         "etag": "hy7gC1etQOekh7smdXLC03F7noY",
         "id": "VVU5SEd6Rkd0N0JMbVdEcW9vVWJXR0JnLjdYblQ0bDBtc2o0",
         "kind": "youtube#playlistItem",
         "snippet": {
          "channelId": "UC9HGzFGt7BLmWDqooUbWGBg",
          "channelTitle": "Matthew Hussey",
          "description": "What makes someone value us is when they realise that being with us is not a given, but something they have to show up to deserve ❤️ Do you agree? Tell me in the comments! \n\n#MatthewHussey #DatingAdvice #RelationshipAdvice #Shorts",
          "playlistId": "UU9HGzFGt7BLmWDqooUbWGBg",
          "position": 29,
          "publishedAt": "2024-04-12T15:00:05Z",
          "resourceId": {
           "kind": "youtube#video",
           "videoId": "7XnT4l0msj4"
          },
          "thumbnails": {
           "default": {
            "height": 90,
            "url": "https://i.ytimg.com/vi/7XnT4l0msj4/default.jpg",
            "width": 120
           },
           "high": {
            "height": 360,
            "url": "https://i.ytimg.com/vi/7XnT4l0msj4/hqdefault.jpg",
            "width": 480
           },
           "maxres": {
            "height": 720,
            "url": "https://i.ytimg.com/vi/7XnT4l0msj4/maxresdefault.jpg",
            "width": 1280
           },
           "medium": {
            "height": 180,
            "url": "https://i.ytimg.com/vi/7XnT4l0msj4/mqdefault.jpg",
            "width": 320
           },
           "standard": {
            "height": 480,
            "url": "https://i.ytimg.com/vi/7XnT4l0msj4/sddefault.jpg",
            "width": 640
           }
          },
          "title": "THIS is What Makes Someone Value You",
          "videoOwnerChannelId": "UC9HGzFGt7BLmWDqooUbWGBg",
          "videoOwnerChannelTitle": "Matthew Hussey"
         }
        },
        {
         "contentDetails": {
          "videoId": "gqhqYvRZawo",
          "videoPublishedAt": "2024-04-11T17:00:31Z"
         },
         "etag": "ImgwpOSMuOTIoY8rKMDPsYLz3lw",
         "id": "VVU5SEd6Rkd0N0JMbVdEcW9vVWJXR0JnLmdxaHFZdlJaYXdv",
         "kind": "youtube#playlistItem",
         "snippet": {
          "channelId": "UC9HGzFGt7BLmWDqooUbWGBg",
          "channelTitle": "Matthew Hussey",
          "description": "►► Want the Chance to Win a 1:1 with Matthew, a Ticket to Our 2024 Live Retreat in Florida and SO Much More?\nPre-Order Your Copy of Love Life Before April 23rd by Heading to. . .\n→ http://www.LoveLifeBook.com\n\n▼\nDon’t Miss Out! Subscribe to my YouTube channel now.\nI post new love life advice for you every weekend.\n\n►► Pre-Order My New Book, \"Love Life\" at → http://www.LoveLifeBook.com\n\n►► FREE Video Training: “Dating With Results” → http://www.DatingWithResults.com\n\n▼ Get My Latest Dating Tips and Connect With Me… ▼\n\nBlog → https://www.matthewhussey.com/blog/\n\nFacebook → https://facebook.com/CoachMatthewHussey\n\nInstagram → https://www.instagram.com/thematthewhussey\n\nTwitter → https://twitter.com/matthewhussey\n\n▼ Connect with Audrey ▼\n\nInstagram → https://bit.ly/AudreyHusseyIG",
          "playlistId": "UU9HGzFGt7BLmWDqooUbWGBg",
          "position": 30,
          "publishedAt": "2024-04-11T17:00:31Z",
          "resourceId": {
           "kind": "youtube#video",
           "videoId": "gqhqYvRZawo"
          },
          "thumbnails": {
           "default": {
            "height": 90,
            "url": "https://i.ytimg.com/vi/gqhqYvRZawo/default.jpg",
            "width": 120
           },
           "high": {
            "height": 360,
            "url": "https://i.ytimg.com/vi/gqhqYvRZawo/hqdefault.jpg",
            "width": 480
           },
           "maxres": {
            "height": 720,
            "url": "https://i.ytimg.com/vi/gqhqYvRZawo/maxresdefault.jpg",
            "width": 1280
           },
           "medium": {
            "height": 180,
            "url": "https://i.ytimg.com/vi/gqhqYvRZawo/mqdefault.jpg",
            "width": 320
           },
           "standard": {
            "height": 480,
            "url": "https://i.ytimg.com/vi/gqhqYvRZawo/sddefault.jpg",
            "width": 640
           }
          },
          "title": "Feel Confident in 10 Minutes",
          "videoOwnerChannelId": "UC9HGzFGt7BLmWDqooUbWGBg",
          "videoOwnerChannelTitle": "Matthew Hussey"
         }
        },
        {
         "contentDetails": {
          "videoId": "hruCvah4G0U",
          "videoPublishedAt": "2024-04-10T18:06:53Z"
         },
         "etag": "io8PquAiGrjUq4ewTEJ6yKAqUHE",
         "id": "VVU5SEd6Rkd0N0JMbVdEcW9vVWJXR0JnLmhydUN2YWg0RzBV",
         "kind": "youtube#playlistItem",
         "snippet": {
          "channelId": "UC9HGzFGt7BLmWDqooUbWGBg",
          "channelTitle": "Matthew Hussey",
          "description": "►► Get Your Free Ticket to Find Your Person LIVE on May 4\nPLUS a Chance to Win a 1:1 with Matthew & SO Much More!\nPre-Order Your Copy of Love Life Before April 23 to Enter the Love Life Giveaway.\nLearn More At. . .\n→ http://www.LoveLifeBook.com\n\n▼\nDon’t Miss Out! Subscribe to my YouTube channel now.\nI post new love life advice for you every weekend.\n\n►► Pre-Order My New Book, \"Love Life\" at → http://www.LoveLifeBook.com\n\n►► FREE Video Training: “Dating With Results” → http://www.DatingWithResults.com\n\n▼ Get My Latest Dating Tips and Connect With Me… ▼\n\nBlog → https://www.matthewhussey.com/blog/\n\nFacebook → https://facebook.com/CoachMatthewHussey\n\nInstagram → https://www.instagram.com/thematthewhussey\n\nTwitter → https://twitter.com/matthewhussey\n\n▼ Connect with Audrey ▼\n\nInstagram → https://bit.ly/AudreyHusseyIG",
          "playlistId": "UU9HGzFGt7BLmWDqooUbWGBg",
          "position": 31,
          "publishedAt": "2024-04-10T18:06:53Z",
          "resourceId": {
           "kind": "youtube#video",
           "videoId": "hruCvah4G0U"
          },
          "thumbnails": {
           "default": {
            "height": 90,
            "url": "https://i.ytimg.com/vi/hruCvah4G0U/default.jpg",
            "width": 120
           },
           "high": {
            "height": 360,
            "url": "https://i.ytimg.com/vi/hruCvah4G0U/hqdefault.jpg",
            "width": 480
           },
           "maxres": {
            "height": 720,
            "url": "https://i.ytimg.com/vi/hruCvah4G0U/maxresdefault.jpg",
            "width": 1280
           },
           "medium": {
            "height": 180,
            "url": "https://i.ytimg.com/vi/hruCvah4G0U/mqdefault.jpg",
            "width": 320
           },
           "standard": {
            "height": 480,
            "url": "https://i.ytimg.com/vi/hruCvah4G0U/sddefault.jpg",
            "width": 640
           }
          },
          "title": "THIS Is a Common Tactic Used to Avoid Commitment",
          "videoOwnerChannelId": "UC9HGzFGt7BLmWDqooUbWGBg",
          "videoOwnerChannelTitle": "Matthew Hussey"
         }
        },
        {
         "contentDetails": {
          "videoId": "OqJ4CC6fx8w",
          "videoPublishedAt": "2024-04-10T16:00:16Z"
         },
         "etag": "HYJ-WRRXZBPBK_SpiJ0Qsrq2SQg",
         "id": "VVU5SEd6Rkd0N0JMbVdEcW9vVWJXR0JnLk9xSjRDQzZmeDh3",
         "kind": "youtube#playlistItem",
         "snippet": {
          "channelId": "UC9HGzFGt7BLmWDqooUbWGBg",
          "channelTitle": "Matthew Hussey",
          "description": "Have you ever felt that past hurt was holding you back from finding love? Remember, you don't have to come to the relationship ready made, you just have to be open and willing to do the work with someone who understands you.\n\n #RelationshipAdvice #DatingAdvice #Shorts #MatthewHussey",
          "playlistId": "UU9HGzFGt7BLmWDqooUbWGBg",
          "position": 32,
          "publishedAt": "2024-04-10T16:00:16Z",
          "resourceId": {
           "kind": "youtube#video",
           "videoId": "OqJ4CC6fx8w"
          },
          "thumbnails": {
           "default": {
            "height": 90,
            "url": "https://i.ytimg.com/vi/OqJ4CC6fx8w/default.jpg",
            "width": 120
           },
           "high": {
            "height": 360,
            "url": "https://i.ytimg.com/vi/OqJ4CC6fx8w/hqdefault.jpg",
            "width": 480
           },
           "maxres": {
            "height": 720,
            "url": "https://i.ytimg.com/vi/OqJ4CC6fx8w/maxresdefault.jpg",
            "width": 1280
           },
           "medium": {
            "height": 180,
            "url": "https://i.ytimg.com/vi/OqJ4CC6fx8w/mqdefault.jpg",
            "width": 320
           },
           "standard": {
            "height": 480,
            "url": "https://i.ytimg.com/vi/OqJ4CC6fx8w/sddefault.jpg",
            "width": 640
           }
          },
          "title": "Is Past Hurt Holding You Back From Love?",
          "videoOwnerChannelId": "UC9HGzFGt7BLmWDqooUbWGBg",
          "videoOwnerChannelTitle": "Matthew Hussey"
         }
        },
        {
         "contentDetails": {
          "videoId": "TPtK8Yu71ds",
          "videoPublishedAt": "2024-04-07T11:00:30Z"
         },
         "etag": "1MP4TFBXRG62_Z0VHU84h28cO60",
         "id": "VVU5SEd6Rkd0N0JMbVdEcW9vVWJXR0JnLlRQdEs4WXU3MWRz",
         "kind": "youtube#playlistItem",
         "snippet": {
          "channelId": "UC9HGzFGt7BLmWDqooUbWGBg",
          "channelTitle": "Matthew Hussey",
          "description": "►► Pre Order Love Life Now for a Chance to Win One of the Incredible Prizes in the Love Life Giveaway now at. . .\n→ http://www.LoveLifeBook.com\n\n▼\nDon’t Miss Out! Subscribe to my YouTube channel now.\nI post new love life advice for you every weekend.\n\n▼\nA bad date—where we know we won’t see the person again—can be frustrating since it wastes our time. But what’s even MORE frustrating? An amazing date with someone who just disappears after seeing us only once or twice.\n \nIt leaves us wondering: “What happened?? I thought we had real chemistry!” \n\nIn today’s video, I explain exactly why someone pulls away after a first date… \n\n(and how you can tell the difference between someone who’s a keeper vs. someone who’s just telling you what you want to hear.)\n\n\n►► Pre-Order My New Book, \"Love Life\" at → http://www.LoveLifeBook.com\n\n►► FREE Video Training: “Dating With Results” → http://www.DatingWithResults.com\n\n\n▼ Get My Latest Dating Tips and Connect With Me… ▼\n\nBlog → https://www.matthewhussey.com/blog/\n\nFacebook → https://facebook.com/CoachMatthewHussey\n\nInstagram → https://www.instagram.com/thematthewhussey\n\nTwitter → https://twitter.com/matthewhussey\n\n▼ Chapters ▼",
          "playlistId": "UU9HGzFGt7BLmWDqooUbWGBg",
          "position": 33,
          "publishedAt": "2024-04-07T11:00:30Z",
          "resourceId": {
           "kind": "youtube#video",
           "videoId": "TPtK8Yu71ds"
          },
          "thumbnails": {
           "default": {
            "height": 90,
            "url": "https://i.ytimg.com/vi/TPtK8Yu71ds/default.jpg",
            "width": 120
           },
           "high": {
            "height": 360,
            "url": "https://i.ytimg.com/vi/TPtK8Yu71ds/hqdefault.jpg",
            "width": 480
           },
           "maxres": {
            "height": 720,
            "url": "https://i.ytimg.com/vi/TPtK8Yu71ds/maxresdefault.jpg",
            "width": 1280
           },
           "medium": {
            "height": 180,
            "url": "https://i.ytimg.com/vi/TPtK8Yu71ds/mqdefault.jpg",
            "width": 320
           },
           "standard": {
            "height": 480,
            "url": "https://i.ytimg.com/vi/TPtK8Yu71ds/sddefault.jpg",
            "width": 640
           }
          },
          "title": "Is a Great First Date a Red Flag?",
          "videoOwnerChannelId": "UC9HGzFGt7BLmWDqooUbWGBg",
          "videoOwnerChannelTitle": "Matthew Hussey"
         }
        },
        {
         "contentDetails": {
          "videoId": "hwhRa7S5bxs",
          "videoPublishedAt": "2024-04-03T17:00:24Z"
         },
         "etag": "skQHgOkdMcb9HAVaCLJ4w4FogXc",
         "id": "VVU5SEd6Rkd0N0JMbVdEcW9vVWJXR0JnLmh3aFJhN1M1Ynhz",
         "kind": "youtube#playlistItem",
         "snippet": {
          "channelId": "UC9HGzFGt7BLmWDqooUbWGBg",
          "channelTitle": "Matthew Hussey",
          "description": "►► Pre-Order Your Copy of My New Book, Love Life at. . .\n→ http://www.LoveLifeBook.com\n\n▼\nDon’t Miss Out! Subscribe to my YouTube channel now.\nI post new love life advice for you every weekend.\n\n►► Pre-Order My New Book, \"Love Life\" at → http://www.LoveLifeBook.com\n\n►► FREE Video Training: “Dating With Results” → http://www.DatingWithResults.com\n\n▼ Get My Latest Dating Tips and Connect With Me… ▼\n\nBlog → https://www.matthewhussey.com/blog/\n\nFacebook → https://facebook.com/CoachMatthewHussey\n\nInstagram → https://www.instagram.com/thematthewhussey\n\nTwitter → https://twitter.com/matthewhussey\n\n▼ Connect with Audrey ▼\n\nInstagram → https://bit.ly/AudreyHusseyIG",
          "playlistId": "UU9HGzFGt7BLmWDqooUbWGBg",
          "position": 34,
          "publishedAt": "2024-04-03T17:00:24Z",
          "resourceId": {
           "kind": "youtube#video",
           "videoId": "hwhRa7S5bxs"
          },
          "thumbnails": {
           "default": {
            "height": 90,
            "url": "https://i.ytimg.com/vi/hwhRa7S5bxs/default.jpg",
            "width": 120
           },
           "high": {
            "height": 360,
            "url": "https://i.ytimg.com/vi/hwhRa7S5bxs/hqdefault.jpg",
            "width": 480
           },
           "maxres": {
            "height": 720,
            "url": "https://i.ytimg.com/vi/hwhRa7S5bxs/maxresdefault.jpg",
            "width": 1280
           },
           "medium": {
            "height": 180,
            "url": "https://i.ytimg.com/vi/hwhRa7S5bxs/mqdefault.jpg",
            "width": 320
           },
           "standard": {
            "height": 480,
            "url": "https://i.ytimg.com/vi/hwhRa7S5bxs/sddefault.jpg",
            "width": 640
           }
          },
          "title": "Why So Many Are Struggling in Love",
          "videoOwnerChannelId": "UC9HGzFGt7BLmWDqooUbWGBg",
          "videoOwnerChannelTitle": "Matthew Hussey"
         }
        },
        {
         "contentDetails": {
          "videoId": "nc-xSE8MCjU",
          "videoPublishedAt": "2024-04-03T15:00:43Z"
         },
         "etag": "DgrkBBbuyyMEusSHOyuNK5TbaCU",
         "id": "VVU5SEd6Rkd0N0JMbVdEcW9vVWJXR0JnLm5jLXhTRThNQ2pV",
         "kind": "youtube#playlistItem",
         "snippet": {
          "channelId": "UC9HGzFGt7BLmWDqooUbWGBg",
          "channelTitle": "Matthew Hussey",
          "description": "Avoiding difficult conversations and letting others step over our boundaries is an act of self-betrayal.\n\nAnd the more we do it, the more we reaffirm the belief that we are not someone who deserves to be treated with respect. \n\nIf you're in a place where you feel ready to end this cycle and start showing up for yourself, I want you to know you don't have to go through this process alone. There's still time to join me and an amazing new peer group from September 9 - 15 on my upcoming In-Person Retreat in Florida.  \n\nJust head over to MHRetreat.com for more details and to speak with a Retreat Specialist about securing your spot.\n\n#Shorts #MatthewHussey #Confidence",
          "playlistId": "UU9HGzFGt7BLmWDqooUbWGBg",
          "position": 35,
          "publishedAt": "2024-04-03T15:00:43Z",
          "resourceId": {
           "kind": "youtube#video",
           "videoId": "nc-xSE8MCjU"
          },
          "thumbnails": {
           "default": {
            "height": 90,
            "url": "https://i.ytimg.com/vi/nc-xSE8MCjU/default.jpg",
            "width": 120
           },
           "high": {
            "height": 360,
            "url": "https://i.ytimg.com/vi/nc-xSE8MCjU/hqdefault.jpg",
            "width": 480
           },
           "maxres": {
            "height": 720,
            "url": "https://i.ytimg.com/vi/nc-xSE8MCjU/maxresdefault.jpg",
            "width": 1280
           },
           "medium": {
            "height": 180,
            "url": "https://i.ytimg.com/vi/nc-xSE8MCjU/mqdefault.jpg",
            "width": 320
           },
           "standard": {
            "height": 480,
            "url": "https://i.ytimg.com/vi/nc-xSE8MCjU/sddefault.jpg",
            "width": 640
           }
          },
          "title": "The Danger of Ignoring Your Boundaries . . .",
          "videoOwnerChannelId": "UC9HGzFGt7BLmWDqooUbWGBg",
          "videoOwnerChannelTitle": "Matthew Hussey"
         }
        },
        {
         "contentDetails": {
          "videoId": "bBjnAYymUo0",
          "videoPublishedAt": "2024-04-01T15:00:24Z"
         },
         "etag": "0WAxoCTRhBhN7S8rz-PIGJhKCiI",
         "id": "VVU5SEd6Rkd0N0JMbVdEcW9vVWJXR0JnLmJCam5BWXltVW8w",
         "kind": "youtube#playlistItem",
         "snippet": {
          "channelId": "UC9HGzFGt7BLmWDqooUbWGBg",
          "channelTitle": "Matthew Hussey",
          "description": "There’s one thing someone can SAY to you that basically guarantees a long-distance relationship won’t last, and I share it in this week's brand new video (watch now on my channel)\n\n#shorts #MatthewHussey #LongDistanceRelationship #DatingAdvice",
          "playlistId": "UU9HGzFGt7BLmWDqooUbWGBg",
          "position": 36,
          "publishedAt": "2024-04-01T15:00:24Z",
          "resourceId": {
           "kind": "youtube#video",
           "videoId": "bBjnAYymUo0"
          },
          "thumbnails": {
           "default": {
            "height": 90,
            "url": "https://i.ytimg.com/vi/bBjnAYymUo0/default.jpg",
            "width": 120
           },
           "high": {
            "height": 360,
            "url": "https://i.ytimg.com/vi/bBjnAYymUo0/hqdefault.jpg",
            "width": 480
           },
           "maxres": {
            "height": 720,
            "url": "https://i.ytimg.com/vi/bBjnAYymUo0/maxresdefault.jpg",
            "width": 1280
           },
           "medium": {
            "height": 180,
            "url": "https://i.ytimg.com/vi/bBjnAYymUo0/mqdefault.jpg",
            "width": 320
           },
           "standard": {
            "height": 480,
            "url": "https://i.ytimg.com/vi/bBjnAYymUo0/sddefault.jpg",
            "width": 640
           }
          },
          "title": "Watch Out for THIS in Your Long Distance Relationship",
          "videoOwnerChannelId": "UC9HGzFGt7BLmWDqooUbWGBg",
          "videoOwnerChannelTitle": "Matthew Hussey"
         }
        },
        {
         "contentDetails": {
          "videoId": "DA48H6tsm4Q",
          "videoPublishedAt": "2024-03-31T10:30:04Z"
         },
         "etag": "9Dj-Gj6R6Yosh2adZQa4Uye1IBs",
         "id": "VVU5SEd6Rkd0N0JMbVdEcW9vVWJXR0JnLkRBNDhINnRzbTRR",
         "kind": "youtube#playlistItem",
         "snippet": {
          "channelId": "UC9HGzFGt7BLmWDqooUbWGBg",
          "channelTitle": "Matthew Hussey",
          "description": "►► Join a Community of People Learning to Transform Their Impact with People, Their Happiness in Life and Their Love for Themselves. \nSubscribe to my Weekly Newsletter, The 3 Relationships at. . .\n→ http://www.The3Relationships.com\n\n▼\nDon’t Miss Out! Subscribe to my YouTube channel now.\nI post new love life advice for you every weekend.\n\n▼\nLong-distance relationships are a tough gig. \n\nYou miss each other. You feel like a separate part of their life at times. And you don’t always know when you’ll be together again. So . . . is it worth it? Well, it depends.\n\nLong-distance relationships are tough, but there are warning signs that can help tell you if it’s likely to work long-term. In fact, there’s one thing someone can SAY to you that basically guarantees a long-distance relationship won’t last, and I share it in this video.\n\n►► Pre-Order My New Book, \"Love Life\" at → http://www.LoveLifeBook.com\n\n►► FREE Video Training: “Dating With Results” → http://www.DatingWithResults.com\n\n▼ Get My Latest Dating Tips and Connect With Me… ▼\n\nBlog → https://www.matthewhussey.com/blog/\n\nFacebook → https://facebook.com/CoachMatthewHussey\n\nInstagram → https://www.instagram.com/thematthewhussey\n\nTwitter → https://twitter.com/matthewhussey\n\n▼ Chapters ▼\n\n0:00 – 1:01 – The 3 Relationships\n1:01 – 2:00 – Wanting Exclusivity\n2:00 – 2:49 – Why LDRs Can Suck\n2:49 – 3:31 – Why People Choose LDRs\n3:31 – 3:42 – #1 Because That Person Is Worth It\n3:42 – 4:11 – #2 We Have a Scarcity Mindset\n4:11 – 4:52 – #3 It’s Convenient\n4:52 – 5:41 – If They Are Avoidant\n5:41 – 7:11 – How Someone Makes Us Feel\n7:11 – 7:40 – Confusion Keeps Us in the Game\n7:40 – 8:34 – If You Hear This, Watch Out\n8:34 – 9:47 – Owning Your Needs and What You Want\n9:47 – 11:19 – A Private Letter From Me to You",
          "playlistId": "UU9HGzFGt7BLmWDqooUbWGBg",
          "position": 37,
          "publishedAt": "2024-03-31T10:30:04Z",
          "resourceId": {
           "kind": "youtube#video",
           "videoId": "DA48H6tsm4Q"
          },
          "thumbnails": {
           "default": {
            "height": 90,
            "url": "https://i.ytimg.com/vi/DA48H6tsm4Q/default.jpg",
            "width": 120
           },
           "high": {
            "height": 360,
            "url": "https://i.ytimg.com/vi/DA48H6tsm4Q/hqdefault.jpg",
            "width": 480
           },
           "maxres": {
            "height": 720,
            "url": "https://i.ytimg.com/vi/DA48H6tsm4Q/maxresdefault.jpg",
            "width": 1280
           },
           "medium": {
            "height": 180,
            "url": "https://i.ytimg.com/vi/DA48H6tsm4Q/mqdefault.jpg",
            "width": 320
           },
           "standard": {
            "height": 480,
            "url": "https://i.ytimg.com/vi/DA48H6tsm4Q/sddefault.jpg",
            "width": 640
           }
          },
          "title": "If You Hear THIS From Your Long-Distance Partner... RUN!",
          "videoOwnerChannelId": "UC9HGzFGt7BLmWDqooUbWGBg",
          "videoOwnerChannelTitle": "Matthew Hussey"
         }
        },
        {
         "contentDetails": {
          "videoId": "XGnrnh4gjXs",
          "videoPublishedAt": "2024-03-30T17:00:31Z"
         },
         "etag": "Vvnon1Ctj2gztnzDghu3TlqyHC0",
         "id": "VVU5SEd6Rkd0N0JMbVdEcW9vVWJXR0JnLlhHbnJuaDRnalhz",
         "kind": "youtube#playlistItem",
         "snippet": {
          "channelId": "UC9HGzFGt7BLmWDqooUbWGBg",
          "channelTitle": "Matthew Hussey",
          "description": "When we are seeing someone in the early stages, a common question we ask ourselves is: \"Do they like me?\" We think: \"If they like me, things will develop and evolve into a relationship, right?\"\n\nI'd like to challenge this instinct today. I believe \"Do they like me?\" is not the right question to be asking ourselves . . . it can even be a dangerous source of comfort that blinds us to someone's lack of intention. That's because someone liking us does not immediately translate into a real investment or a desire to progress the relationship to the next stage. \n\nReal progress must be measured in a different way. \n\n#Shorts #matthewhussey #RelationshipAdvice #DatingAdvice",
          "playlistId": "UU9HGzFGt7BLmWDqooUbWGBg",
          "position": 38,
          "publishedAt": "2024-03-30T17:00:31Z",
          "resourceId": {
           "kind": "youtube#video",
           "videoId": "XGnrnh4gjXs"
          },
          "thumbnails": {
           "default": {
            "height": 90,
            "url": "https://i.ytimg.com/vi/XGnrnh4gjXs/default.jpg",
            "width": 120
           },
           "high": {
            "height": 360,
            "url": "https://i.ytimg.com/vi/XGnrnh4gjXs/hqdefault.jpg",
            "width": 480
           },
           "maxres": {
            "height": 720,
            "url": "https://i.ytimg.com/vi/XGnrnh4gjXs/maxresdefault.jpg",
            "width": 1280
           },
           "medium": {
            "height": 180,
            "url": "https://i.ytimg.com/vi/XGnrnh4gjXs/mqdefault.jpg",
            "width": 320
           },
           "standard": {
            "height": 480,
            "url": "https://i.ytimg.com/vi/XGnrnh4gjXs/sddefault.jpg",
            "width": 640
           }
          },
          "title": "What \"I Love You\" Actually Means",
          "videoOwnerChannelId": "UC9HGzFGt7BLmWDqooUbWGBg",
          "videoOwnerChannelTitle": "Matthew Hussey"
         }
        },
        {
         "contentDetails": {
          "videoId": "nNiHg4mWYUA",
          "videoPublishedAt": "2024-03-29T17:00:38Z"
         },
         "etag": "Yef6h06iwLa7ua7PzkLGYbpUvvk",
         "id": "VVU5SEd6Rkd0N0JMbVdEcW9vVWJXR0JnLm5OaUhnNG1XWVVB",
         "kind": "youtube#playlistItem",
         "snippet": {
          "channelId": "UC9HGzFGt7BLmWDqooUbWGBg",
          "channelTitle": "Matthew Hussey",
          "description": "Here’s the thing: “Playing it cool” and holding back from saying what we want can leave us falling harder and harder for someone who has no intention of investing in a committed relationship.\n\nWhile there’s nothing wrong with initially seeing how things go, by continuing to play it cool, we may inadvertently trap ourselves in a state of limbo. By failing to ask questions (which can help us take stock of where things are headed), our avoidance can actually attract and enable avoiders.\n\nI know this stuff can be really hard to get right, because there’s a delicate push and pull in every dynamic. You don’t want to always be the one putting a foot forward, because the right relationship will be an equal exchange of energy. \n\n#Shorts #MatthewHussey #DatingAdvice #RelationshipAdvice",
          "playlistId": "UU9HGzFGt7BLmWDqooUbWGBg",
          "position": 39,
          "publishedAt": "2024-03-29T17:00:38Z",
          "resourceId": {
           "kind": "youtube#video",
           "videoId": "nNiHg4mWYUA"
          },
          "thumbnails": {
           "default": {
            "height": 90,
            "url": "https://i.ytimg.com/vi/nNiHg4mWYUA/default.jpg",
            "width": 120
           },
           "high": {
            "height": 360,
            "url": "https://i.ytimg.com/vi/nNiHg4mWYUA/hqdefault.jpg",
            "width": 480
           },
           "maxres": {
            "height": 720,
            "url": "https://i.ytimg.com/vi/nNiHg4mWYUA/maxresdefault.jpg",
            "width": 1280
           },
           "medium": {
            "height": 180,
            "url": "https://i.ytimg.com/vi/nNiHg4mWYUA/mqdefault.jpg",
            "width": 320
           },
           "standard": {
            "height": 480,
            "url": "https://i.ytimg.com/vi/nNiHg4mWYUA/sddefault.jpg",
            "width": 640
           }
          },
          "title": "The Unexpected Truth About Commitment...",
          "videoOwnerChannelId": "UC9HGzFGt7BLmWDqooUbWGBg",
          "videoOwnerChannelTitle": "Matthew Hussey"
         }
        },
        {
         "contentDetails": {
          "videoId": "4XTL5GYKrYY",
          "videoPublishedAt": "2024-03-27T18:00:02Z"
         },
         "etag": "sTjFe-sovOT-FNLxdRWMCPLNFV8",
         "id": "VVU5SEd6Rkd0N0JMbVdEcW9vVWJXR0JnLjRYVEw1R1lLcllZ",
         "kind": "youtube#playlistItem",
         "snippet": {
          "channelId": "UC9HGzFGt7BLmWDqooUbWGBg",
          "channelTitle": "Matthew Hussey",
          "description": "►► Connect with Lynden Lane\n→ https://www.instagram.com/lyndenlane\n\n▼\nDon’t Miss Out! Subscribe to my YouTube channel now.\nI post new love life advice for you every weekend.\n\n►► Pre-Order My New Book, \"Love Life\" at → http://www.LoveLifeBook.com\n\n►► FREE Video Training: “Dating With Results” → http://www.DatingWithResults.com\n\n▼ Get My Latest Dating Tips and Connect With Me… ▼\n\nBlog → https://www.matthewhussey.com/blog/\n\nFacebook → https://facebook.com/CoachMatthewHussey\n\nInstagram → https://www.instagram.com/thematthewhussey\n\nTwitter → https://twitter.com/matthewhussey\n\n▼ Connect with Lynden Lane ▼\n\nWebsite → https://lyndenlane.com\n\nInstagram → https://instagram.com/lyndenlane/\n\n▼ Connect with Audrey ▼\n\nInstagram → https://bit.ly/AudreyHusseyIG\n\n▼ Thank You to Our Wedding Vendors ▼\n\nDesign & Production: @lyndenlane\nPhotography: @sarahfalugo.co\nVideo: @giuliocantarella_wedding\nFlorals: @keithjlaverty\nPaper Goods: @cecilespaperco\nVenue: @dimoradellebalze\nRentals: @theark_ & @theonicollection\nStylist: @nextlevelwardrobe\nHair Stylist: @tonipellegrinoartandscience\nDress: @pronovias\nDJ: @redshoela",
          "playlistId": "UU9HGzFGt7BLmWDqooUbWGBg",
          "position": 40,
          "publishedAt": "2024-03-27T18:00:02Z",
          "resourceId": {
           "kind": "youtube#video",
           "videoId": "4XTL5GYKrYY"
          },
          "thumbnails": {
           "default": {
            "height": 90,
            "url": "https://i.ytimg.com/vi/4XTL5GYKrYY/default.jpg",
            "width": 120
           },
           "high": {
            "height": 360,
            "url": "https://i.ytimg.com/vi/4XTL5GYKrYY/hqdefault.jpg",
            "width": 480
           },
           "maxres": {
            "height": 720,
            "url": "https://i.ytimg.com/vi/4XTL5GYKrYY/maxresdefault.jpg",
            "width": 1280
           },
           "medium": {
            "height": 180,
            "url": "https://i.ytimg.com/vi/4XTL5GYKrYY/mqdefault.jpg",
            "width": 320
           },
           "standard": {
            "height": 480,
            "url": "https://i.ytimg.com/vi/4XTL5GYKrYY/sddefault.jpg",
            "width": 640
           }
          },
          "title": "What We Wish We Knew BEFORE Planning Our Wedding",
          "videoOwnerChannelId": "UC9HGzFGt7BLmWDqooUbWGBg",
          "videoOwnerChannelTitle": "Matthew Hussey"
         }
        },
        {
         "contentDetails": {
          "videoId": "VFLtq0kP_Pk",
          "videoPublishedAt": "2024-03-25T18:59:53Z"
         },
         "etag": "IJUgt0u1_JGRGSaYWcGuRqkNO_8",
         "id": "VVU5SEd6Rkd0N0JMbVdEcW9vVWJXR0JnLlZGTHRxMGtQX1Br",
         "kind": "youtube#playlistItem",
         "snippet": {
          "channelId": "UC9HGzFGt7BLmWDqooUbWGBg",
          "channelTitle": "Matthew Hussey",
          "description": "Has your past got you feeling stuck in a cycle of avoidance and self-sabotage in relationships? \n\nRemember, you don't have to have it all figured out before finding love. Healing is possible, and the right partner can even be your strongest ally on this journey.\n\nP.S If want to make 2024 the year you break these patterns once and for all, my Retreat provides a safe space for vulnerability, where deep healing and lasting change can occur over 6 days of coaching immersion. Just visit MHRetreat.com to learn more about this transformational process and becoming part of our global tribe from September 9 - 15.\n\n#Shorts #MatthewHussey #RelationshipAdvice #DatingAdvice",
          "playlistId": "UU9HGzFGt7BLmWDqooUbWGBg",
          "position": 41,
          "publishedAt": "2024-03-25T18:59:53Z",
          "resourceId": {
           "kind": "youtube#video",
           "videoId": "VFLtq0kP_Pk"
          },
          "thumbnails": {
           "default": {
            "height": 90,
            "url": "https://i.ytimg.com/vi/VFLtq0kP_Pk/default.jpg",
            "width": 120
           },
           "high": {
            "height": 360,
            "url": "https://i.ytimg.com/vi/VFLtq0kP_Pk/hqdefault.jpg",
            "width": 480
           },
           "maxres": {
            "height": 720,
            "url": "https://i.ytimg.com/vi/VFLtq0kP_Pk/maxresdefault.jpg",
            "width": 1280
           },
           "medium": {
            "height": 180,
            "url": "https://i.ytimg.com/vi/VFLtq0kP_Pk/mqdefault.jpg",
            "width": 320
           },
           "standard": {
            "height": 480,
            "url": "https://i.ytimg.com/vi/VFLtq0kP_Pk/sddefault.jpg",
            "width": 640
           }
          },
          "title": "Is Past Hurt Holding You Back From Love?",
          "videoOwnerChannelId": "UC9HGzFGt7BLmWDqooUbWGBg",
          "videoOwnerChannelTitle": "Matthew Hussey"
         }
        },
        {
         "contentDetails": {
          "videoId": "SZP6Ske_bfM",
          "videoPublishedAt": "2024-03-24T11:30:12Z"
         },
         "etag": "25P1x4xJYo1h5pztEnLjqW0OML0",
         "id": "VVU5SEd6Rkd0N0JMbVdEcW9vVWJXR0JnLlNaUDZTa2VfYmZN",
         "kind": "youtube#playlistItem",
         "snippet": {
          "channelId": "UC9HGzFGt7BLmWDqooUbWGBg",
          "channelTitle": "Matthew Hussey",
          "description": "►► Ready to Get Off The Sidelines and Back Into Dating?\nCatch the Replay of The Love Life Reset at. . .\n→ http://www.LoveLifeReplay.com\n\n▼\nDon’t Miss Out! Subscribe to my YouTube channel now.\nI post new love life advice for you every weekend.\n\n▼\nPeople ask me a lot, “How did you meet your wife?”\n\nWell, it wasn’t just one decision. It was actually a few simple steps that even an introvert like me could use to be in exactly the right place to meet Audrey when I did. \n\nI believe anyone can apply this advice in their dating lives to find love. So if you want to maximize your chances of meeting (and attracting) someone amazing, the 3 practical steps I mention in this video could lead you to your person . . . possibly without you ever having to swipe right!\n\n►► Pre-Order My New Book, \"Love Life\" at → http://www.LoveLifeBook.com\n\n►► FREE Video Training: “Dating With Results” → http://www.DatingWithResults.com\n\n\n▼ Get My Latest Dating Tips and Connect With Me… ▼\n\nBlog → https://www.matthewhussey.com/blog/\n\nFacebook → https://facebook.com/CoachMatthewHussey\n\nInstagram → https://www.instagram.com/thematthewhussey\n\nTwitter → https://twitter.com/matthewhussey\n\n▼ Chapters ▼\n\n0:00 – 1:00 – Don’t Miss This\n1:00 – 1:51 – Why We Keep Going Back to the Wrong People\n1:51 – 3:48 – “Fusing With Other Atoms”\n3:48 – 5:11 – Step #1: Eye Contact\n5:11 – 6:14 – Step #2: Get Proximity \n6:14 – 7:33 – Step #3: Say Something\n7:33 – 8:46 – Becoming an Approachable Person\n8:46 – 9:45 – Offering Green Lights \n9:45 – 10:52 – Bravery Is a Team Sport\n10:52 – 11:54 – The “Love Life Reset” Limited-Time Replay",
          "playlistId": "UU9HGzFGt7BLmWDqooUbWGBg",
          "position": 42,
          "publishedAt": "2024-03-24T11:30:12Z",
          "resourceId": {
           "kind": "youtube#video",
           "videoId": "SZP6Ske_bfM"
          },
          "thumbnails": {
           "default": {
            "height": 90,
            "url": "https://i.ytimg.com/vi/SZP6Ske_bfM/default.jpg",
            "width": 120
           },
           "high": {
            "height": 360,
            "url": "https://i.ytimg.com/vi/SZP6Ske_bfM/hqdefault.jpg",
            "width": 480
           },
           "maxres": {
            "height": 720,
            "url": "https://i.ytimg.com/vi/SZP6Ske_bfM/maxresdefault.jpg",
            "width": 1280
           },
           "medium": {
            "height": 180,
            "url": "https://i.ytimg.com/vi/SZP6Ske_bfM/mqdefault.jpg",
            "width": 320
           },
           "standard": {
            "height": 480,
            "url": "https://i.ytimg.com/vi/SZP6Ske_bfM/sddefault.jpg",
            "width": 640
           }
          },
          "title": "How Me and My Wife Met... (It's Not What You Think)",
          "videoOwnerChannelId": "UC9HGzFGt7BLmWDqooUbWGBg",
          "videoOwnerChannelTitle": "Matthew Hussey"
         }
        },
        {
         "contentDetails": {
          "videoId": "vm2t1MKrcpQ",
          "videoPublishedAt": "2024-03-23T16:00:44Z"
         },
         "etag": "L85JnPK-EC9YaJrwcPIq1oeHjV0",
         "id": "VVU5SEd6Rkd0N0JMbVdEcW9vVWJXR0JnLnZtMnQxTUtyY3BR",
         "kind": "youtube#playlistItem",
         "snippet": {
          "channelId": "UC9HGzFGt7BLmWDqooUbWGBg",
          "channelTitle": "Matthew Hussey",
          "description": "Rejection can affect us profoundly, even when it’s from someone who isn’t right for us.\n\nSo how do we safeguard ourselves from this? By truly knowing what we want in love: reciprocity! And NOT getting caught up in chasing approval from someone who doesn’t want us back.\n\nWhen you’re truly connected to what matters to you, you can keep moving forward and not get stuck on the wrong people.\n\nIf you enjoyed this video, you can watch the full “Love Life Reset” replay at LoveLifeReplay.com now.\n\n#MatthewHussey #Shorts #DatingAdvice #Rejection",
          "playlistId": "UU9HGzFGt7BLmWDqooUbWGBg",
          "position": 43,
          "publishedAt": "2024-03-23T16:00:44Z",
          "resourceId": {
           "kind": "youtube#video",
           "videoId": "vm2t1MKrcpQ"
          },
          "thumbnails": {
           "default": {
            "height": 90,
            "url": "https://i.ytimg.com/vi/vm2t1MKrcpQ/default.jpg",
            "width": 120
           },
           "high": {
            "height": 360,
            "url": "https://i.ytimg.com/vi/vm2t1MKrcpQ/hqdefault.jpg",
            "width": 480
           },
           "maxres": {
            "height": 720,
            "url": "https://i.ytimg.com/vi/vm2t1MKrcpQ/maxresdefault.jpg",
            "width": 1280
           },
           "medium": {
            "height": 180,
            "url": "https://i.ytimg.com/vi/vm2t1MKrcpQ/mqdefault.jpg",
            "width": 320
           },
           "standard": {
            "height": 480,
            "url": "https://i.ytimg.com/vi/vm2t1MKrcpQ/sddefault.jpg",
            "width": 640
           }
          },
          "title": "The REAL Way to Overcome Rejection",
          "videoOwnerChannelId": "UC9HGzFGt7BLmWDqooUbWGBg",
          "videoOwnerChannelTitle": "Matthew Hussey"
         }
        },
        {
         "contentDetails": {
          "videoId": "qR1-QzGGqPE",
          "videoPublishedAt": "2024-03-20T20:05:35Z"
         },
         "etag": "N_zncdefQmD8AAkYgY54O_36DjU",
         "id": "VVU5SEd6Rkd0N0JMbVdEcW9vVWJXR0JnLnFSMS1RekdHcVBF",
         "kind": "youtube#playlistItem",
         "snippet": {
          "channelId": "UC9HGzFGt7BLmWDqooUbWGBg",
          "channelTitle": "Matthew Hussey",
          "description": "What do you think about this idea? \n\nThis moment is taken from my Love Life Reset event which happened LIVE yesterday. If you'd like to watch the replay of the event, you can see it now by commenting REPLAY or by  heading over to LoveLifeReplay.com ❤️\n\n#Shorts #matthewHussey #DatingAdvice #RelationshipAdvice",
          "playlistId": "UU9HGzFGt7BLmWDqooUbWGBg",
          "position": 44,
          "publishedAt": "2024-03-20T20:05:35Z",
          "resourceId": {
           "kind": "youtube#video",
           "videoId": "qR1-QzGGqPE"
          },
          "thumbnails": {
           "default": {
            "height": 90,
            "url": "https://i.ytimg.com/vi/qR1-QzGGqPE/default.jpg",
            "width": 120
           },
           "high": {
            "height": 360,
            "url": "https://i.ytimg.com/vi/qR1-QzGGqPE/hqdefault.jpg",
            "width": 480
           },
           "maxres": {
            "height": 720,
            "url": "https://i.ytimg.com/vi/qR1-QzGGqPE/maxresdefault.jpg",
            "width": 1280
           },
           "medium": {
            "height": 180,
            "url": "https://i.ytimg.com/vi/qR1-QzGGqPE/mqdefault.jpg",
            "width": 320
           },
           "standard": {
            "height": 480,
            "url": "https://i.ytimg.com/vi/qR1-QzGGqPE/sddefault.jpg",
            "width": 640
           }
          },
          "title": "Do You Feel “Too Old” to Date?",
          "videoOwnerChannelId": "UC9HGzFGt7BLmWDqooUbWGBg",
          "videoOwnerChannelTitle": "Matthew Hussey"
         }
        },
        {
         "contentDetails": {
          "videoId": "lug5X3KKsaY",
          "videoPublishedAt": "2024-03-19T20:10:05Z"
         },
         "etag": "RGbACEhP1VYJgRskQidNdq2NYrQ",
         "id": "VVU5SEd6Rkd0N0JMbVdEcW9vVWJXR0JnLmx1ZzVYM0tLc2FZ",
         "kind": "youtube#playlistItem",
         "snippet": {
          "channelId": "UC9HGzFGt7BLmWDqooUbWGBg",
          "channelTitle": "Matthew Hussey",
          "description": "Welcome to the Love Life Reset REPLAY 💫\n\n►►Pre-Order Your Physical Copy of Love Life and Claim Your Love Life Toolkit \n+ Special Bonus Before Time Runs Out at. . .  \n→https://LoveLifeRoadmap.com \n▼\nDon’t Miss Out! Subscribe to my YouTube channel now.\nI post new love life advice for you every weekend.\n\n►► Pre-Order My New Book, \"Love Life\" at → http://www.LoveLifeBook.com\n\n►► FREE Video Training: “Dating With Results” → http://www.DatingWithResults.com\n\n\n▼ Get My Latest Dating Tips and Connect With Me… ▼\n\nBlog → https://www.matthewhussey.com/blog/\n\nFacebook → https://facebook.com/CoachMatthewHussey\n\nInstagram → https://www.instagram.com/thematthewhussey\n\nTwitter → https://twitter.com/matthewhussey\n\nFor any assistance with pre-ordering your copy of Love Life or redeeming your bonuses, please email my team at support@matthewhussey.com",
          "playlistId": "UU9HGzFGt7BLmWDqooUbWGBg",
          "position": 45,
          "publishedAt": "2024-03-19T20:10:05Z",
          "resourceId": {
           "kind": "youtube#video",
           "videoId": "lug5X3KKsaY"
          },
          "thumbnails": {
           "default": {
            "height": 90,
            "url": "https://i.ytimg.com/vi/lug5X3KKsaY/default.jpg",
            "width": 120
           },
           "high": {
            "height": 360,
            "url": "https://i.ytimg.com/vi/lug5X3KKsaY/hqdefault.jpg",
            "width": 480
           },
           "maxres": {
            "height": 720,
            "url": "https://i.ytimg.com/vi/lug5X3KKsaY/maxresdefault.jpg",
            "width": 1280
           },
           "medium": {
            "height": 180,
            "url": "https://i.ytimg.com/vi/lug5X3KKsaY/mqdefault.jpg",
            "width": 320
           },
           "standard": {
            "height": 480,
            "url": "https://i.ytimg.com/vi/lug5X3KKsaY/sddefault.jpg",
            "width": 640
           }
          },
          "title": "If I Were Single and Starting Over, THIS Is What I Would Do",
          "videoOwnerChannelId": "UC9HGzFGt7BLmWDqooUbWGBg",
          "videoOwnerChannelTitle": "Matthew Hussey"
         }
        },
        {
         "contentDetails": {
          "videoId": "aHtKFDhSG3A",
          "videoPublishedAt": "2024-03-18T20:59:37Z"
         },
         "etag": "ZbqZs6ZpKEtrbiUlfDTAQGHbTj4",
         "id": "VVU5SEd6Rkd0N0JMbVdEcW9vVWJXR0JnLmFIdEtGRGhTRzNB",
         "kind": "youtube#playlistItem",
         "snippet": {
          "channelId": "UC9HGzFGt7BLmWDqooUbWGBg",
          "channelTitle": "Matthew Hussey",
          "description": "►► Join My FREE Virtual Event, The Love Life Reset Happening LIVE Tomorrow . . .\nRegister Now at. . . \n→ http://www.LoveLifeTraining.com\n\n▼\nAudrey and I are hanging out, answering your questions together live! There’s still time to join us for the “Love Life Reset” tomorrow, Tuesday March 19th at 11am PT. For anyone who wants to find love this year this event is a must. And it’s FREE! \n\nIf you’re ready to overcome your fear of rejection and reinvent your approach to dating in a sustainable way, you don’t want to miss this live training. \n\nHead over to https://www.LoveLifeTraining.com to register. Registering takes 20 seconds and the entire event is FREE! See you there!!\n\n▼\nDon’t Miss Out! Subscribe to my YouTube channel now.\nI post new love life advice for you every weekend.",
          "playlistId": "UU9HGzFGt7BLmWDqooUbWGBg",
          "position": 46,
          "publishedAt": "2024-03-18T20:59:37Z",
          "resourceId": {
           "kind": "youtube#video",
           "videoId": "aHtKFDhSG3A"
          },
          "thumbnails": {
           "default": {
            "height": 90,
            "url": "https://i.ytimg.com/vi/aHtKFDhSG3A/default.jpg",
            "width": 120
           },
           "high": {
            "height": 360,
            "url": "https://i.ytimg.com/vi/aHtKFDhSG3A/hqdefault.jpg",
            "width": 480
           },
           "medium": {
            "height": 180,
            "url": "https://i.ytimg.com/vi/aHtKFDhSG3A/mqdefault.jpg",
            "width": 320
           },
           "standard": {
            "height": 480,
            "url": "https://i.ytimg.com/vi/aHtKFDhSG3A/sddefault.jpg",
            "width": 640
           }
          },
          "title": "Answering Your Questions!",
          "videoOwnerChannelId": "UC9HGzFGt7BLmWDqooUbWGBg",
          "videoOwnerChannelTitle": "Matthew Hussey"
         }
        },
        {
         "contentDetails": {
          "videoId": "nMvJnk4uZ4k",
          "videoPublishedAt": "2024-03-18T13:00:44Z"
         },
         "etag": "aVP_YDSGkfnzwClbewXQf6O6mVk",
         "id": "VVU5SEd6Rkd0N0JMbVdEcW9vVWJXR0JnLm5NdkpuazR1WjRr",
         "kind": "youtube#playlistItem",
         "snippet": {
          "channelId": "UC9HGzFGt7BLmWDqooUbWGBg",
          "channelTitle": "Matthew Hussey",
          "description": "Are you ready to get back out there and hit “Reset” on your love life journey? I have a free live training happening THIS WEEK on Tuesday (March 19) that will help you tremendously. Head over to LoveLifeTraining.com now for all the details on how you can secure your spot on the live event for free.\n\n#MatthewHussey #Shorts #DatingAdvice #RelationshipAdvice",
          "playlistId": "UU9HGzFGt7BLmWDqooUbWGBg",
          "position": 47,
          "publishedAt": "2024-03-18T13:00:44Z",
          "resourceId": {
           "kind": "youtube#video",
           "videoId": "nMvJnk4uZ4k"
          },
          "thumbnails": {
           "default": {
            "height": 90,
            "url": "https://i.ytimg.com/vi/nMvJnk4uZ4k/default.jpg",
            "width": 120
           },
           "high": {
            "height": 360,
            "url": "https://i.ytimg.com/vi/nMvJnk4uZ4k/hqdefault.jpg",
            "width": 480
           },
           "maxres": {
            "height": 720,
            "url": "https://i.ytimg.com/vi/nMvJnk4uZ4k/maxresdefault.jpg",
            "width": 1280
           },
           "medium": {
            "height": 180,
            "url": "https://i.ytimg.com/vi/nMvJnk4uZ4k/mqdefault.jpg",
            "width": 320
           },
           "standard": {
            "height": 480,
            "url": "https://i.ytimg.com/vi/nMvJnk4uZ4k/sddefault.jpg",
            "width": 640
           }
          },
          "title": "The SECRET to Finding a Healthy Relationship Faster",
          "videoOwnerChannelId": "UC9HGzFGt7BLmWDqooUbWGBg",
          "videoOwnerChannelTitle": "Matthew Hussey"
         }
        },
        {
         "contentDetails": {
          "videoId": "Ej3_yYhxbY8",
          "videoPublishedAt": "2024-03-17T11:30:13Z"
         },
         "etag": "Ir5HFpo8Jo6jMmKdEj2P9iS0k7s",
         "id": "VVU5SEd6Rkd0N0JMbVdEcW9vVWJXR0JnLkVqM195WWh4Ylk4",
         "kind": "youtube#playlistItem",
         "snippet": {
          "channelId": "UC9HGzFGt7BLmWDqooUbWGBg",
          "channelTitle": "Matthew Hussey",
          "description": "►► Conquer Your Dating Fears and Reinvent Your Approach to Finding Love Again.\nJoin My FREE Virtual Event, The Love Life Reset.\nFind out How at . . .\n→ http://www.LoveLifeTraining.com\n\n▼\nDon’t Miss Out! Subscribe to my YouTube channel now.\nI post new love life advice for you every weekend.\n\n▼\nHave you fallen for someone who just can’t give you the same affection back?\n\nEmotionally unavailable people are the relationship version of junk food. You know it’s bad . . . but your addiction keeps you going back for more. \n\nThis is nothing more than a formula for heartbreak. In today’s new video, I dive into the psychology behind why we’re attracted to emotionally unavailable people, and why just because something’s scarce (such as someone’s attention) doesn’t mean it’s valuable.\n\n►► Pre-Order My New Book, \"Love Life\" at → http://www.LoveLifeBook.com\n\n►► FREE Video Training: “Dating With Results” → http://www.DatingWithResults.com\n\n\n▼ Get My Latest Dating Tips and Connect With Me… ▼\n\nBlog → https://www.matthewhussey.com/blog/\n\nFacebook → https://facebook.com/CoachMatthewHussey\n\nInstagram → https://www.instagram.com/thematthewhussey\n\nTwitter → https://twitter.com/matthewhussey\n\n▼ Chapters ▼\n\n0:00 – 1:02 – The Love Life Reset\n1:02 – 1:39 – Emotionally Unavailable People\n1:39 – 3:11 – Scarcity Doesn’t Equal Value (Diamonds vs. Air)\n3:11 – 5:02 – Familiar Patterns and Trauma Bonds\n5:02 – 6:10 – Confusing Anxiety With Love\n6:10 – 7:44 – The Lens of Addiction\n7:44 – 8:36 – The Dopamine Cycle\n8:36 – 10:05 – A New Approach",
          "playlistId": "UU9HGzFGt7BLmWDqooUbWGBg",
          "position": 48,
          "publishedAt": "2024-03-17T11:30:13Z",
          "resourceId": {
           "kind": "youtube#video",
           "videoId": "Ej3_yYhxbY8"
          },
          "thumbnails": {
           "default": {
            "height": 90,
            "url": "https://i.ytimg.com/vi/Ej3_yYhxbY8/default.jpg",
            "width": 120
           },
           "high": {
            "height": 360,
            "url": "https://i.ytimg.com/vi/Ej3_yYhxbY8/hqdefault.jpg",
            "width": 480
           },
           "maxres": {
            "height": 720,
            "url": "https://i.ytimg.com/vi/Ej3_yYhxbY8/maxresdefault.jpg",
            "width": 1280
           },
           "medium": {
            "height": 180,
            "url": "https://i.ytimg.com/vi/Ej3_yYhxbY8/mqdefault.jpg",
            "width": 320
           },
           "standard": {
            "height": 480,
            "url": "https://i.ytimg.com/vi/Ej3_yYhxbY8/sddefault.jpg",
            "width": 640
           }
          },
          "title": "Are They Emotionally Unavailable? DON'T CHASE, Do THIS!",
          "videoOwnerChannelId": "UC9HGzFGt7BLmWDqooUbWGBg",
          "videoOwnerChannelTitle": "Matthew Hussey"
         }
        },
        {
         "contentDetails": {
          "videoId": "dSe9gzt3xUk",
          "videoPublishedAt": "2024-03-15T16:00:34Z"
         },
         "etag": "SC3iRaJhYBlIK8P8Cc0Pn6qUhhc",
         "id": "VVU5SEd6Rkd0N0JMbVdEcW9vVWJXR0JnLmRTZTlnenQzeFVr",
         "kind": "youtube#playlistItem",
         "snippet": {
          "channelId": "UC9HGzFGt7BLmWDqooUbWGBg",
          "channelTitle": "Matthew Hussey",
          "description": "We're often paralyzed from taking action in case we experience a rejection . . .\n\nBut getting a year down the line and realizing we're still not fulfilling our potential should be far scarier than a minor setback in the here and now.\n\nKnow that you CAN change your relationship with your fears so you can stop holding yourself back once and for all, and I'm here to help you do it. \n\nVisit MHRetreat.com to find out more about spending 6 days of immersive coaching with me from September 9 - 15 this year in Florida. \n\n#Shorts #MatthewHussey #Rejection",
          "playlistId": "UU9HGzFGt7BLmWDqooUbWGBg",
          "position": 49,
          "publishedAt": "2024-03-15T16:00:34Z",
          "resourceId": {
           "kind": "youtube#video",
           "videoId": "dSe9gzt3xUk"
          },
          "thumbnails": {
           "default": {
            "height": 90,
            "url": "https://i.ytimg.com/vi/dSe9gzt3xUk/default.jpg",
            "width": 120
           },
           "high": {
            "height": 360,
            "url": "https://i.ytimg.com/vi/dSe9gzt3xUk/hqdefault.jpg",
            "width": 480
           },
           "maxres": {
            "height": 720,
            "url": "https://i.ytimg.com/vi/dSe9gzt3xUk/maxresdefault.jpg",
            "width": 1280
           },
           "medium": {
            "height": 180,
            "url": "https://i.ytimg.com/vi/dSe9gzt3xUk/mqdefault.jpg",
            "width": 320
           },
           "standard": {
            "height": 480,
            "url": "https://i.ytimg.com/vi/dSe9gzt3xUk/sddefault.jpg",
            "width": 640
           }
          },
          "title": "How to Overcome Fear of Rejection",
          "videoOwnerChannelId": "UC9HGzFGt7BLmWDqooUbWGBg",
          "videoOwnerChannelTitle": "Matthew Hussey"
         }
        }
       ],
       "kind": "youtube#playlistItemListResponse",
       "nextPageToken": "EAAaelBUOkNESWlFRFU0UWtReVF6VkROalJHUWtRek1FVW9BVWotaE5yczBabUdBMUFCV2pZaVEyaG9WbFpVYkVsU00zQkhVak5STTFGcmVIUldNRko0WWpJNVZsbHNaRWhSYldOVFEzZHFRWHBMWlhsQ2FFTjNMVkIzVGlJ",
       "pageInfo": {
        "resultsPerPage": 50,
        "totalResults": 943
       }
      },
      "text/plain": [
       "<IPython.core.display.JSON object>"
      ]
     },
     "execution_count": 76,
     "metadata": {
      "application/json": {
       "expanded": false,
       "root": "root"
      }
     },
     "output_type": "execute_result"
    }
   ],
   "source": [
    "playlistID = 'UU9HGzFGt7BLmWDqooUbWGBg'\n",
    "request = youtube.playlistItems().list(part=\"snippet, contentDetails\", playlistId=playlistID, maxResults=50) #maximum value by default\n",
    "response = request.execute()\n",
    "JSON(response)\n"
   ]
  },
  {
   "cell_type": "code",
   "execution_count": 77,
   "id": "ad804d11-c2a7-4cc7-8df7-b4e4e096c0c3",
   "metadata": {},
   "outputs": [],
   "source": [
    "'''\n",
    "Function to create a list of the video IDs of a PlaylistID\n",
    "METHOD: .playlistItems().list()\n",
    "'''\n",
    "\n",
    "def get_videoIDs(youtube, playlistID):\n",
    "    video_IDs = []   \n",
    "    \n",
    "    request = youtube.playlistItems().list(part=\"snippet, contentDetails\", playlistId=playlistID, maxResults=50) #maximum value by default\n",
    "    response = request.execute()\n",
    "\n",
    "     # loop through the items\n",
    "    for item in response['items']:\n",
    "        video_IDs.append(item['contentDetails']['videoId'])\n",
    "                        \n",
    "    next_page_token = response.get('nextPageToken')\n",
    "    \n",
    "    while next_page_token is not None:\n",
    "        request = youtube.playlistItems().list(part=\"snippet, contentDetails\", playlistId=playlistID, maxResults=50, pageToken=next_page_token) #maximum value by default\n",
    "        response = request.execute()\n",
    "    \n",
    "     # loop through the items\n",
    "        for item in response['items']:\n",
    "            video_IDs.append(item['contentDetails']['videoId'])\n",
    "        \n",
    "        next_page_token = response.get('nextPageToken')\n",
    "\n",
    "        \n",
    "    return video_IDs\n"
   ]
  },
  {
   "cell_type": "code",
   "execution_count": 121,
   "id": "12499497-d54d-4dd2-b502-6e8c1d655a6b",
   "metadata": {},
   "outputs": [
    {
     "data": {
      "text/plain": [
       "['L5l_X4TXrZ8',\n",
       " 'JgKATVJUY7A',\n",
       " 'ZQ13ZgSJwic',\n",
       " 'nHqyyt66dQk',\n",
       " 'l_Cjd2ya5R0',\n",
       " 'rMSIPaN25vI',\n",
       " 'v-7h8fxhTFQ',\n",
       " 'Xvk_v7uYgPw',\n",
       " '10CsOVtc0EE',\n",
       " 'RpXzWZIZA-s',\n",
       " 'nDUojvw9SNY',\n",
       " 'FRZxv1yUghI',\n",
       " 'x3kP0-AXhio',\n",
       " 'heCYov5NnqI',\n",
       " 'KANehpUjFak',\n",
       " 'EdlO3y2e1q0',\n",
       " 'aS--Q2UpdPw',\n",
       " 'uEoyMh9GrZo',\n",
       " 'oB9yB5-4bXg',\n",
       " 'MlIwAZHGoVM',\n",
       " 'XAfcRDSk3ac',\n",
       " '1wWUo3K2IQ4',\n",
       " 'auZ3meqfIM8',\n",
       " 'pROjRDs2TlU',\n",
       " 'CqUVDeYSF5s',\n",
       " 'GyMmQsGgqr4',\n",
       " 'E3xUfFMCPpk',\n",
       " 'ChzcXB-P_bA',\n",
       " 'LPvuuVgqLsc',\n",
       " '7XnT4l0msj4',\n",
       " 'gqhqYvRZawo',\n",
       " 'hruCvah4G0U',\n",
       " 'OqJ4CC6fx8w',\n",
       " 'TPtK8Yu71ds',\n",
       " 'hwhRa7S5bxs',\n",
       " 'nc-xSE8MCjU',\n",
       " 'bBjnAYymUo0',\n",
       " 'DA48H6tsm4Q',\n",
       " 'XGnrnh4gjXs',\n",
       " 'nNiHg4mWYUA',\n",
       " '4XTL5GYKrYY',\n",
       " 'VFLtq0kP_Pk',\n",
       " 'SZP6Ske_bfM',\n",
       " 'vm2t1MKrcpQ',\n",
       " 'qR1-QzGGqPE',\n",
       " 'lug5X3KKsaY',\n",
       " 'aHtKFDhSG3A',\n",
       " 'nMvJnk4uZ4k',\n",
       " 'Ej3_yYhxbY8',\n",
       " 'dSe9gzt3xUk',\n",
       " 'pwJ8taTRU7o',\n",
       " 'H8yEcflLCkQ',\n",
       " 'L_qAxl8jhhU',\n",
       " 'HM8QSJIy96w',\n",
       " 'aozUJLE0sTk',\n",
       " 'ZNUTlKyvixU',\n",
       " '4bYO9Buh9Eg',\n",
       " 'Wu01wLV6x2s',\n",
       " 'Bn9XTBQ8Ufw',\n",
       " 'Ni977nOzSrs',\n",
       " 'lyhu0KHsqUo',\n",
       " '9HrzWaIYwVk',\n",
       " 'kB9Lsy9CD4Y',\n",
       " '6TfdBeVDVTg',\n",
       " 'RwN30xT_GcI',\n",
       " 'PKNENgOJG3Q',\n",
       " 'nuAQiLIyQQU',\n",
       " '6Gw8DE_jglM',\n",
       " 'Hh_ynaNRpb0',\n",
       " 'iralHmxL1Ec',\n",
       " 'zy6uWvlORQE',\n",
       " 'SqHxUhz51Jg',\n",
       " 'Vyc4ZEwHZvU',\n",
       " 'snMwXJi_uXA',\n",
       " 'Clo94CJgdSI',\n",
       " '4725seBpMh8',\n",
       " 'U0ZnEfuhvwM',\n",
       " 'bjGAVrrjYbo',\n",
       " 'EFja3TmXuJ0',\n",
       " 'jyQNmX9Qhsk',\n",
       " 'e8f90TuGPKQ',\n",
       " 't9ysiEWiU50',\n",
       " 'AB7wCyNiVWA',\n",
       " 'ldcpZA07pxs',\n",
       " '8G0Jp2UCgug',\n",
       " '01wvBknpkac',\n",
       " '5beROw-4g-A',\n",
       " 'wbGCBg3Bz9A',\n",
       " '1EehslYVfkI',\n",
       " '8kWj7ZyqQuI',\n",
       " 'SrtW_-jiFBE',\n",
       " 'tOX6DqDFa-E',\n",
       " 'VdSX38K9kD8',\n",
       " '6g5r6VVyyuA',\n",
       " 'iMuvocRehlw',\n",
       " 'xiAMiT-N3LQ',\n",
       " 'dKW9HV2hhQA',\n",
       " 'Y2PaKaVSAA8',\n",
       " '9lcUDfksyug',\n",
       " 'GW4uWHIcbDk',\n",
       " 'Xb8DORR7910',\n",
       " '0Yri1k31Yq8',\n",
       " 'BKoLdoGqNY0',\n",
       " 'M_K9D7iyn88',\n",
       " 'ps3myc0vlhc',\n",
       " 'S7-WL7L4Hqg',\n",
       " 'IH5HSBdoyo4',\n",
       " 'k-qcLAMG3RQ',\n",
       " '8oDI6LJ-qP0',\n",
       " 'V2SjeYb_AEM',\n",
       " 'zdQh4xWXk88',\n",
       " '-QgbNxbB3hk',\n",
       " 'r8gZyvGTa5o',\n",
       " 'qvo-sWS17qo',\n",
       " 'IQKVg1joJeU',\n",
       " '3hxszFLhkeY',\n",
       " 'dSc0I-4dMw8',\n",
       " 'J5gk5vOk8V4',\n",
       " '3gXrY1R3uOo',\n",
       " 'HSDBZ3nWGNQ',\n",
       " 'KMUi9WyrEKw',\n",
       " '7tPchAXkhJY',\n",
       " '_dCpip6ZFiM',\n",
       " '4dctDDQHznA',\n",
       " 'AMaSqemIUuI',\n",
       " 'F_rwMv-iJqs',\n",
       " 'mKMVaFn1TXA',\n",
       " '0-11rSSY97Q',\n",
       " 'wxVAM3lNeqU',\n",
       " 'WvtxLMbAwBI',\n",
       " '2wzdt_EFbUM',\n",
       " '-I7hoCtpwSo',\n",
       " 't99sgowObYQ',\n",
       " 'e_uJ-0_NY1g',\n",
       " 'k-jD3FjNYw8',\n",
       " 'KbgvIoXPAOI',\n",
       " 'vaWW2fjcI3g',\n",
       " 'BRNRis1Deis',\n",
       " 'pbcQXHNjuS4',\n",
       " 'dzIPXUQq1Ko',\n",
       " 'u38SntQ8UWE',\n",
       " 'KEloraW8TXg',\n",
       " 'w2bLP-abjHA',\n",
       " 'Wb5nKSsF46s',\n",
       " 'rU-ONRc0rhQ',\n",
       " 'nCQp0RKc-tI',\n",
       " '45UBBqojDyo',\n",
       " 'ullQHuiO1FI',\n",
       " 'WHLS_cUoZCc',\n",
       " 'NXhjGoiMojs',\n",
       " 'PbrvQr5Qouk',\n",
       " '4kPXLaYNxZY',\n",
       " 'xgXRvzSVgQE',\n",
       " 'b2eqipj7_yo',\n",
       " 'WWXA2QHlcSs',\n",
       " 'lq3vMfIpXT8',\n",
       " 'FikQm5VfwOg',\n",
       " 'fDzEbq9Ei8A',\n",
       " '3YcEvtRyFEU',\n",
       " 'HYdeKEbV1Ag',\n",
       " 'dg4x1QiiPmM',\n",
       " '3STj2rYQv-o',\n",
       " '_SqnD_GNAXA',\n",
       " '6qYWsHRcM0U',\n",
       " 'r0WTZzb3_WU',\n",
       " '4SzFkl8LIC0',\n",
       " '-SwZiU2kw-Y',\n",
       " 'VJ0UQnY8ofM',\n",
       " 'YV596NUQJns',\n",
       " 'Oo6Tu6r4GM8',\n",
       " 'EIKEYpf-Zz4',\n",
       " 'j30jCa-lQdM',\n",
       " 'cblfsOIakhk',\n",
       " 'dmiam5vwQh0',\n",
       " '2Od8rN4t5G0',\n",
       " 'ZJ5b0_K9Ahc',\n",
       " 'ZbH9M8RZ8hM',\n",
       " 'GVJmS4nSPBM',\n",
       " 'evAlJCY-7C4',\n",
       " '09r4tPIW-d0',\n",
       " 'IkFluyZMU_U',\n",
       " '8nAPKAKyy_A',\n",
       " 'u2mUsz5QFaU',\n",
       " 'Jj7kxlP8mOk',\n",
       " 'PrPmHOcX6Eo',\n",
       " 'zWV4mF6CCck',\n",
       " '0LIm3xXfwCQ',\n",
       " 'mx7ubB-SnRM',\n",
       " 'jd31_Gt1VeY',\n",
       " 'PaYKy3HP21w',\n",
       " 'Do4nU6vM_5c',\n",
       " 'DP_p_e3KepA',\n",
       " 'z4doTLY5qPw',\n",
       " '2mTchDLVaZA',\n",
       " 'IQ_Z7vYzNCk',\n",
       " 'qItqwWWs-gI',\n",
       " 'FyQXjkrUOHQ',\n",
       " 'TYczsBQC7YE',\n",
       " 'qpx27lzTLLg',\n",
       " '8CkVD1dy62Q',\n",
       " 'ye8D2pIt58Y',\n",
       " 'mnA9Krkw1A8',\n",
       " '1uz2TMPrSgg',\n",
       " 'q6Kw8RDQWAA',\n",
       " 'cxrv0Xx4jF8',\n",
       " 'mBq3z_r-EmQ',\n",
       " '05oHspx8VII',\n",
       " '3MXQEkUAXYM',\n",
       " 'Me9Gjam68lE',\n",
       " 'H2FBNDdS3Fs',\n",
       " 'EB3VzRa1v_c',\n",
       " 'w7D7DhmISsw',\n",
       " 'LAttNQqvsRs',\n",
       " 'jCTucqq0vF4',\n",
       " 'Tjbm7h8XMm4',\n",
       " 'AJ7sZemeHuI',\n",
       " 'QKMiTaapINc',\n",
       " 'CtsxMcgVq-A',\n",
       " 'EheiaucCpqc',\n",
       " 'U18nLd3UiE0',\n",
       " 'Ypn7FQfd_K8',\n",
       " 'l3TUoSha2z4',\n",
       " '9IwqqiI6QG8',\n",
       " 'zdlH00ziJok',\n",
       " 'uAKj63L3kv0',\n",
       " 'dDCB0GKtP8o',\n",
       " '4TOKp06w1TI',\n",
       " 'YagOCPTNXew',\n",
       " 'XfCC62rBuGY',\n",
       " 'ogGzelutrgo',\n",
       " 'lNrK9__6jCQ',\n",
       " 'ANWlNCPWpms',\n",
       " 'nh_nZHBO2fk',\n",
       " 'X2KeUDPBM0w',\n",
       " 'F6pEZ7XwwnQ',\n",
       " 'HC57S5vgFI4',\n",
       " 'KTMnsVOlcvM',\n",
       " 'NqRsbpGq8PY',\n",
       " 'w5rOVCm97X8',\n",
       " 'I3JeNCKTL5o',\n",
       " 'JSuMNvYu9Ck',\n",
       " 'H6L5WtQomBg',\n",
       " 'x3IDoeSVJnY',\n",
       " '3qUGxVudTpg',\n",
       " 'eCjc0_dR3D8',\n",
       " '0fozcf6W9UU',\n",
       " '0Ixo6DdG1CI',\n",
       " 'Rd117BUiCYE',\n",
       " '7raum5mnM7U',\n",
       " 'BTinNuPpdcg',\n",
       " '5EVw58R9598',\n",
       " '_ifJqNbWmM4',\n",
       " 'nygxvUP-3gk',\n",
       " 'ZNdMKlmaOeI',\n",
       " 'kfTBC506jec',\n",
       " '6IU92gH6vO0',\n",
       " 'nRZRsX4Wjis',\n",
       " 'jdUqFL9rTTM',\n",
       " 'PKj2E6Besnc',\n",
       " 'EjK5aRyhKpI',\n",
       " 'JFgAJ7K_LNQ',\n",
       " 'TSMxfOMqNyQ',\n",
       " 'Yw1L1hPmOrE',\n",
       " 'RJ1rUAsJq4g',\n",
       " '0LO_-CzMF1E',\n",
       " 'UzyOXu0Wp18',\n",
       " 'Ua0OBjV9oqU',\n",
       " 'h0Sv90ZKsXg',\n",
       " 'fRW1KYMqs8c',\n",
       " 'jbfAAJ_EjzA',\n",
       " '8JEmqeKOP-I',\n",
       " 'mMacGL9MI54',\n",
       " 'ZAo1VG6Jz3E',\n",
       " 'mdo3KV5aoSw',\n",
       " 'rdLhcLYB6Ko',\n",
       " 'fPR1UrTQljs',\n",
       " 'YOplexFH2hI',\n",
       " 'KDY6VnfVlQs',\n",
       " 'GCROe7yg-n0',\n",
       " 'JKfpEcqphtc',\n",
       " '61vg2E2k7NM',\n",
       " '8uoowLe1whk',\n",
       " 'MwNZvABHkus',\n",
       " 'QkZmuLsnSQQ',\n",
       " 'zfG5c99zaYk',\n",
       " 'dr-k_3ot8vQ',\n",
       " '07X_22F_kOA',\n",
       " 'dD6w79X8gM0',\n",
       " 'uygKMYtrUYw',\n",
       " 'Mq-KxiET1ws',\n",
       " 'bHR0hOfFeb8',\n",
       " 'TizxlTaJ174',\n",
       " 'xgQdYFt7ckE',\n",
       " '9ObIcT-MqzY',\n",
       " 't5ZSkgxgE0A',\n",
       " 'ay_FXwQ8ZF4',\n",
       " 'gfrX7vspx5Q',\n",
       " 'BskpTePuqgs',\n",
       " '02qnXmnNiH4',\n",
       " 'diG0QXOSWl4',\n",
       " 'mCgjUMsvM30',\n",
       " 'CWR4N9Lqvek',\n",
       " 'OwIQ83WtL5s',\n",
       " '4bzLpWhYn0Y',\n",
       " 'ezcgVhKXEEM',\n",
       " 'tuMJYqni94k',\n",
       " 'fom0nk4ZUSU',\n",
       " 'p9OY5uYBx2g',\n",
       " 'RQGNlhFUzx4',\n",
       " '6ccP60iHOUU',\n",
       " 'cROylO6jwsg',\n",
       " '4_0dTCIuqnE',\n",
       " 'Vt6CC2e9AxE',\n",
       " 'IMkKmmpSzsE',\n",
       " 'kwKRaXwsCjE',\n",
       " 'SHxy3tejWBQ',\n",
       " 'cH0OJru0kHc',\n",
       " 'xZcAcC1snyI',\n",
       " 'KiOYrkGEzqc',\n",
       " 'KoA0uRtVTKA',\n",
       " 'Eo_2OhAkZUM',\n",
       " '4PQm91TH_l4',\n",
       " '_fywhSphYo0',\n",
       " '2fmL9Vt8w8A',\n",
       " '7sddvbQKrcw',\n",
       " 'MaqZuuH4tkk',\n",
       " 'IW5kPZr_5sc',\n",
       " 'MVqclp-JMrk',\n",
       " 'SwcJJT8cGGg',\n",
       " 'us_YFjT7Hw4',\n",
       " '9y2gtqyqnhA',\n",
       " '4WZ9Xtm8Dz4',\n",
       " 'zz6s9uiAg6k',\n",
       " '-l0kBzGJ2Us',\n",
       " '8gXXI27K4mI',\n",
       " '9xABoYA_0Eo',\n",
       " 'DAYXxvV28HM',\n",
       " '-Fo4qRVBdNU',\n",
       " 'f-WXOkXhVSM',\n",
       " 'eERC3rXze3o',\n",
       " 'DPJqnNmQxFA',\n",
       " 'OYnKGNCyWWc',\n",
       " '2e1Mu3WLGsE',\n",
       " 'IfreYNYdIH8',\n",
       " 'cjcryqKiYlE',\n",
       " 'sDVAgi0_bco',\n",
       " 'IL1z2XVAkHw',\n",
       " 'koOHXxuzPhQ',\n",
       " '8QRL4uH4piQ',\n",
       " 'he2nwtfzTFQ',\n",
       " 'k1HXqjJiCdU',\n",
       " 'Rf5RLYBqfuw',\n",
       " 'sxc-7OrVOKU',\n",
       " 'iFtNjK0lfqs',\n",
       " 'b4WM_F7gZy8',\n",
       " 'Sc18E8coV8s',\n",
       " '1h5287M_jtw',\n",
       " 'fbJj8zi2dtw',\n",
       " 'dtgvU_3nQ5w',\n",
       " 'uNu9gI3JZBg',\n",
       " 'bfeXzF5GsXI',\n",
       " '_fGBMxWU20I',\n",
       " 'E0ybAlu1odY',\n",
       " '1n-tlR-RxqQ',\n",
       " 'VvgsU37jtU4',\n",
       " 'lZQX70VcSgY',\n",
       " 'Q-7JtcYNHlA',\n",
       " 'kP0pMdta-pQ',\n",
       " 'V-0z5hasC5I',\n",
       " '2NgVumkvqzg',\n",
       " '9z78wt6zZ4s',\n",
       " '-lcTfBBXlKI',\n",
       " '-c4XMjbvRg4',\n",
       " 'XS-XAmVErYw',\n",
       " 't-6_SpJ8XOw',\n",
       " 'D59Xkdj3J-M',\n",
       " 'bIkQOMJd4qY',\n",
       " 'EFbysxFqu8o',\n",
       " 'IgCFtxI9cSs',\n",
       " 'jdwFPmVTruI',\n",
       " 'AoMKw3W-oFI',\n",
       " 'pCOO-jnvCXs',\n",
       " 'WZkpmNXCLwY',\n",
       " 'yZp2itlhmkc',\n",
       " '5-kpwr2dMyk',\n",
       " 'd9GW48_ODA8',\n",
       " '_l0Da-_x0sE',\n",
       " 'jrZr2ebUb8M',\n",
       " 'PNSzPazO9JQ',\n",
       " 'KpUSiNjLlJ8',\n",
       " 'YvQhpNcTbqo',\n",
       " '5Z4-_IpDZhU',\n",
       " 'Jrg5PHXoSqA',\n",
       " '0gO-KeOWHYs',\n",
       " '4_jqden_4mY',\n",
       " 'XUkxofe0WAM',\n",
       " 'Dk5xp8-ZDZI',\n",
       " '0tZSsh6yYd8',\n",
       " 'B1eHzlLtYOA',\n",
       " 'qPYOVH12j3k',\n",
       " 'bNF-RYaBeLk',\n",
       " '1DLPKZu_s9s',\n",
       " 'NDXcBiMAkWY',\n",
       " 'k2h0uXdDIPQ',\n",
       " 'xfsZing6jCk',\n",
       " '6RRZ9TYcNhc',\n",
       " 'SVZ6NV4q2Mw',\n",
       " 'zOngSLnnM3E',\n",
       " 'GM2fFGJJWPk',\n",
       " 'UckSHETtepQ',\n",
       " '-Am-_acYuY8',\n",
       " '3gdwXscVAyM',\n",
       " 'KncWAtoi4as',\n",
       " '_G2YV4HBf50',\n",
       " 'DZ1j_oNhDCg',\n",
       " '15gCvP4ENHI',\n",
       " 'ZSjkNwMZ0b4',\n",
       " 'LKIGszREN2Y',\n",
       " 'cKUuRPXNOnU',\n",
       " 'ojUbBU_ekqs',\n",
       " 'CUNkxpZOFCQ',\n",
       " '5TtaTN5MsDo',\n",
       " 'VIfxOSVsC18',\n",
       " '-Hu0zkX3_qE',\n",
       " 'FxK35uP0sIo',\n",
       " '70rwf7_wMDc',\n",
       " '6sYm3Y5OGDE',\n",
       " 'C5WxLrDnkFg',\n",
       " 'VXM7OxixVMI',\n",
       " 'lFj4I9nNSXU',\n",
       " 'UKL8qAmy6UQ',\n",
       " 'mebO29KaLCI',\n",
       " 'HDKyAVXIK8o',\n",
       " 'UzKZrnL-86A',\n",
       " 'twjjp0d8UsI',\n",
       " 'WbA73NNIOFE',\n",
       " 'UpFBIAqd7Gc',\n",
       " 'LxcDUUY1veU',\n",
       " 'Mg63uRZRhf8',\n",
       " '20dkTCoxMW4',\n",
       " 'WQZeKt9SKAQ',\n",
       " 'otX2sKYd2vc',\n",
       " 'xZGnG4u8kEs',\n",
       " '1Ue5w-m0zOo',\n",
       " 'qfbzKpJuieM',\n",
       " 'L-GTMDxlD3c',\n",
       " 'OtMD9Lfch9A',\n",
       " 'YnUb00mKNaE',\n",
       " 'cbUw9u-_WuI',\n",
       " 'r4YOlCrR1MA',\n",
       " 'xENM4hziqp4',\n",
       " 'MrRnObGzd-c',\n",
       " 'zikSPMALbkA',\n",
       " 'XQ1mdiAYfxA',\n",
       " '9c2jLU970Oc',\n",
       " 'AukPZ4cC_kI',\n",
       " 'fQAva6fsLQU',\n",
       " 'LX_cCIKBm84',\n",
       " 'WH9gidIFYl8',\n",
       " 'jHTNrFe5l2k',\n",
       " 'oKUtCYI-Mas',\n",
       " 'qwGSPCs1_CE',\n",
       " 'Q5C7LExDgl0',\n",
       " 'CgValKLSh0E',\n",
       " 'w4mOI9zQz2g',\n",
       " '2mUhyxe_irk',\n",
       " 'fbC0uQkj1T0',\n",
       " '0QP2YzL9He4',\n",
       " 'I1WGhCBUq24',\n",
       " 'yQUNnvGmIwE',\n",
       " 'WeD0TpqF5p0',\n",
       " 'VC2SfMSisPI',\n",
       " 'KQnU0uDoNuA',\n",
       " '1zmBcTkrZrQ',\n",
       " 'XuQFa_94QLg',\n",
       " 'eS1zPSXua2Y',\n",
       " 'tgl36ZUPX6o',\n",
       " 'uGxvbsvPy1M',\n",
       " 'RRAp7uTyFb8',\n",
       " 'jmynE9XklWA',\n",
       " 'm0S1lwV4FdY',\n",
       " 'wHPoYZPQS7w',\n",
       " 'YBO6HkrhmqY',\n",
       " 'yqKXl9sb-pk',\n",
       " 'WhkywyCahN0',\n",
       " 'jMhRouNJTac',\n",
       " 'KAhT5UdZqSM',\n",
       " 'vOvV60Cz9W0',\n",
       " 'FYOABHD1je8',\n",
       " 'XVmGAHbp8jM',\n",
       " 'VfJC3pNuB94',\n",
       " 'yuQrTnEZq1A',\n",
       " 'pPZDzT4BcbY',\n",
       " '8oZJfYU74qY',\n",
       " 'Wvj_cGSro4Q',\n",
       " 'NTqj9yY4o1A',\n",
       " 'qtpftTZVlMo',\n",
       " 'yzAPI5ZIRNY',\n",
       " 'hmbUgVJ8LHE',\n",
       " 'gcrI32Udk-8',\n",
       " '_6riZNXj9hY',\n",
       " '1dalmVLghRw',\n",
       " 'bUHqzDY0JTA',\n",
       " '5XVjP5a0fEY',\n",
       " '_PNrSknNQRg',\n",
       " 'Tp7mhJ2-hWI',\n",
       " 'GNX89RVw79E',\n",
       " '8g5sC1VEqwI',\n",
       " 'dH6GxMrguH4',\n",
       " 'xMrYXNlJQVg',\n",
       " 'D_5ecS-47u4',\n",
       " 'Xxo4PttvVfw',\n",
       " 'Q-XTnWeS6d4',\n",
       " 'GuaWTzMyT0o',\n",
       " 'Zb1YLB98iuI',\n",
       " '2RzQZmt4pGY',\n",
       " 'k7JutjLnXtY',\n",
       " 'wW1vhD6c7B8',\n",
       " 'enzzn9wnoFc',\n",
       " 'MgAd-XTc49U',\n",
       " 'VXFJZwpeh1w',\n",
       " 'zfZc7t9-LtU',\n",
       " '1VK0VAZzrgw',\n",
       " '05ThNwseSt8',\n",
       " 'NdTYrS2bMFc',\n",
       " 'TShiH00GLZY',\n",
       " 'OsNT75zRCDM',\n",
       " '3HXT_pOLEvw',\n",
       " '5pT73LBDbC4',\n",
       " 'nd4hMiS_EuA',\n",
       " 'EFJsMK77dm0',\n",
       " '8GJBqATUt_A',\n",
       " '1B7ioamvQPQ',\n",
       " 'J5UXSWLZvsA',\n",
       " 'liLdY5aeo5k',\n",
       " 'BRvU2Xqy6kE',\n",
       " 'pvENeb_qErA',\n",
       " 'hMY8HTphMJU',\n",
       " 'Cl1R1vxYGXQ',\n",
       " 'XCqOX88CM-o',\n",
       " '8ESEmkKOlpc',\n",
       " 'Y-fSRCw2fMY',\n",
       " 'KwHEiBeZKN0',\n",
       " '5gd9dEEUdIE',\n",
       " '3KKfHmIe1Mc',\n",
       " 'wS733mmcYT0',\n",
       " '5f-DW6Oq2cU',\n",
       " 'mIU1Wi1Q1hM',\n",
       " 'SE_8hzeB2y4',\n",
       " 'YEDglDSkI3c',\n",
       " 'wBZiDnMfw7M',\n",
       " 'oJ7q9c_vTcI',\n",
       " 'r0UmTqZk-Gc',\n",
       " 'rA0JlTj09VY',\n",
       " 'EVf5J3EHC0Y',\n",
       " 'RXiiTNOP_tY',\n",
       " 'Rz7nJezVsf0',\n",
       " '9eBiii4p8qs',\n",
       " 'Z52ZoKgcKHI',\n",
       " 'dZr6OaIOk5E',\n",
       " '6kU2N9v0oaI',\n",
       " 'vq9HhXdRZV8',\n",
       " 'ZqPjwp7sq0A',\n",
       " 'ACvOXIm6xDc',\n",
       " 'ZyZkEbYiAmU',\n",
       " 'xy11Tjxz97A',\n",
       " 'jS_aorjoe0c',\n",
       " 'mqoR-dP2Yj0',\n",
       " 'W5HdMKOXvi8',\n",
       " '23UI5oimftc',\n",
       " 'nJ9thV2Euow',\n",
       " 'LIrQbMXBHsM',\n",
       " 'cENBDNwjECY',\n",
       " 'vwHGeZ5JrQA',\n",
       " 'uOK-Kp3X-_g',\n",
       " 'ZSJWw8n12vs',\n",
       " '3ThMo69g3vE',\n",
       " 'THBGcb1fkS8',\n",
       " 'Jt-f53vqZEU',\n",
       " 'NdI59RZHejI',\n",
       " 'FwXRLSmV2l8',\n",
       " '65Wwj05FIU4',\n",
       " 'AVwTlJIZX54',\n",
       " '0Jg9Pw-uH2c',\n",
       " 'w2v1u7kz6qU',\n",
       " 'iPwe-QUmnmw',\n",
       " 'n_REVWgfsdw',\n",
       " '52JUkIYKXbg',\n",
       " 'LaFQNm88M6k',\n",
       " '4_ESK5TaOyw',\n",
       " 'sHWhbW0NmlE',\n",
       " 'eB3AXJxM634',\n",
       " 'cBX_HyzsO40',\n",
       " 'fd_WyqHjviA',\n",
       " 'HpD4j2waiDY',\n",
       " '_EugFWPv-aI',\n",
       " '32Q-vdk-8GE',\n",
       " 'oddMOB7ONyU',\n",
       " 'kaSd5ogbuPE',\n",
       " 'G8utOpitDfI',\n",
       " 'HwSAe8fkP3E',\n",
       " 'euPx9iieoiw',\n",
       " 'TxuE6IOCKIA',\n",
       " '89diNw6dNh4',\n",
       " 'fzAjvKwH79s',\n",
       " 'oZBZXEPG3dk',\n",
       " '0ROFTqkmQkc',\n",
       " 'bCdFzjEuQrY',\n",
       " 'Wor5ZUU0M8k',\n",
       " 'ySipcmesqYg',\n",
       " 'yPZAxiupSbo',\n",
       " 'ZxTlw1sL2IE',\n",
       " 'ATL01kP0Uh8',\n",
       " 'FUa2ffUNcaA',\n",
       " 'nIgB5ndDVV4',\n",
       " 'SfBB9lDcA5k',\n",
       " 'j5JC7PlyHUE',\n",
       " 'GbGuOtYCiqg',\n",
       " 'pg8Z0_N5KS8',\n",
       " '7bjG8N3fPA0',\n",
       " 'kC2sS29HZwc',\n",
       " 'NDWzwyXwimM',\n",
       " 'yaAs7SyQabM',\n",
       " '71o3hq6iSPM',\n",
       " 'U-ZMAgg2dPM',\n",
       " 'f_yj58RGR-I',\n",
       " 'gHWXTy56KdA',\n",
       " 'vGIM6UySZM0',\n",
       " 'LiC4oAZgLdE',\n",
       " 'QPkoLwmkSH0',\n",
       " 'T42f7A5YjGA',\n",
       " 'quJEKIVHUfk',\n",
       " 'vAafYIt92QU',\n",
       " 'hIGJmGFmhKA',\n",
       " 'YgPK4lqMq0Y',\n",
       " 'aQSZqUPoxa8',\n",
       " 'WPm9aO6gHPk',\n",
       " 'jkqJqlmsI7E',\n",
       " '2fVfxwmCVlI',\n",
       " 'Eer2xRcH7iI',\n",
       " '3Lva3DL54AQ',\n",
       " '76X1gL_XDNU',\n",
       " 'g8Dd3K2_atY',\n",
       " 'Gncy4ZMMHB8',\n",
       " '14KbwKFnBoo',\n",
       " 'BuS4d9WJDl8',\n",
       " 'Inc0E1MMRZY',\n",
       " '9UgZS2fA8MQ',\n",
       " 'uDCT-yegK2Y',\n",
       " 'ndoiaFQESp4',\n",
       " '2Jt8jZf2Fpk',\n",
       " 'hpDb7Dv5li8',\n",
       " 'k8eePuxR5kA',\n",
       " 'VgBnm0Mo5ik',\n",
       " 'ge28Ku932jc',\n",
       " 'fHp_pkZUIjE',\n",
       " '4ImDfMI71Yc',\n",
       " 'cnwgDvSNoKI',\n",
       " 'K02dDEnmI3s',\n",
       " 'WNM3ChkWX-o',\n",
       " 'joyISe2axRw',\n",
       " 'TFB5zNP1Ypo',\n",
       " '_sFnktGzxCs',\n",
       " 'USbYY0FfSfo',\n",
       " 'ShmxLh1ZpoU',\n",
       " 'LbnmcujjVoY',\n",
       " 'g2e_VsA5Auo',\n",
       " 'iZBxRLxFr-w',\n",
       " 'oTfPUqSaZRk',\n",
       " 'R6NADQk3BJw',\n",
       " 'eV0NIdYhY5s',\n",
       " 'RhMCUECW2gU',\n",
       " '_YWIB3uruyE',\n",
       " '_NoSltqBrUY',\n",
       " 'paFKB_qMqdE',\n",
       " '0D3SsyZc7mY',\n",
       " 'rNbukwByKYM',\n",
       " '2kcOVmh-BIE',\n",
       " '7SJfVnzJ4ZM',\n",
       " 'Vhxi4jXo_2w',\n",
       " 'k2LgbJ05DEo',\n",
       " 'Dg1MO-0RNIg',\n",
       " 'HCWGH0ULnW0',\n",
       " '7qlffWvgqfM',\n",
       " 'RQyi1ta6rEo',\n",
       " '4jxJVUmiYrA',\n",
       " 'NmIQ47y1Zlg',\n",
       " 'O8dZEZGBIEo',\n",
       " 'rO4HJ8uICCo',\n",
       " 'mgB3UQ6vJaM',\n",
       " 'S-DVQqyjhbM',\n",
       " 'jW5lRcP7qfQ',\n",
       " '2kCLnyevB_Q',\n",
       " 'mxJ99xu-B7g',\n",
       " 'hjYRHYO-urE',\n",
       " 'zOy4cFzWz1Q',\n",
       " 'kY7Rr_SgyuM',\n",
       " 'dfi64RAhjnU',\n",
       " 'BxYtU2A0zJo',\n",
       " '8eFGQ2G0wBQ',\n",
       " 'jJvUW_Gig0I',\n",
       " 'UMMUfCTdxFo',\n",
       " 'Ladbpg6FKz4',\n",
       " 'kKy6XLM9VSA',\n",
       " 'w8JopEnIuEQ',\n",
       " 'hEWoLoN4wuw',\n",
       " 'ympshvBTwhk',\n",
       " '2aLeOo_7qJk',\n",
       " 'a54BFgjCRSY',\n",
       " 'KHLG4XLkRWo',\n",
       " 'bROH7qQ6NJE',\n",
       " 'B2ZHUQr2-gs',\n",
       " 'WjiXoCm8DnI',\n",
       " 'KvveYwyk9Fc',\n",
       " '3wzZoY_9EjU',\n",
       " '5mDcD8pz6Yc',\n",
       " 'n9i3uLRhUyw',\n",
       " 'QNRche7AZkM',\n",
       " 'PRKarB8LzDY',\n",
       " 'JdaNmF-vtnc',\n",
       " 'eZLcjYfEQL8',\n",
       " '7BefTJPuBrs',\n",
       " '-vzH4LoExDc',\n",
       " 'AJ0gWO_fnFI',\n",
       " '8ptTplppLMw',\n",
       " '9DZQb03q6_Q',\n",
       " 'Tm53aCGkfCI',\n",
       " 'Y7MzIv4mfFQ',\n",
       " 'unVpA5lwb_w',\n",
       " 'T6_5zpzkvHU',\n",
       " 'rZiwnKVRhL0',\n",
       " '8aPfoJiDeBY',\n",
       " 'SUqpivN163s',\n",
       " '8FboonP2u0Y',\n",
       " 'x04wLzDu0bc',\n",
       " 'TVY1qcG28MY',\n",
       " 'BcbABNkN8lg',\n",
       " '2oUM2AqTe0k',\n",
       " 'klHq9-hWdM0',\n",
       " 'ui4Jw_wOn_Y',\n",
       " 'LoYHoAH9gZE',\n",
       " 'K2qrNkC4zOs',\n",
       " 'IW3bnArEsIg',\n",
       " 'wBrCU3oTpnU',\n",
       " 'y9eUaqN7tD0',\n",
       " 'H-5cK8HK_EI',\n",
       " 'R_t5A-XcvJ0',\n",
       " 'Hlb-IBtxJYc',\n",
       " '2WS8SV-X_dg',\n",
       " 'Er8Cd1L35z8',\n",
       " 'd9JjyvHv9A4',\n",
       " 'wkHvRCFFfLU',\n",
       " '-MSl1LWhOrM',\n",
       " '93FSAK4h-jg',\n",
       " 'R8G0qhswflo',\n",
       " 's_4dQtak3mk',\n",
       " 'XDdwkopUh0s',\n",
       " 'MDvyuEQNmB0',\n",
       " 'nmyjJrE5Ev0',\n",
       " 'Zvpe4lJNLwY',\n",
       " '4S6_WETgxBE',\n",
       " '8xU9aK2ZGM0',\n",
       " 'HI8AKIFMcW0',\n",
       " 'gp0-ckvRoNI',\n",
       " 'f2WG1sEDvjs',\n",
       " 'V4uQBKBXfJ0',\n",
       " 'KW_UB4AipKk',\n",
       " 'rDq7Nsin4I8',\n",
       " '14W3wTXC5k8',\n",
       " 'vqEiVhiv6qw',\n",
       " 'D4D_sXuLbH4',\n",
       " 'hGUY5nUQuQw',\n",
       " 'z_7GyIVzVjE',\n",
       " 'EcxIMSTvuEs',\n",
       " 'MvpQbVl8c4o',\n",
       " 'MSm2inkN2hk',\n",
       " '_F2kHvVTyhM',\n",
       " 'BexolxafteM',\n",
       " 'vI0XFYSJ1mY',\n",
       " 'Jmm89kMDsiA',\n",
       " 'genaJ2H8Cds',\n",
       " 'WKfeDC28oiU',\n",
       " 'fZrCbMLsPRk',\n",
       " '8yGFDa3YFc8',\n",
       " 'TRLfVMOXCeU',\n",
       " 'b8NX_ESJCyQ',\n",
       " 'jWDm7O72PwQ',\n",
       " '0ZejywzPYXo',\n",
       " 'GmZ70Csivm8',\n",
       " '7u7BxouoYIA',\n",
       " 'fE2N2MAWzdg',\n",
       " 'DvRG8SGM5mk',\n",
       " 'HFyJ_WPfgb0',\n",
       " 'VmclZolyi9M',\n",
       " '2N1ET_5DIzs',\n",
       " 'mZmep_nM-Rc',\n",
       " 'Gn9LrIC10k8',\n",
       " '55muOLEQPNM',\n",
       " 'j6GNkw6stp8',\n",
       " 'X3fDioZkPnY',\n",
       " 'UKbS3mib5q8',\n",
       " 'PbH1RIgwOhk',\n",
       " '3LkI7qi8oyw',\n",
       " 'Jz0IT95AIRM',\n",
       " '2V8If_O9Tak',\n",
       " 'MhGZji8ZQmk',\n",
       " 'KOWqSn-Fpig',\n",
       " 'TS3HNz-D0ns',\n",
       " 'O_8Qf3zhCXo',\n",
       " 'SFa5J-0UA6Q',\n",
       " 'l5j82xkz-4Y',\n",
       " 'jNdcDkj3B8E',\n",
       " 'uyyA6DrVruE',\n",
       " 'i_WRsP-rZNY',\n",
       " 'CV8lTF6PgzI',\n",
       " 'F084f4YDusg',\n",
       " 'Wv9TS042gN4',\n",
       " 'DlJ0jGDLt-4',\n",
       " 'dYaFhGGt5fs',\n",
       " 'ohv2ri6H-rQ',\n",
       " 'XmVN8lNgZ2U',\n",
       " 'sd-R4pHwKiY',\n",
       " 'EuAPcyEX0F0',\n",
       " 'MLoFQLGPgik',\n",
       " 'bIbjSOyNQ6c',\n",
       " 'XPyrkR3__sg',\n",
       " 'cM4OVVOJc0U',\n",
       " '-CA4teISYY8',\n",
       " 'rC8X-SBF-40',\n",
       " '-3QiFYvunz0',\n",
       " '8uZ11Kx9ebs',\n",
       " 'C57n1J4LRZI',\n",
       " 'Rnc_lyqP8oU',\n",
       " 'FqsTN9PBU6g',\n",
       " 'FNumprhNCFw',\n",
       " 'rKDQcvtb2wE',\n",
       " 'drewW7UiGtc',\n",
       " '_ii_I6K4-HI',\n",
       " 'btPBVABbblA',\n",
       " 'lYMt2CHm_Kw',\n",
       " 'lhc_5GaqOsI',\n",
       " 'a0fWdnwz6vA',\n",
       " 'ucYwFnGebb8',\n",
       " 'O9nmemwrCWM',\n",
       " 'pqpYAm1xnsw',\n",
       " 'gIUlycDgaAw',\n",
       " 'ZArPZXH8ZwM',\n",
       " 'JPN2fpoHR3M',\n",
       " 'C0ZOwMx4E2Q',\n",
       " 'tOYLIdyoF6Y',\n",
       " 'cixiD2Cy7bk',\n",
       " 'D7KW_oJDeWc',\n",
       " 'z7B-LA-tcws',\n",
       " 'WGYEdxn1W2M',\n",
       " 'oZLNTqy6Zpg',\n",
       " 'm7OjZOKX6Aw',\n",
       " '_KAu0yOzymg',\n",
       " '6LZiZ2OQxRQ',\n",
       " 'FZ9j5i44h1g',\n",
       " 'NyhdltEyJ5I',\n",
       " 'lqn0n_jpvMk',\n",
       " 'r6zzVdIgA2g',\n",
       " 'ZPj3JNAG0K4',\n",
       " 'mzW7kwpkttE',\n",
       " 'ZgTSjtR2Ans',\n",
       " 'rwX4BrEUQMI',\n",
       " 'hnFUFy4GbdQ',\n",
       " 'vJwops8NB7M',\n",
       " '1dGqNBESaZc',\n",
       " 'LUKkpKwtvzE',\n",
       " 'tbGPCM7zqSI',\n",
       " 'dbgksi8I2qY',\n",
       " 'B62_JJ9u6ms',\n",
       " 'X4-C9VjnrRU',\n",
       " 'stq6OeCN874',\n",
       " 'm3AZ-wKgK8U',\n",
       " 'klhOWWR3Dq0',\n",
       " 'CxALyauK0io',\n",
       " 't2HMZxHEetE',\n",
       " 'RAiMDG4PG8k',\n",
       " 's2FNTAm_RTE',\n",
       " 'ZiWbKL5x8pQ',\n",
       " '1YmDcrB1zmw',\n",
       " 'Y5j54Z6zutk',\n",
       " 'tvq9MjrpIjM',\n",
       " 'a5_RzEUe2QI',\n",
       " 'wnFxacJG7wU',\n",
       " 'IKT5UIu9834',\n",
       " 'MJ22mrj_Z2E',\n",
       " '1emuKaCw0OY',\n",
       " 'NfV9M3UCm7Y',\n",
       " 'jgE8Bl96itM',\n",
       " '-Wq9eQialmU',\n",
       " 'g7HghRA8gcg',\n",
       " '_YRbtBVtuhU',\n",
       " 'SLvDbDW4h1M',\n",
       " 'z_TB9wKlQMs',\n",
       " 'Sai91-uYFKQ',\n",
       " 'vP1Nx5XIty8',\n",
       " 'faCFzYIqgso',\n",
       " 'm0L-Lm7cjyE',\n",
       " 'ZDGfGtCQB3s',\n",
       " 'SX6hBSTwj-w',\n",
       " 'Q3eRsdvFuBU',\n",
       " 'I6zjZBiMs74',\n",
       " 'KXPvf55XLCw',\n",
       " 'jiToqKv9KEc',\n",
       " 'M6PjrhFeq3c',\n",
       " 'B53kyCu6-BI',\n",
       " 'V2_8FbbbPiI',\n",
       " 'vFrljT43G9k',\n",
       " 'YFkyZz9c1rM',\n",
       " 'Y6CyprVPeIU',\n",
       " 'n0w1tavogis',\n",
       " 'tM6gjM2N64c',\n",
       " 'd8vh_H9Ckig',\n",
       " 'TmPFpBvDIkQ',\n",
       " 'yCfthlQsThc',\n",
       " 'x48drnmWAXU',\n",
       " 'zuEHd9aJ3Rw',\n",
       " 'pNVzQE61mcA',\n",
       " 'nKes0MaGzIw',\n",
       " 'v7BN7JnxdT8',\n",
       " 'QVu-SiZUipo',\n",
       " '_fCkIXaNd-U',\n",
       " 'bgQI9u7aiMA',\n",
       " 'KbU27DHQ6eI',\n",
       " 'OfZtfZLanbQ',\n",
       " 'BXy8_ZX2W3k',\n",
       " 'NoBnas-LcG4',\n",
       " 'vAovBU_LKl4',\n",
       " 'NSQbqEPHLIY',\n",
       " 'MVkvbnfrueA',\n",
       " 'l4IxvC5jENs',\n",
       " 'PMRoMEfudps',\n",
       " 'FwJskybtTRY',\n",
       " 'UkjGCneM6jM',\n",
       " 'F9k-sl59e8w',\n",
       " 'ndra_xByibg',\n",
       " 'zkqYk2rJogs',\n",
       " 'osLuZa7SvDw',\n",
       " 'RJe_C-iF3Bk',\n",
       " 'G4TbxV41QJw']"
      ]
     },
     "execution_count": 121,
     "metadata": {},
     "output_type": "execute_result"
    }
   ],
   "source": [
    "# retrieve video list for Matthew\n",
    "playlistID = df.loc[df['ChannelName'] == 'Matthew Hussey', 'PlaylistID'].iloc[0]\n",
    "VideoList_mat = get_videoIDs(youtube, playlistID) \n",
    "\n",
    "# retrieve video list for Apollonia\n",
    "playlistID = df.loc[df['ChannelName'] == 'Apollonia Ponti', 'PlaylistID'].iloc[0]\n",
    "VideoList_apo = get_videoIDs(youtube,  playlistID) \n",
    "VideoList_mat"
   ]
  },
  {
   "cell_type": "code",
   "execution_count": 120,
   "id": "73432e53-1325-4477-a71b-68037a1989e5",
   "metadata": {},
   "outputs": [
    {
     "data": {
      "text/plain": [
       "943"
      ]
     },
     "execution_count": 120,
     "metadata": {},
     "output_type": "execute_result"
    }
   ],
   "source": [
    "len(VideoList_mat)"
   ]
  },
  {
   "cell_type": "code",
   "execution_count": 144,
   "id": "1415d5c7-2aaa-4b65-8025-ca036e390c20",
   "metadata": {},
   "outputs": [
    {
     "ename": "HttpError",
     "evalue": "<HttpError 400 when requesting https://youtube.googleapis.com/youtube/v3/videos returned \"The request specifies an invalid filter parameter.\". Details: \"[{'message': 'The request specifies an invalid filter parameter.', 'domain': 'youtube.parameter', 'reason': 'invalidFilters', 'location': 'parameters.', 'locationType': 'other'}]\">",
     "output_type": "error",
     "traceback": [
      "\u001b[1;31m---------------------------------------------------------------------------\u001b[0m",
      "\u001b[1;31mHttpError\u001b[0m                                 Traceback (most recent call last)",
      "Cell \u001b[1;32mIn[144], line 2\u001b[0m\n\u001b[0;32m      1\u001b[0m request \u001b[38;5;241m=\u001b[39m youtube\u001b[38;5;241m.\u001b[39mvideos()\u001b[38;5;241m.\u001b[39mlist(part\u001b[38;5;241m=\u001b[39m\u001b[38;5;124m\"\u001b[39m\u001b[38;5;124msnippet,contentDetails,statistics\u001b[39m\u001b[38;5;124m\"\u001b[39m, \u001b[38;5;28mid\u001b[39m \u001b[38;5;241m=\u001b[39m VideoList_mat)\n\u001b[1;32m----> 2\u001b[0m response \u001b[38;5;241m=\u001b[39m \u001b[43mrequest\u001b[49m\u001b[38;5;241;43m.\u001b[39;49m\u001b[43mexecute\u001b[49m\u001b[43m(\u001b[49m\u001b[43m)\u001b[49m\n\u001b[0;32m      3\u001b[0m JSON(response)\n",
      "File \u001b[1;32m~\\Documents\\DataAnalytics\\Module3-Project\\venv\\Lib\\site-packages\\googleapiclient\\_helpers.py:130\u001b[0m, in \u001b[0;36mpositional.<locals>.positional_decorator.<locals>.positional_wrapper\u001b[1;34m(*args, **kwargs)\u001b[0m\n\u001b[0;32m    128\u001b[0m     \u001b[38;5;28;01melif\u001b[39;00m positional_parameters_enforcement \u001b[38;5;241m==\u001b[39m POSITIONAL_WARNING:\n\u001b[0;32m    129\u001b[0m         logger\u001b[38;5;241m.\u001b[39mwarning(message)\n\u001b[1;32m--> 130\u001b[0m \u001b[38;5;28;01mreturn\u001b[39;00m \u001b[43mwrapped\u001b[49m\u001b[43m(\u001b[49m\u001b[38;5;241;43m*\u001b[39;49m\u001b[43margs\u001b[49m\u001b[43m,\u001b[49m\u001b[43m \u001b[49m\u001b[38;5;241;43m*\u001b[39;49m\u001b[38;5;241;43m*\u001b[39;49m\u001b[43mkwargs\u001b[49m\u001b[43m)\u001b[49m\n",
      "File \u001b[1;32m~\\Documents\\DataAnalytics\\Module3-Project\\venv\\Lib\\site-packages\\googleapiclient\\http.py:938\u001b[0m, in \u001b[0;36mHttpRequest.execute\u001b[1;34m(self, http, num_retries)\u001b[0m\n\u001b[0;32m    936\u001b[0m     callback(resp)\n\u001b[0;32m    937\u001b[0m \u001b[38;5;28;01mif\u001b[39;00m resp\u001b[38;5;241m.\u001b[39mstatus \u001b[38;5;241m>\u001b[39m\u001b[38;5;241m=\u001b[39m \u001b[38;5;241m300\u001b[39m:\n\u001b[1;32m--> 938\u001b[0m     \u001b[38;5;28;01mraise\u001b[39;00m HttpError(resp, content, uri\u001b[38;5;241m=\u001b[39m\u001b[38;5;28mself\u001b[39m\u001b[38;5;241m.\u001b[39muri)\n\u001b[0;32m    939\u001b[0m \u001b[38;5;28;01mreturn\u001b[39;00m \u001b[38;5;28mself\u001b[39m\u001b[38;5;241m.\u001b[39mpostproc(resp, content)\n",
      "\u001b[1;31mHttpError\u001b[0m: <HttpError 400 when requesting https://youtube.googleapis.com/youtube/v3/videos returned \"The request specifies an invalid filter parameter.\". Details: \"[{'message': 'The request specifies an invalid filter parameter.', 'domain': 'youtube.parameter', 'reason': 'invalidFilters', 'location': 'parameters.', 'locationType': 'other'}]\">"
     ]
    }
   ],
   "source": [
    "request = youtube.videos().list(part=\"snippet,contentDetails,statistics\", id = VideoList_mat)\n",
    "response = request.execute()\n",
    "JSON(response)"
   ]
  },
  {
   "cell_type": "code",
   "execution_count": 150,
   "id": "792dd3ff-09be-43b0-8f40-16ed66e0add7",
   "metadata": {},
   "outputs": [],
   "source": [
    "'''\n",
    "Function to read through the each video of the channel and create a dataframe\n",
    "METHOD: .channels().list()\n",
    "'''\n",
    "\n",
    "def get_video_details(youtube, VideoList): \n",
    "    data = []\n",
    "    j = 0\n",
    "    \n",
    "    # Loop through the video list in batches of 50\n",
    "    while j < len(VideoList_mat):\n",
    "        # Create request\n",
    "        request = youtube.videos().list(part=\"snippet,contentDetails,statistics\", id=','.join(VideoList_mat[j:j+50]))\n",
    "        \n",
    "        try:\n",
    "            response = request.execute()\n",
    "        except Exception as e:\n",
    "            print(f\"An error occurred: {e}\")\n",
    "            j += 50\n",
    "            continue\n",
    "    \n",
    "        # Loop through the response items\n",
    "        for item in response.get('items', []):\n",
    "            info = {\n",
    "                'VideoID': item['id'],\n",
    "                'Date/Time': item['snippet']['publishedAt'],\n",
    "                'Title': item['snippet']['title'],\n",
    "                'Description': item['snippet']['description'],\n",
    "                'Tags': item['snippet'].get('tags', []),   # Tags might not always be present\n",
    "                'Duration': item['contentDetails']['duration'],\n",
    "                'Definition': item['contentDetails']['definition'],\n",
    "                'Caption': item['contentDetails']['caption'],\n",
    "                'Views': item['statistics'].get('viewCount', None),  # Handle missing statistics\n",
    "                'Likes': item['statistics'].get('likeCount', None),\n",
    "                'Favorite': item['statistics'].get('favoriteCount', None)\n",
    "            }\n",
    "            data.append(info)\n",
    "        \n",
    "        j += 50  # Increment by 50 to get the next batch of video IDs\n",
    "        print(f\"Processed up to video index: {j}\")\n",
    "    \n",
    "    # Convert the collected data into a DataFrame\n",
    "    return pd.DataFrame(data)\n",
    "    \n",
    "    # Print the DataFrame to verify\n",
    "    display(df)\n",
    "    print(f\"Total videos processed: {len(df)}\")"
   ]
  },
  {
   "cell_type": "code",
   "execution_count": 151,
   "id": "faa992d8-9e13-430f-a760-4097b0e42a55",
   "metadata": {},
   "outputs": [
    {
     "name": "stdout",
     "output_type": "stream",
     "text": [
      "Processed up to video index: 50\n",
      "Processed up to video index: 100\n",
      "Processed up to video index: 150\n",
      "Processed up to video index: 200\n",
      "Processed up to video index: 250\n",
      "Processed up to video index: 300\n",
      "Processed up to video index: 350\n",
      "Processed up to video index: 400\n",
      "Processed up to video index: 450\n",
      "Processed up to video index: 500\n",
      "Processed up to video index: 550\n",
      "Processed up to video index: 600\n",
      "Processed up to video index: 650\n",
      "Processed up to video index: 700\n",
      "Processed up to video index: 750\n",
      "Processed up to video index: 800\n",
      "Processed up to video index: 850\n",
      "Processed up to video index: 900\n",
      "Processed up to video index: 950\n"
     ]
    },
    {
     "data": {
      "text/html": [
       "<div>\n",
       "<style scoped>\n",
       "    .dataframe tbody tr th:only-of-type {\n",
       "        vertical-align: middle;\n",
       "    }\n",
       "\n",
       "    .dataframe tbody tr th {\n",
       "        vertical-align: top;\n",
       "    }\n",
       "\n",
       "    .dataframe thead th {\n",
       "        text-align: right;\n",
       "    }\n",
       "</style>\n",
       "<table border=\"1\" class=\"dataframe\">\n",
       "  <thead>\n",
       "    <tr style=\"text-align: right;\">\n",
       "      <th></th>\n",
       "      <th>VideoID</th>\n",
       "      <th>Date/Time</th>\n",
       "      <th>Title</th>\n",
       "      <th>Description</th>\n",
       "      <th>Tags</th>\n",
       "      <th>Duration</th>\n",
       "      <th>Definition</th>\n",
       "      <th>Caption</th>\n",
       "      <th>Views</th>\n",
       "      <th>Likes</th>\n",
       "      <th>Favorite</th>\n",
       "    </tr>\n",
       "  </thead>\n",
       "  <tbody>\n",
       "    <tr>\n",
       "      <th>0</th>\n",
       "      <td>L5l_X4TXrZ8</td>\n",
       "      <td>2024-05-19T11:45:01Z</td>\n",
       "      <td>How To AVOID Dating \"Players\"</td>\n",
       "      <td>►► Get Vulnerable Stories, Real Insights, and ...</td>\n",
       "      <td>[Matthew Hussey, Matt Hussey, Get The Guy, How...</td>\n",
       "      <td>PT19M53S</td>\n",
       "      <td>hd</td>\n",
       "      <td>false</td>\n",
       "      <td>16608</td>\n",
       "      <td>696</td>\n",
       "      <td>0</td>\n",
       "    </tr>\n",
       "    <tr>\n",
       "      <th>1</th>\n",
       "      <td>JgKATVJUY7A</td>\n",
       "      <td>2024-05-15T17:34:12Z</td>\n",
       "      <td>Stop These Insecure Dating Behaviors! - w/ Sab...</td>\n",
       "      <td>►► Get Vulnerable Stories, Real Insights, and ...</td>\n",
       "      <td>[Matthew Hussey, Matt Hussey, Get The Guy, How...</td>\n",
       "      <td>PT54M46S</td>\n",
       "      <td>hd</td>\n",
       "      <td>false</td>\n",
       "      <td>17225</td>\n",
       "      <td>633</td>\n",
       "      <td>0</td>\n",
       "    </tr>\n",
       "    <tr>\n",
       "      <th>2</th>\n",
       "      <td>ZQ13ZgSJwic</td>\n",
       "      <td>2024-05-15T15:00:36Z</td>\n",
       "      <td>The Problem With Pretending We're \"Fine\"</td>\n",
       "      <td>The toll pretending “we’re fine” takes on us c...</td>\n",
       "      <td>[Matthew Hussey, Matt Hussey, Get The Guy, How...</td>\n",
       "      <td>PT1M</td>\n",
       "      <td>hd</td>\n",
       "      <td>false</td>\n",
       "      <td>18988</td>\n",
       "      <td>1428</td>\n",
       "      <td>0</td>\n",
       "    </tr>\n",
       "    <tr>\n",
       "      <th>3</th>\n",
       "      <td>nHqyyt66dQk</td>\n",
       "      <td>2024-05-12T12:05:06Z</td>\n",
       "      <td>THIS Is the Most Dangerous Moment in Dating......</td>\n",
       "      <td>►► Get Vulnerable Stories, Real Insights and P...</td>\n",
       "      <td>[Matthew Hussey, Matt Hussey, Get The Guy, How...</td>\n",
       "      <td>PT12M50S</td>\n",
       "      <td>hd</td>\n",
       "      <td>false</td>\n",
       "      <td>61248</td>\n",
       "      <td>2493</td>\n",
       "      <td>0</td>\n",
       "    </tr>\n",
       "    <tr>\n",
       "      <th>4</th>\n",
       "      <td>l_Cjd2ya5R0</td>\n",
       "      <td>2024-05-11T15:00:42Z</td>\n",
       "      <td>Attracted to the Wrong People?</td>\n",
       "      <td>Why is it that we're drawn to people who treat...</td>\n",
       "      <td>[Matthew Hussey, Matt Hussey, Get The Guy, How...</td>\n",
       "      <td>PT59S</td>\n",
       "      <td>hd</td>\n",
       "      <td>false</td>\n",
       "      <td>67337</td>\n",
       "      <td>4944</td>\n",
       "      <td>0</td>\n",
       "    </tr>\n",
       "    <tr>\n",
       "      <th>...</th>\n",
       "      <td>...</td>\n",
       "      <td>...</td>\n",
       "      <td>...</td>\n",
       "      <td>...</td>\n",
       "      <td>...</td>\n",
       "      <td>...</td>\n",
       "      <td>...</td>\n",
       "      <td>...</td>\n",
       "      <td>...</td>\n",
       "      <td>...</td>\n",
       "      <td>...</td>\n",
       "    </tr>\n",
       "    <tr>\n",
       "      <th>938</th>\n",
       "      <td>ndra_xByibg</td>\n",
       "      <td>2010-07-21T09:02:05Z</td>\n",
       "      <td>How To Flirt With A Guy - Surefire Tips For Wo...</td>\n",
       "      <td>►► Confused about what to text him? Just copy ...</td>\n",
       "      <td>[flirting tips for women, flirting with men, f...</td>\n",
       "      <td>PT2M38S</td>\n",
       "      <td>hd</td>\n",
       "      <td>false</td>\n",
       "      <td>1880217</td>\n",
       "      <td>10228</td>\n",
       "      <td>0</td>\n",
       "    </tr>\n",
       "    <tr>\n",
       "      <th>939</th>\n",
       "      <td>zkqYk2rJogs</td>\n",
       "      <td>2010-07-21T08:10:50Z</td>\n",
       "      <td>Powerful Conversational Flirting Tips For Wome...</td>\n",
       "      <td>►► Confused about what to text him? Just copy ...</td>\n",
       "      <td>[flirting tips for women, flirting, flirting a...</td>\n",
       "      <td>PT2M13S</td>\n",
       "      <td>hd</td>\n",
       "      <td>false</td>\n",
       "      <td>923858</td>\n",
       "      <td>4294</td>\n",
       "      <td>0</td>\n",
       "    </tr>\n",
       "    <tr>\n",
       "      <th>940</th>\n",
       "      <td>osLuZa7SvDw</td>\n",
       "      <td>2010-07-16T11:51:38Z</td>\n",
       "      <td>The Best Places To Go On A Date - Avoid Gettin...</td>\n",
       "      <td>►► Confused about what to text him? Just copy ...</td>\n",
       "      <td>[places to go on a date, dating advice, matthe...</td>\n",
       "      <td>PT1M50S</td>\n",
       "      <td>hd</td>\n",
       "      <td>false</td>\n",
       "      <td>171259</td>\n",
       "      <td>1216</td>\n",
       "      <td>0</td>\n",
       "    </tr>\n",
       "    <tr>\n",
       "      <th>941</th>\n",
       "      <td>RJe_C-iF3Bk</td>\n",
       "      <td>2010-07-15T17:43:41Z</td>\n",
       "      <td>How To Tell If A Guy Likes You Instantly - Pro...</td>\n",
       "      <td>►► Confused About Why Men Disappear? My FREE g...</td>\n",
       "      <td>[how to tell if a guy likes you, how to know i...</td>\n",
       "      <td>PT1M32S</td>\n",
       "      <td>hd</td>\n",
       "      <td>false</td>\n",
       "      <td>2799427</td>\n",
       "      <td>13832</td>\n",
       "      <td>0</td>\n",
       "    </tr>\n",
       "    <tr>\n",
       "      <th>942</th>\n",
       "      <td>G4TbxV41QJw</td>\n",
       "      <td>2010-07-15T16:52:43Z</td>\n",
       "      <td>What You Should NEVER Say To A Guy (Matthew Hu...</td>\n",
       "      <td>►► Confused about what to text him? Just copy ...</td>\n",
       "      <td>[never say this to a guy, never say this to me...</td>\n",
       "      <td>PT1M15S</td>\n",
       "      <td>hd</td>\n",
       "      <td>false</td>\n",
       "      <td>2795968</td>\n",
       "      <td>11385</td>\n",
       "      <td>0</td>\n",
       "    </tr>\n",
       "  </tbody>\n",
       "</table>\n",
       "<p>943 rows × 11 columns</p>\n",
       "</div>"
      ],
      "text/plain": [
       "         VideoID             Date/Time  \\\n",
       "0    L5l_X4TXrZ8  2024-05-19T11:45:01Z   \n",
       "1    JgKATVJUY7A  2024-05-15T17:34:12Z   \n",
       "2    ZQ13ZgSJwic  2024-05-15T15:00:36Z   \n",
       "3    nHqyyt66dQk  2024-05-12T12:05:06Z   \n",
       "4    l_Cjd2ya5R0  2024-05-11T15:00:42Z   \n",
       "..           ...                   ...   \n",
       "938  ndra_xByibg  2010-07-21T09:02:05Z   \n",
       "939  zkqYk2rJogs  2010-07-21T08:10:50Z   \n",
       "940  osLuZa7SvDw  2010-07-16T11:51:38Z   \n",
       "941  RJe_C-iF3Bk  2010-07-15T17:43:41Z   \n",
       "942  G4TbxV41QJw  2010-07-15T16:52:43Z   \n",
       "\n",
       "                                                 Title  \\\n",
       "0                        How To AVOID Dating \"Players\"   \n",
       "1    Stop These Insecure Dating Behaviors! - w/ Sab...   \n",
       "2             The Problem With Pretending We're \"Fine\"   \n",
       "3    THIS Is the Most Dangerous Moment in Dating......   \n",
       "4                       Attracted to the Wrong People?   \n",
       "..                                                 ...   \n",
       "938  How To Flirt With A Guy - Surefire Tips For Wo...   \n",
       "939  Powerful Conversational Flirting Tips For Wome...   \n",
       "940  The Best Places To Go On A Date - Avoid Gettin...   \n",
       "941  How To Tell If A Guy Likes You Instantly - Pro...   \n",
       "942  What You Should NEVER Say To A Guy (Matthew Hu...   \n",
       "\n",
       "                                           Description  \\\n",
       "0    ►► Get Vulnerable Stories, Real Insights, and ...   \n",
       "1    ►► Get Vulnerable Stories, Real Insights, and ...   \n",
       "2    The toll pretending “we’re fine” takes on us c...   \n",
       "3    ►► Get Vulnerable Stories, Real Insights and P...   \n",
       "4    Why is it that we're drawn to people who treat...   \n",
       "..                                                 ...   \n",
       "938  ►► Confused about what to text him? Just copy ...   \n",
       "939  ►► Confused about what to text him? Just copy ...   \n",
       "940  ►► Confused about what to text him? Just copy ...   \n",
       "941  ►► Confused About Why Men Disappear? My FREE g...   \n",
       "942  ►► Confused about what to text him? Just copy ...   \n",
       "\n",
       "                                                  Tags  Duration Definition  \\\n",
       "0    [Matthew Hussey, Matt Hussey, Get The Guy, How...  PT19M53S         hd   \n",
       "1    [Matthew Hussey, Matt Hussey, Get The Guy, How...  PT54M46S         hd   \n",
       "2    [Matthew Hussey, Matt Hussey, Get The Guy, How...      PT1M         hd   \n",
       "3    [Matthew Hussey, Matt Hussey, Get The Guy, How...  PT12M50S         hd   \n",
       "4    [Matthew Hussey, Matt Hussey, Get The Guy, How...     PT59S         hd   \n",
       "..                                                 ...       ...        ...   \n",
       "938  [flirting tips for women, flirting with men, f...   PT2M38S         hd   \n",
       "939  [flirting tips for women, flirting, flirting a...   PT2M13S         hd   \n",
       "940  [places to go on a date, dating advice, matthe...   PT1M50S         hd   \n",
       "941  [how to tell if a guy likes you, how to know i...   PT1M32S         hd   \n",
       "942  [never say this to a guy, never say this to me...   PT1M15S         hd   \n",
       "\n",
       "    Caption    Views  Likes Favorite  \n",
       "0     false    16608    696        0  \n",
       "1     false    17225    633        0  \n",
       "2     false    18988   1428        0  \n",
       "3     false    61248   2493        0  \n",
       "4     false    67337   4944        0  \n",
       "..      ...      ...    ...      ...  \n",
       "938   false  1880217  10228        0  \n",
       "939   false   923858   4294        0  \n",
       "940   false   171259   1216        0  \n",
       "941   false  2799427  13832        0  \n",
       "942   false  2795968  11385        0  \n",
       "\n",
       "[943 rows x 11 columns]"
      ]
     },
     "execution_count": 151,
     "metadata": {},
     "output_type": "execute_result"
    }
   ],
   "source": [
    "video_mat = get_video_details(youtube, VideoList_mat)\n",
    "video_mat"
   ]
  },
  {
   "cell_type": "code",
   "execution_count": null,
   "id": "677b4722-1c83-4aa0-b262-d0af4ce6fa6f",
   "metadata": {},
   "outputs": [],
   "source": [
    "j = 0\n",
    "data = []\n",
    "# Loop through the video list in batches of 50\n",
    "while j < len(VideoList_mat):\n",
    "    \n",
    "    \n",
    "    # create request\n",
    "    request = youtube.videos().list(part=\"snippet,contentDetails,statistics\", id = VideoList_mat[j:j+50])\n",
    "    response = request.execute()\n",
    "    \n",
    "    # loop through the channel\n",
    "    for item in response['items']:\n",
    "        info = { 'VideoID': item['id'],\n",
    "                'Date/Time': item['snippet']['publishedAt'],\n",
    "                'Title': item['snippet']['title'],\n",
    "                'Description': item['snippet']['description'],\n",
    "                'Tags': item['snippet'].get('tags', []),   # Tags might not always be present\n",
    "                'Duration': item['contentDetails']['duration'], \n",
    "                'Definition': item['contentDetails']['definition'],\n",
    "                'Caption': item['contentDetails']['caption'], \n",
    "                'Views': item['statistics'].get('viewCount', None),  # Handle missing statistics\n",
    "                'Likes': item['statistics'].get('likeCount', None),\n",
    "                'Favorite': item['statistics'].get('favoriteCount', None) }\n",
    "        data.append(info)\n",
    "    j+=51\n",
    "    print(j) # Increment by 50 to get the next batch of video IDs\n"
   ]
  },
  {
   "cell_type": "code",
   "execution_count": 147,
   "id": "004bb84b-2237-4688-a587-3c42481d9676",
   "metadata": {},
   "outputs": [
    {
     "data": {
      "text/html": [
       "<div>\n",
       "<style scoped>\n",
       "    .dataframe tbody tr th:only-of-type {\n",
       "        vertical-align: middle;\n",
       "    }\n",
       "\n",
       "    .dataframe tbody tr th {\n",
       "        vertical-align: top;\n",
       "    }\n",
       "\n",
       "    .dataframe thead th {\n",
       "        text-align: right;\n",
       "    }\n",
       "</style>\n",
       "<table border=\"1\" class=\"dataframe\">\n",
       "  <thead>\n",
       "    <tr style=\"text-align: right;\">\n",
       "      <th></th>\n",
       "      <th>VideoID</th>\n",
       "      <th>Date/Time</th>\n",
       "      <th>Title</th>\n",
       "      <th>Description</th>\n",
       "      <th>Tags</th>\n",
       "      <th>Duration</th>\n",
       "      <th>Definition</th>\n",
       "      <th>Caption</th>\n",
       "      <th>Views</th>\n",
       "      <th>Likes</th>\n",
       "      <th>Favorite</th>\n",
       "    </tr>\n",
       "  </thead>\n",
       "  <tbody>\n",
       "    <tr>\n",
       "      <th>0</th>\n",
       "      <td>L5l_X4TXrZ8</td>\n",
       "      <td>2024-05-19T11:45:01Z</td>\n",
       "      <td>How To AVOID Dating \"Players\"</td>\n",
       "      <td>►► Get Vulnerable Stories, Real Insights, and ...</td>\n",
       "      <td>[Matthew Hussey, Matt Hussey, Get The Guy, How...</td>\n",
       "      <td>PT19M53S</td>\n",
       "      <td>hd</td>\n",
       "      <td>false</td>\n",
       "      <td>16570</td>\n",
       "      <td>696</td>\n",
       "      <td>0</td>\n",
       "    </tr>\n",
       "    <tr>\n",
       "      <th>1</th>\n",
       "      <td>JgKATVJUY7A</td>\n",
       "      <td>2024-05-15T17:34:12Z</td>\n",
       "      <td>Stop These Insecure Dating Behaviors! - w/ Sab...</td>\n",
       "      <td>►► Get Vulnerable Stories, Real Insights, and ...</td>\n",
       "      <td>[Matthew Hussey, Matt Hussey, Get The Guy, How...</td>\n",
       "      <td>PT54M46S</td>\n",
       "      <td>hd</td>\n",
       "      <td>false</td>\n",
       "      <td>17220</td>\n",
       "      <td>632</td>\n",
       "      <td>0</td>\n",
       "    </tr>\n",
       "    <tr>\n",
       "      <th>2</th>\n",
       "      <td>ZQ13ZgSJwic</td>\n",
       "      <td>2024-05-15T15:00:36Z</td>\n",
       "      <td>The Problem With Pretending We're \"Fine\"</td>\n",
       "      <td>The toll pretending “we’re fine” takes on us c...</td>\n",
       "      <td>[Matthew Hussey, Matt Hussey, Get The Guy, How...</td>\n",
       "      <td>PT1M</td>\n",
       "      <td>hd</td>\n",
       "      <td>false</td>\n",
       "      <td>18984</td>\n",
       "      <td>1428</td>\n",
       "      <td>0</td>\n",
       "    </tr>\n",
       "    <tr>\n",
       "      <th>3</th>\n",
       "      <td>nHqyyt66dQk</td>\n",
       "      <td>2024-05-12T12:05:06Z</td>\n",
       "      <td>THIS Is the Most Dangerous Moment in Dating......</td>\n",
       "      <td>►► Get Vulnerable Stories, Real Insights and P...</td>\n",
       "      <td>[Matthew Hussey, Matt Hussey, Get The Guy, How...</td>\n",
       "      <td>PT12M50S</td>\n",
       "      <td>hd</td>\n",
       "      <td>false</td>\n",
       "      <td>61232</td>\n",
       "      <td>2493</td>\n",
       "      <td>0</td>\n",
       "    </tr>\n",
       "    <tr>\n",
       "      <th>4</th>\n",
       "      <td>l_Cjd2ya5R0</td>\n",
       "      <td>2024-05-11T15:00:42Z</td>\n",
       "      <td>Attracted to the Wrong People?</td>\n",
       "      <td>Why is it that we're drawn to people who treat...</td>\n",
       "      <td>[Matthew Hussey, Matt Hussey, Get The Guy, How...</td>\n",
       "      <td>PT59S</td>\n",
       "      <td>hd</td>\n",
       "      <td>false</td>\n",
       "      <td>67321</td>\n",
       "      <td>4942</td>\n",
       "      <td>0</td>\n",
       "    </tr>\n",
       "    <tr>\n",
       "      <th>...</th>\n",
       "      <td>...</td>\n",
       "      <td>...</td>\n",
       "      <td>...</td>\n",
       "      <td>...</td>\n",
       "      <td>...</td>\n",
       "      <td>...</td>\n",
       "      <td>...</td>\n",
       "      <td>...</td>\n",
       "      <td>...</td>\n",
       "      <td>...</td>\n",
       "      <td>...</td>\n",
       "    </tr>\n",
       "    <tr>\n",
       "      <th>920</th>\n",
       "      <td>ndra_xByibg</td>\n",
       "      <td>2010-07-21T09:02:05Z</td>\n",
       "      <td>How To Flirt With A Guy - Surefire Tips For Wo...</td>\n",
       "      <td>►► Confused about what to text him? Just copy ...</td>\n",
       "      <td>[flirting tips for women, flirting with men, f...</td>\n",
       "      <td>PT2M38S</td>\n",
       "      <td>hd</td>\n",
       "      <td>false</td>\n",
       "      <td>1880217</td>\n",
       "      <td>10228</td>\n",
       "      <td>0</td>\n",
       "    </tr>\n",
       "    <tr>\n",
       "      <th>921</th>\n",
       "      <td>zkqYk2rJogs</td>\n",
       "      <td>2010-07-21T08:10:50Z</td>\n",
       "      <td>Powerful Conversational Flirting Tips For Wome...</td>\n",
       "      <td>►► Confused about what to text him? Just copy ...</td>\n",
       "      <td>[flirting tips for women, flirting, flirting a...</td>\n",
       "      <td>PT2M13S</td>\n",
       "      <td>hd</td>\n",
       "      <td>false</td>\n",
       "      <td>923858</td>\n",
       "      <td>4294</td>\n",
       "      <td>0</td>\n",
       "    </tr>\n",
       "    <tr>\n",
       "      <th>922</th>\n",
       "      <td>osLuZa7SvDw</td>\n",
       "      <td>2010-07-16T11:51:38Z</td>\n",
       "      <td>The Best Places To Go On A Date - Avoid Gettin...</td>\n",
       "      <td>►► Confused about what to text him? Just copy ...</td>\n",
       "      <td>[places to go on a date, dating advice, matthe...</td>\n",
       "      <td>PT1M50S</td>\n",
       "      <td>hd</td>\n",
       "      <td>false</td>\n",
       "      <td>171259</td>\n",
       "      <td>1216</td>\n",
       "      <td>0</td>\n",
       "    </tr>\n",
       "    <tr>\n",
       "      <th>923</th>\n",
       "      <td>RJe_C-iF3Bk</td>\n",
       "      <td>2010-07-15T17:43:41Z</td>\n",
       "      <td>How To Tell If A Guy Likes You Instantly - Pro...</td>\n",
       "      <td>►► Confused About Why Men Disappear? My FREE g...</td>\n",
       "      <td>[how to tell if a guy likes you, how to know i...</td>\n",
       "      <td>PT1M32S</td>\n",
       "      <td>hd</td>\n",
       "      <td>false</td>\n",
       "      <td>2799427</td>\n",
       "      <td>13832</td>\n",
       "      <td>0</td>\n",
       "    </tr>\n",
       "    <tr>\n",
       "      <th>924</th>\n",
       "      <td>G4TbxV41QJw</td>\n",
       "      <td>2010-07-15T16:52:43Z</td>\n",
       "      <td>What You Should NEVER Say To A Guy (Matthew Hu...</td>\n",
       "      <td>►► Confused about what to text him? Just copy ...</td>\n",
       "      <td>[never say this to a guy, never say this to me...</td>\n",
       "      <td>PT1M15S</td>\n",
       "      <td>hd</td>\n",
       "      <td>false</td>\n",
       "      <td>2795968</td>\n",
       "      <td>11385</td>\n",
       "      <td>0</td>\n",
       "    </tr>\n",
       "  </tbody>\n",
       "</table>\n",
       "<p>925 rows × 11 columns</p>\n",
       "</div>"
      ],
      "text/plain": [
       "         VideoID             Date/Time  \\\n",
       "0    L5l_X4TXrZ8  2024-05-19T11:45:01Z   \n",
       "1    JgKATVJUY7A  2024-05-15T17:34:12Z   \n",
       "2    ZQ13ZgSJwic  2024-05-15T15:00:36Z   \n",
       "3    nHqyyt66dQk  2024-05-12T12:05:06Z   \n",
       "4    l_Cjd2ya5R0  2024-05-11T15:00:42Z   \n",
       "..           ...                   ...   \n",
       "920  ndra_xByibg  2010-07-21T09:02:05Z   \n",
       "921  zkqYk2rJogs  2010-07-21T08:10:50Z   \n",
       "922  osLuZa7SvDw  2010-07-16T11:51:38Z   \n",
       "923  RJe_C-iF3Bk  2010-07-15T17:43:41Z   \n",
       "924  G4TbxV41QJw  2010-07-15T16:52:43Z   \n",
       "\n",
       "                                                 Title  \\\n",
       "0                        How To AVOID Dating \"Players\"   \n",
       "1    Stop These Insecure Dating Behaviors! - w/ Sab...   \n",
       "2             The Problem With Pretending We're \"Fine\"   \n",
       "3    THIS Is the Most Dangerous Moment in Dating......   \n",
       "4                       Attracted to the Wrong People?   \n",
       "..                                                 ...   \n",
       "920  How To Flirt With A Guy - Surefire Tips For Wo...   \n",
       "921  Powerful Conversational Flirting Tips For Wome...   \n",
       "922  The Best Places To Go On A Date - Avoid Gettin...   \n",
       "923  How To Tell If A Guy Likes You Instantly - Pro...   \n",
       "924  What You Should NEVER Say To A Guy (Matthew Hu...   \n",
       "\n",
       "                                           Description  \\\n",
       "0    ►► Get Vulnerable Stories, Real Insights, and ...   \n",
       "1    ►► Get Vulnerable Stories, Real Insights, and ...   \n",
       "2    The toll pretending “we’re fine” takes on us c...   \n",
       "3    ►► Get Vulnerable Stories, Real Insights and P...   \n",
       "4    Why is it that we're drawn to people who treat...   \n",
       "..                                                 ...   \n",
       "920  ►► Confused about what to text him? Just copy ...   \n",
       "921  ►► Confused about what to text him? Just copy ...   \n",
       "922  ►► Confused about what to text him? Just copy ...   \n",
       "923  ►► Confused About Why Men Disappear? My FREE g...   \n",
       "924  ►► Confused about what to text him? Just copy ...   \n",
       "\n",
       "                                                  Tags  Duration Definition  \\\n",
       "0    [Matthew Hussey, Matt Hussey, Get The Guy, How...  PT19M53S         hd   \n",
       "1    [Matthew Hussey, Matt Hussey, Get The Guy, How...  PT54M46S         hd   \n",
       "2    [Matthew Hussey, Matt Hussey, Get The Guy, How...      PT1M         hd   \n",
       "3    [Matthew Hussey, Matt Hussey, Get The Guy, How...  PT12M50S         hd   \n",
       "4    [Matthew Hussey, Matt Hussey, Get The Guy, How...     PT59S         hd   \n",
       "..                                                 ...       ...        ...   \n",
       "920  [flirting tips for women, flirting with men, f...   PT2M38S         hd   \n",
       "921  [flirting tips for women, flirting, flirting a...   PT2M13S         hd   \n",
       "922  [places to go on a date, dating advice, matthe...   PT1M50S         hd   \n",
       "923  [how to tell if a guy likes you, how to know i...   PT1M32S         hd   \n",
       "924  [never say this to a guy, never say this to me...   PT1M15S         hd   \n",
       "\n",
       "    Caption    Views  Likes Favorite  \n",
       "0     false    16570    696        0  \n",
       "1     false    17220    632        0  \n",
       "2     false    18984   1428        0  \n",
       "3     false    61232   2493        0  \n",
       "4     false    67321   4942        0  \n",
       "..      ...      ...    ...      ...  \n",
       "920   false  1880217  10228        0  \n",
       "921   false   923858   4294        0  \n",
       "922   false   171259   1216        0  \n",
       "923   false  2799427  13832        0  \n",
       "924   false  2795968  11385        0  \n",
       "\n",
       "[925 rows x 11 columns]"
      ]
     },
     "execution_count": 147,
     "metadata": {},
     "output_type": "execute_result"
    }
   ],
   "source": [
    "pd.DataFrame(data)"
   ]
  },
  {
   "cell_type": "code",
   "execution_count": 149,
   "id": "d9068c57-2da7-4f73-88b6-e495c6dd7c36",
   "metadata": {},
   "outputs": [
    {
     "name": "stdout",
     "output_type": "stream",
     "text": [
      "Processed up to video index: 50\n",
      "Processed up to video index: 100\n",
      "Processed up to video index: 150\n",
      "Processed up to video index: 200\n",
      "Processed up to video index: 250\n",
      "Processed up to video index: 300\n",
      "Processed up to video index: 350\n",
      "Processed up to video index: 400\n",
      "Processed up to video index: 450\n",
      "Processed up to video index: 500\n",
      "Processed up to video index: 550\n",
      "Processed up to video index: 600\n",
      "Processed up to video index: 650\n",
      "Processed up to video index: 700\n",
      "Processed up to video index: 750\n",
      "Processed up to video index: 800\n",
      "Processed up to video index: 850\n",
      "Processed up to video index: 900\n",
      "Processed up to video index: 950\n"
     ]
    },
    {
     "data": {
      "text/html": [
       "<div>\n",
       "<style scoped>\n",
       "    .dataframe tbody tr th:only-of-type {\n",
       "        vertical-align: middle;\n",
       "    }\n",
       "\n",
       "    .dataframe tbody tr th {\n",
       "        vertical-align: top;\n",
       "    }\n",
       "\n",
       "    .dataframe thead th {\n",
       "        text-align: right;\n",
       "    }\n",
       "</style>\n",
       "<table border=\"1\" class=\"dataframe\">\n",
       "  <thead>\n",
       "    <tr style=\"text-align: right;\">\n",
       "      <th></th>\n",
       "      <th>VideoID</th>\n",
       "      <th>Date/Time</th>\n",
       "      <th>Title</th>\n",
       "      <th>Description</th>\n",
       "      <th>Tags</th>\n",
       "      <th>Duration</th>\n",
       "      <th>Definition</th>\n",
       "      <th>Caption</th>\n",
       "      <th>Views</th>\n",
       "      <th>Likes</th>\n",
       "      <th>Favorite</th>\n",
       "    </tr>\n",
       "  </thead>\n",
       "  <tbody>\n",
       "    <tr>\n",
       "      <th>0</th>\n",
       "      <td>L5l_X4TXrZ8</td>\n",
       "      <td>2024-05-19T11:45:01Z</td>\n",
       "      <td>How To AVOID Dating \"Players\"</td>\n",
       "      <td>►► Get Vulnerable Stories, Real Insights, and ...</td>\n",
       "      <td>[Matthew Hussey, Matt Hussey, Get The Guy, How...</td>\n",
       "      <td>PT19M53S</td>\n",
       "      <td>hd</td>\n",
       "      <td>false</td>\n",
       "      <td>16608</td>\n",
       "      <td>696</td>\n",
       "      <td>0</td>\n",
       "    </tr>\n",
       "    <tr>\n",
       "      <th>1</th>\n",
       "      <td>JgKATVJUY7A</td>\n",
       "      <td>2024-05-15T17:34:12Z</td>\n",
       "      <td>Stop These Insecure Dating Behaviors! - w/ Sab...</td>\n",
       "      <td>►► Get Vulnerable Stories, Real Insights, and ...</td>\n",
       "      <td>[Matthew Hussey, Matt Hussey, Get The Guy, How...</td>\n",
       "      <td>PT54M46S</td>\n",
       "      <td>hd</td>\n",
       "      <td>false</td>\n",
       "      <td>17225</td>\n",
       "      <td>633</td>\n",
       "      <td>0</td>\n",
       "    </tr>\n",
       "    <tr>\n",
       "      <th>2</th>\n",
       "      <td>ZQ13ZgSJwic</td>\n",
       "      <td>2024-05-15T15:00:36Z</td>\n",
       "      <td>The Problem With Pretending We're \"Fine\"</td>\n",
       "      <td>The toll pretending “we’re fine” takes on us c...</td>\n",
       "      <td>[Matthew Hussey, Matt Hussey, Get The Guy, How...</td>\n",
       "      <td>PT1M</td>\n",
       "      <td>hd</td>\n",
       "      <td>false</td>\n",
       "      <td>18988</td>\n",
       "      <td>1428</td>\n",
       "      <td>0</td>\n",
       "    </tr>\n",
       "    <tr>\n",
       "      <th>3</th>\n",
       "      <td>nHqyyt66dQk</td>\n",
       "      <td>2024-05-12T12:05:06Z</td>\n",
       "      <td>THIS Is the Most Dangerous Moment in Dating......</td>\n",
       "      <td>►► Get Vulnerable Stories, Real Insights and P...</td>\n",
       "      <td>[Matthew Hussey, Matt Hussey, Get The Guy, How...</td>\n",
       "      <td>PT12M50S</td>\n",
       "      <td>hd</td>\n",
       "      <td>false</td>\n",
       "      <td>61238</td>\n",
       "      <td>2493</td>\n",
       "      <td>0</td>\n",
       "    </tr>\n",
       "    <tr>\n",
       "      <th>4</th>\n",
       "      <td>l_Cjd2ya5R0</td>\n",
       "      <td>2024-05-11T15:00:42Z</td>\n",
       "      <td>Attracted to the Wrong People?</td>\n",
       "      <td>Why is it that we're drawn to people who treat...</td>\n",
       "      <td>[Matthew Hussey, Matt Hussey, Get The Guy, How...</td>\n",
       "      <td>PT59S</td>\n",
       "      <td>hd</td>\n",
       "      <td>false</td>\n",
       "      <td>67337</td>\n",
       "      <td>4944</td>\n",
       "      <td>0</td>\n",
       "    </tr>\n",
       "    <tr>\n",
       "      <th>...</th>\n",
       "      <td>...</td>\n",
       "      <td>...</td>\n",
       "      <td>...</td>\n",
       "      <td>...</td>\n",
       "      <td>...</td>\n",
       "      <td>...</td>\n",
       "      <td>...</td>\n",
       "      <td>...</td>\n",
       "      <td>...</td>\n",
       "      <td>...</td>\n",
       "      <td>...</td>\n",
       "    </tr>\n",
       "    <tr>\n",
       "      <th>938</th>\n",
       "      <td>ndra_xByibg</td>\n",
       "      <td>2010-07-21T09:02:05Z</td>\n",
       "      <td>How To Flirt With A Guy - Surefire Tips For Wo...</td>\n",
       "      <td>►► Confused about what to text him? Just copy ...</td>\n",
       "      <td>[flirting tips for women, flirting with men, f...</td>\n",
       "      <td>PT2M38S</td>\n",
       "      <td>hd</td>\n",
       "      <td>false</td>\n",
       "      <td>1880217</td>\n",
       "      <td>10228</td>\n",
       "      <td>0</td>\n",
       "    </tr>\n",
       "    <tr>\n",
       "      <th>939</th>\n",
       "      <td>zkqYk2rJogs</td>\n",
       "      <td>2010-07-21T08:10:50Z</td>\n",
       "      <td>Powerful Conversational Flirting Tips For Wome...</td>\n",
       "      <td>►► Confused about what to text him? Just copy ...</td>\n",
       "      <td>[flirting tips for women, flirting, flirting a...</td>\n",
       "      <td>PT2M13S</td>\n",
       "      <td>hd</td>\n",
       "      <td>false</td>\n",
       "      <td>923858</td>\n",
       "      <td>4294</td>\n",
       "      <td>0</td>\n",
       "    </tr>\n",
       "    <tr>\n",
       "      <th>940</th>\n",
       "      <td>osLuZa7SvDw</td>\n",
       "      <td>2010-07-16T11:51:38Z</td>\n",
       "      <td>The Best Places To Go On A Date - Avoid Gettin...</td>\n",
       "      <td>►► Confused about what to text him? Just copy ...</td>\n",
       "      <td>[places to go on a date, dating advice, matthe...</td>\n",
       "      <td>PT1M50S</td>\n",
       "      <td>hd</td>\n",
       "      <td>false</td>\n",
       "      <td>171259</td>\n",
       "      <td>1216</td>\n",
       "      <td>0</td>\n",
       "    </tr>\n",
       "    <tr>\n",
       "      <th>941</th>\n",
       "      <td>RJe_C-iF3Bk</td>\n",
       "      <td>2010-07-15T17:43:41Z</td>\n",
       "      <td>How To Tell If A Guy Likes You Instantly - Pro...</td>\n",
       "      <td>►► Confused About Why Men Disappear? My FREE g...</td>\n",
       "      <td>[how to tell if a guy likes you, how to know i...</td>\n",
       "      <td>PT1M32S</td>\n",
       "      <td>hd</td>\n",
       "      <td>false</td>\n",
       "      <td>2799427</td>\n",
       "      <td>13832</td>\n",
       "      <td>0</td>\n",
       "    </tr>\n",
       "    <tr>\n",
       "      <th>942</th>\n",
       "      <td>G4TbxV41QJw</td>\n",
       "      <td>2010-07-15T16:52:43Z</td>\n",
       "      <td>What You Should NEVER Say To A Guy (Matthew Hu...</td>\n",
       "      <td>►► Confused about what to text him? Just copy ...</td>\n",
       "      <td>[never say this to a guy, never say this to me...</td>\n",
       "      <td>PT1M15S</td>\n",
       "      <td>hd</td>\n",
       "      <td>false</td>\n",
       "      <td>2795968</td>\n",
       "      <td>11385</td>\n",
       "      <td>0</td>\n",
       "    </tr>\n",
       "  </tbody>\n",
       "</table>\n",
       "<p>943 rows × 11 columns</p>\n",
       "</div>"
      ],
      "text/plain": [
       "         VideoID             Date/Time  \\\n",
       "0    L5l_X4TXrZ8  2024-05-19T11:45:01Z   \n",
       "1    JgKATVJUY7A  2024-05-15T17:34:12Z   \n",
       "2    ZQ13ZgSJwic  2024-05-15T15:00:36Z   \n",
       "3    nHqyyt66dQk  2024-05-12T12:05:06Z   \n",
       "4    l_Cjd2ya5R0  2024-05-11T15:00:42Z   \n",
       "..           ...                   ...   \n",
       "938  ndra_xByibg  2010-07-21T09:02:05Z   \n",
       "939  zkqYk2rJogs  2010-07-21T08:10:50Z   \n",
       "940  osLuZa7SvDw  2010-07-16T11:51:38Z   \n",
       "941  RJe_C-iF3Bk  2010-07-15T17:43:41Z   \n",
       "942  G4TbxV41QJw  2010-07-15T16:52:43Z   \n",
       "\n",
       "                                                 Title  \\\n",
       "0                        How To AVOID Dating \"Players\"   \n",
       "1    Stop These Insecure Dating Behaviors! - w/ Sab...   \n",
       "2             The Problem With Pretending We're \"Fine\"   \n",
       "3    THIS Is the Most Dangerous Moment in Dating......   \n",
       "4                       Attracted to the Wrong People?   \n",
       "..                                                 ...   \n",
       "938  How To Flirt With A Guy - Surefire Tips For Wo...   \n",
       "939  Powerful Conversational Flirting Tips For Wome...   \n",
       "940  The Best Places To Go On A Date - Avoid Gettin...   \n",
       "941  How To Tell If A Guy Likes You Instantly - Pro...   \n",
       "942  What You Should NEVER Say To A Guy (Matthew Hu...   \n",
       "\n",
       "                                           Description  \\\n",
       "0    ►► Get Vulnerable Stories, Real Insights, and ...   \n",
       "1    ►► Get Vulnerable Stories, Real Insights, and ...   \n",
       "2    The toll pretending “we’re fine” takes on us c...   \n",
       "3    ►► Get Vulnerable Stories, Real Insights and P...   \n",
       "4    Why is it that we're drawn to people who treat...   \n",
       "..                                                 ...   \n",
       "938  ►► Confused about what to text him? Just copy ...   \n",
       "939  ►► Confused about what to text him? Just copy ...   \n",
       "940  ►► Confused about what to text him? Just copy ...   \n",
       "941  ►► Confused About Why Men Disappear? My FREE g...   \n",
       "942  ►► Confused about what to text him? Just copy ...   \n",
       "\n",
       "                                                  Tags  Duration Definition  \\\n",
       "0    [Matthew Hussey, Matt Hussey, Get The Guy, How...  PT19M53S         hd   \n",
       "1    [Matthew Hussey, Matt Hussey, Get The Guy, How...  PT54M46S         hd   \n",
       "2    [Matthew Hussey, Matt Hussey, Get The Guy, How...      PT1M         hd   \n",
       "3    [Matthew Hussey, Matt Hussey, Get The Guy, How...  PT12M50S         hd   \n",
       "4    [Matthew Hussey, Matt Hussey, Get The Guy, How...     PT59S         hd   \n",
       "..                                                 ...       ...        ...   \n",
       "938  [flirting tips for women, flirting with men, f...   PT2M38S         hd   \n",
       "939  [flirting tips for women, flirting, flirting a...   PT2M13S         hd   \n",
       "940  [places to go on a date, dating advice, matthe...   PT1M50S         hd   \n",
       "941  [how to tell if a guy likes you, how to know i...   PT1M32S         hd   \n",
       "942  [never say this to a guy, never say this to me...   PT1M15S         hd   \n",
       "\n",
       "    Caption    Views  Likes Favorite  \n",
       "0     false    16608    696        0  \n",
       "1     false    17225    633        0  \n",
       "2     false    18988   1428        0  \n",
       "3     false    61238   2493        0  \n",
       "4     false    67337   4944        0  \n",
       "..      ...      ...    ...      ...  \n",
       "938   false  1880217  10228        0  \n",
       "939   false   923858   4294        0  \n",
       "940   false   171259   1216        0  \n",
       "941   false  2799427  13832        0  \n",
       "942   false  2795968  11385        0  \n",
       "\n",
       "[943 rows x 11 columns]"
      ]
     },
     "metadata": {},
     "output_type": "display_data"
    },
    {
     "name": "stdout",
     "output_type": "stream",
     "text": [
      "Total videos processed: 943\n"
     ]
    }
   ],
   "source": [
    "data = []\n",
    "j = 0\n",
    "\n",
    "# Loop through the video list in batches of 50\n",
    "while j < len(VideoList_mat):\n",
    "    # Create request\n",
    "    request = youtube.videos().list(part=\"snippet,contentDetails,statistics\", id=','.join(VideoList_mat[j:j+50]))\n",
    "    \n",
    "    try:\n",
    "        response = request.execute()\n",
    "    except Exception as e:\n",
    "        print(f\"An error occurred: {e}\")\n",
    "        j += 50\n",
    "        continue\n",
    "\n",
    "    # Loop through the response items\n",
    "    for item in response.get('items', []):\n",
    "        info = {\n",
    "            'VideoID': item['id'],\n",
    "            'Date/Time': item['snippet']['publishedAt'],\n",
    "            'Title': item['snippet']['title'],\n",
    "            'Description': item['snippet']['description'],\n",
    "            'Tags': item['snippet'].get('tags', []),   # Tags might not always be present\n",
    "            'Duration': item['contentDetails']['duration'],\n",
    "            'Definition': item['contentDetails']['definition'],\n",
    "            'Caption': item['contentDetails']['caption'],\n",
    "            'Views': item['statistics'].get('viewCount', None),  # Handle missing statistics\n",
    "            'Likes': item['statistics'].get('likeCount', None),\n",
    "            'Favorite': item['statistics'].get('favoriteCount', None)\n",
    "        }\n",
    "        data.append(info)\n",
    "    \n",
    "    j += 50  # Increment by 50 to get the next batch of video IDs\n",
    "    print(f\"Processed up to video index: {j}\")\n",
    "\n",
    "# Convert the collected data into a DataFrame\n",
    "df = pd.DataFrame(data)\n",
    "\n",
    "# Print the DataFrame to verify\n",
    "display(df)\n",
    "print(f\"Total videos processed: {len(df)}\")"
   ]
  },
  {
   "cell_type": "code",
   "execution_count": null,
   "id": "ae3c522e-ecf3-49da-809b-5ea2fc7aa982",
   "metadata": {},
   "outputs": [],
   "source": []
  }
 ],
 "metadata": {
  "kernelspec": {
   "display_name": "venv",
   "language": "python",
   "name": "venv"
  },
  "language_info": {
   "codemirror_mode": {
    "name": "ipython",
    "version": 3
   },
   "file_extension": ".py",
   "mimetype": "text/x-python",
   "name": "python",
   "nbconvert_exporter": "python",
   "pygments_lexer": "ipython3",
   "version": "3.11.7"
  }
 },
 "nbformat": 4,
 "nbformat_minor": 5
}
